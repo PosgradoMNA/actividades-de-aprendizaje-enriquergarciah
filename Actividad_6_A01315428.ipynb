{
  "nbformat": 4,
  "nbformat_minor": 0,
  "metadata": {
    "colab": {
      "provenance": [],
      "collapsed_sections": []
    },
    "kernelspec": {
      "name": "python3",
      "display_name": "Python 3"
    },
    "language_info": {
      "name": "python"
    }
  },
  "cells": [
    {
      "cell_type": "code",
      "source": [
        "import pandas as pd"
      ],
      "metadata": {
        "id": "DXc6Zhy5Op0k"
      },
      "execution_count": 218,
      "outputs": []
    },
    {
      "cell_type": "code",
      "execution_count": 219,
      "metadata": {
        "colab": {
          "base_uri": "https://localhost:8080/",
          "height": 235
        },
        "id": "e8E7raAwNNoQ",
        "outputId": "41f960bd-ce50-4d11-deb9-bf2d384aafc0"
      },
      "outputs": [
        {
          "output_type": "execute_result",
          "data": {
            "text/plain": [
              "       X1   X2   X3   X4    X5   X6   X7   X8   X9  X10  ...      X15  \\\n",
              "0   20000  2.0  2.0  1.0  24.0  2.0  2.0 -1.0 -1.0 -2.0  ...      0.0   \n",
              "1  120000  2.0  2.0  2.0  26.0 -1.0  2.0  0.0  0.0  0.0  ...   3272.0   \n",
              "2   90000  2.0  2.0  2.0  34.0  0.0  0.0  0.0  0.0  0.0  ...  14331.0   \n",
              "3   50000  2.0  2.0  1.0  37.0  0.0  0.0  0.0  0.0  0.0  ...  28314.0   \n",
              "4   50000  1.0  2.0  1.0  57.0 -1.0  0.0 -1.0  0.0  0.0  ...  20940.0   \n",
              "\n",
              "       X16      X17     X18      X19      X20     X21     X22     X23    Y  \n",
              "0      0.0      0.0     0.0    689.0      0.0     0.0     0.0     0.0  1.0  \n",
              "1   3455.0   3261.0     0.0   1000.0   1000.0  1000.0     0.0  2000.0  1.0  \n",
              "2  14948.0  15549.0  1518.0   1500.0   1000.0  1000.0  1000.0  5000.0  0.0  \n",
              "3  28959.0  29547.0  2000.0   2019.0   1200.0  1100.0  1069.0  1000.0  0.0  \n",
              "4  19146.0  19131.0  2000.0  36681.0  10000.0  9000.0   689.0   679.0  0.0  \n",
              "\n",
              "[5 rows x 24 columns]"
            ],
            "text/html": [
              "\n",
              "  <div id=\"df-2887398f-f309-43e2-9717-7848668d6779\">\n",
              "    <div class=\"colab-df-container\">\n",
              "      <div>\n",
              "<style scoped>\n",
              "    .dataframe tbody tr th:only-of-type {\n",
              "        vertical-align: middle;\n",
              "    }\n",
              "\n",
              "    .dataframe tbody tr th {\n",
              "        vertical-align: top;\n",
              "    }\n",
              "\n",
              "    .dataframe thead th {\n",
              "        text-align: right;\n",
              "    }\n",
              "</style>\n",
              "<table border=\"1\" class=\"dataframe\">\n",
              "  <thead>\n",
              "    <tr style=\"text-align: right;\">\n",
              "      <th></th>\n",
              "      <th>X1</th>\n",
              "      <th>X2</th>\n",
              "      <th>X3</th>\n",
              "      <th>X4</th>\n",
              "      <th>X5</th>\n",
              "      <th>X6</th>\n",
              "      <th>X7</th>\n",
              "      <th>X8</th>\n",
              "      <th>X9</th>\n",
              "      <th>X10</th>\n",
              "      <th>...</th>\n",
              "      <th>X15</th>\n",
              "      <th>X16</th>\n",
              "      <th>X17</th>\n",
              "      <th>X18</th>\n",
              "      <th>X19</th>\n",
              "      <th>X20</th>\n",
              "      <th>X21</th>\n",
              "      <th>X22</th>\n",
              "      <th>X23</th>\n",
              "      <th>Y</th>\n",
              "    </tr>\n",
              "  </thead>\n",
              "  <tbody>\n",
              "    <tr>\n",
              "      <th>0</th>\n",
              "      <td>20000</td>\n",
              "      <td>2.0</td>\n",
              "      <td>2.0</td>\n",
              "      <td>1.0</td>\n",
              "      <td>24.0</td>\n",
              "      <td>2.0</td>\n",
              "      <td>2.0</td>\n",
              "      <td>-1.0</td>\n",
              "      <td>-1.0</td>\n",
              "      <td>-2.0</td>\n",
              "      <td>...</td>\n",
              "      <td>0.0</td>\n",
              "      <td>0.0</td>\n",
              "      <td>0.0</td>\n",
              "      <td>0.0</td>\n",
              "      <td>689.0</td>\n",
              "      <td>0.0</td>\n",
              "      <td>0.0</td>\n",
              "      <td>0.0</td>\n",
              "      <td>0.0</td>\n",
              "      <td>1.0</td>\n",
              "    </tr>\n",
              "    <tr>\n",
              "      <th>1</th>\n",
              "      <td>120000</td>\n",
              "      <td>2.0</td>\n",
              "      <td>2.0</td>\n",
              "      <td>2.0</td>\n",
              "      <td>26.0</td>\n",
              "      <td>-1.0</td>\n",
              "      <td>2.0</td>\n",
              "      <td>0.0</td>\n",
              "      <td>0.0</td>\n",
              "      <td>0.0</td>\n",
              "      <td>...</td>\n",
              "      <td>3272.0</td>\n",
              "      <td>3455.0</td>\n",
              "      <td>3261.0</td>\n",
              "      <td>0.0</td>\n",
              "      <td>1000.0</td>\n",
              "      <td>1000.0</td>\n",
              "      <td>1000.0</td>\n",
              "      <td>0.0</td>\n",
              "      <td>2000.0</td>\n",
              "      <td>1.0</td>\n",
              "    </tr>\n",
              "    <tr>\n",
              "      <th>2</th>\n",
              "      <td>90000</td>\n",
              "      <td>2.0</td>\n",
              "      <td>2.0</td>\n",
              "      <td>2.0</td>\n",
              "      <td>34.0</td>\n",
              "      <td>0.0</td>\n",
              "      <td>0.0</td>\n",
              "      <td>0.0</td>\n",
              "      <td>0.0</td>\n",
              "      <td>0.0</td>\n",
              "      <td>...</td>\n",
              "      <td>14331.0</td>\n",
              "      <td>14948.0</td>\n",
              "      <td>15549.0</td>\n",
              "      <td>1518.0</td>\n",
              "      <td>1500.0</td>\n",
              "      <td>1000.0</td>\n",
              "      <td>1000.0</td>\n",
              "      <td>1000.0</td>\n",
              "      <td>5000.0</td>\n",
              "      <td>0.0</td>\n",
              "    </tr>\n",
              "    <tr>\n",
              "      <th>3</th>\n",
              "      <td>50000</td>\n",
              "      <td>2.0</td>\n",
              "      <td>2.0</td>\n",
              "      <td>1.0</td>\n",
              "      <td>37.0</td>\n",
              "      <td>0.0</td>\n",
              "      <td>0.0</td>\n",
              "      <td>0.0</td>\n",
              "      <td>0.0</td>\n",
              "      <td>0.0</td>\n",
              "      <td>...</td>\n",
              "      <td>28314.0</td>\n",
              "      <td>28959.0</td>\n",
              "      <td>29547.0</td>\n",
              "      <td>2000.0</td>\n",
              "      <td>2019.0</td>\n",
              "      <td>1200.0</td>\n",
              "      <td>1100.0</td>\n",
              "      <td>1069.0</td>\n",
              "      <td>1000.0</td>\n",
              "      <td>0.0</td>\n",
              "    </tr>\n",
              "    <tr>\n",
              "      <th>4</th>\n",
              "      <td>50000</td>\n",
              "      <td>1.0</td>\n",
              "      <td>2.0</td>\n",
              "      <td>1.0</td>\n",
              "      <td>57.0</td>\n",
              "      <td>-1.0</td>\n",
              "      <td>0.0</td>\n",
              "      <td>-1.0</td>\n",
              "      <td>0.0</td>\n",
              "      <td>0.0</td>\n",
              "      <td>...</td>\n",
              "      <td>20940.0</td>\n",
              "      <td>19146.0</td>\n",
              "      <td>19131.0</td>\n",
              "      <td>2000.0</td>\n",
              "      <td>36681.0</td>\n",
              "      <td>10000.0</td>\n",
              "      <td>9000.0</td>\n",
              "      <td>689.0</td>\n",
              "      <td>679.0</td>\n",
              "      <td>0.0</td>\n",
              "    </tr>\n",
              "  </tbody>\n",
              "</table>\n",
              "<p>5 rows × 24 columns</p>\n",
              "</div>\n",
              "      <button class=\"colab-df-convert\" onclick=\"convertToInteractive('df-2887398f-f309-43e2-9717-7848668d6779')\"\n",
              "              title=\"Convert this dataframe to an interactive table.\"\n",
              "              style=\"display:none;\">\n",
              "        \n",
              "  <svg xmlns=\"http://www.w3.org/2000/svg\" height=\"24px\"viewBox=\"0 0 24 24\"\n",
              "       width=\"24px\">\n",
              "    <path d=\"M0 0h24v24H0V0z\" fill=\"none\"/>\n",
              "    <path d=\"M18.56 5.44l.94 2.06.94-2.06 2.06-.94-2.06-.94-.94-2.06-.94 2.06-2.06.94zm-11 1L8.5 8.5l.94-2.06 2.06-.94-2.06-.94L8.5 2.5l-.94 2.06-2.06.94zm10 10l.94 2.06.94-2.06 2.06-.94-2.06-.94-.94-2.06-.94 2.06-2.06.94z\"/><path d=\"M17.41 7.96l-1.37-1.37c-.4-.4-.92-.59-1.43-.59-.52 0-1.04.2-1.43.59L10.3 9.45l-7.72 7.72c-.78.78-.78 2.05 0 2.83L4 21.41c.39.39.9.59 1.41.59.51 0 1.02-.2 1.41-.59l7.78-7.78 2.81-2.81c.8-.78.8-2.07 0-2.86zM5.41 20L4 18.59l7.72-7.72 1.47 1.35L5.41 20z\"/>\n",
              "  </svg>\n",
              "      </button>\n",
              "      \n",
              "  <style>\n",
              "    .colab-df-container {\n",
              "      display:flex;\n",
              "      flex-wrap:wrap;\n",
              "      gap: 12px;\n",
              "    }\n",
              "\n",
              "    .colab-df-convert {\n",
              "      background-color: #E8F0FE;\n",
              "      border: none;\n",
              "      border-radius: 50%;\n",
              "      cursor: pointer;\n",
              "      display: none;\n",
              "      fill: #1967D2;\n",
              "      height: 32px;\n",
              "      padding: 0 0 0 0;\n",
              "      width: 32px;\n",
              "    }\n",
              "\n",
              "    .colab-df-convert:hover {\n",
              "      background-color: #E2EBFA;\n",
              "      box-shadow: 0px 1px 2px rgba(60, 64, 67, 0.3), 0px 1px 3px 1px rgba(60, 64, 67, 0.15);\n",
              "      fill: #174EA6;\n",
              "    }\n",
              "\n",
              "    [theme=dark] .colab-df-convert {\n",
              "      background-color: #3B4455;\n",
              "      fill: #D2E3FC;\n",
              "    }\n",
              "\n",
              "    [theme=dark] .colab-df-convert:hover {\n",
              "      background-color: #434B5C;\n",
              "      box-shadow: 0px 1px 3px 1px rgba(0, 0, 0, 0.15);\n",
              "      filter: drop-shadow(0px 1px 2px rgba(0, 0, 0, 0.3));\n",
              "      fill: #FFFFFF;\n",
              "    }\n",
              "  </style>\n",
              "\n",
              "      <script>\n",
              "        const buttonEl =\n",
              "          document.querySelector('#df-2887398f-f309-43e2-9717-7848668d6779 button.colab-df-convert');\n",
              "        buttonEl.style.display =\n",
              "          google.colab.kernel.accessAllowed ? 'block' : 'none';\n",
              "\n",
              "        async function convertToInteractive(key) {\n",
              "          const element = document.querySelector('#df-2887398f-f309-43e2-9717-7848668d6779');\n",
              "          const dataTable =\n",
              "            await google.colab.kernel.invokeFunction('convertToInteractive',\n",
              "                                                     [key], {});\n",
              "          if (!dataTable) return;\n",
              "\n",
              "          const docLinkHtml = 'Like what you see? Visit the ' +\n",
              "            '<a target=\"_blank\" href=https://colab.research.google.com/notebooks/data_table.ipynb>data table notebook</a>'\n",
              "            + ' to learn more about interactive tables.';\n",
              "          element.innerHTML = '';\n",
              "          dataTable['output_type'] = 'display_data';\n",
              "          await google.colab.output.renderOutput(dataTable, element);\n",
              "          const docLink = document.createElement('div');\n",
              "          docLink.innerHTML = docLinkHtml;\n",
              "          element.appendChild(docLink);\n",
              "        }\n",
              "      </script>\n",
              "    </div>\n",
              "  </div>\n",
              "  "
            ]
          },
          "metadata": {},
          "execution_count": 219
        }
      ],
      "source": [
        "#Visualización de datos\n",
        "#Importación de datos\n",
        "#Actualizar con la ruta donde se está almacenando el archivo\n",
        "df = pd.read_csv('https://raw.githubusercontent.com/PosgradoMNA/Actividades_Aprendizaje-/main/default%20of%20credit%20card%20clients.csv', sep = ',')\n",
        "df=df.drop(['ID'],axis=1)\n",
        "df.head()"
      ]
    },
    {
      "cell_type": "code",
      "source": [
        "df.columns = ['credit_amount', 'gender', 'education', 'marital_status', 'age',\n",
        "              'payment_status_sep05', 'payment_status_aug05', 'payment_status_jul05', 'payment_status_jun05', 'payment_status_may05','payment_status_apr05',\n",
        "              'bill_amount_sep05', 'bill_amount_aug05', 'bill_amount_jul05', 'bill_amount_jun05', 'bill_amount_may05', 'bill_amount_apr05',\n",
        "              'amount_paid_sep05', 'amount_paid_aug05', 'amount_paid_jul05','amount_paid_jun05','amount_paid_may05','amount_paid_apr05',\n",
        "              'default']\n",
        "df.head(5)"
      ],
      "metadata": {
        "colab": {
          "base_uri": "https://localhost:8080/",
          "height": 299
        },
        "id": "pfFSUe-1OuY4",
        "outputId": "2dd91651-1d6c-4322-d566-08fc5fcf536b"
      },
      "execution_count": 220,
      "outputs": [
        {
          "output_type": "execute_result",
          "data": {
            "text/plain": [
              "   credit_amount  gender  education  marital_status   age  \\\n",
              "0          20000     2.0        2.0             1.0  24.0   \n",
              "1         120000     2.0        2.0             2.0  26.0   \n",
              "2          90000     2.0        2.0             2.0  34.0   \n",
              "3          50000     2.0        2.0             1.0  37.0   \n",
              "4          50000     1.0        2.0             1.0  57.0   \n",
              "\n",
              "   payment_status_sep05  payment_status_aug05  payment_status_jul05  \\\n",
              "0                   2.0                   2.0                  -1.0   \n",
              "1                  -1.0                   2.0                   0.0   \n",
              "2                   0.0                   0.0                   0.0   \n",
              "3                   0.0                   0.0                   0.0   \n",
              "4                  -1.0                   0.0                  -1.0   \n",
              "\n",
              "   payment_status_jun05  payment_status_may05  ...  bill_amount_jun05  \\\n",
              "0                  -1.0                  -2.0  ...                0.0   \n",
              "1                   0.0                   0.0  ...             3272.0   \n",
              "2                   0.0                   0.0  ...            14331.0   \n",
              "3                   0.0                   0.0  ...            28314.0   \n",
              "4                   0.0                   0.0  ...            20940.0   \n",
              "\n",
              "   bill_amount_may05  bill_amount_apr05  amount_paid_sep05  amount_paid_aug05  \\\n",
              "0                0.0                0.0                0.0              689.0   \n",
              "1             3455.0             3261.0                0.0             1000.0   \n",
              "2            14948.0            15549.0             1518.0             1500.0   \n",
              "3            28959.0            29547.0             2000.0             2019.0   \n",
              "4            19146.0            19131.0             2000.0            36681.0   \n",
              "\n",
              "   amount_paid_jul05  amount_paid_jun05  amount_paid_may05  amount_paid_apr05  \\\n",
              "0                0.0                0.0                0.0                0.0   \n",
              "1             1000.0             1000.0                0.0             2000.0   \n",
              "2             1000.0             1000.0             1000.0             5000.0   \n",
              "3             1200.0             1100.0             1069.0             1000.0   \n",
              "4            10000.0             9000.0              689.0              679.0   \n",
              "\n",
              "   default  \n",
              "0      1.0  \n",
              "1      1.0  \n",
              "2      0.0  \n",
              "3      0.0  \n",
              "4      0.0  \n",
              "\n",
              "[5 rows x 24 columns]"
            ],
            "text/html": [
              "\n",
              "  <div id=\"df-f05838bd-fc0a-4811-9da4-4348a3154faf\">\n",
              "    <div class=\"colab-df-container\">\n",
              "      <div>\n",
              "<style scoped>\n",
              "    .dataframe tbody tr th:only-of-type {\n",
              "        vertical-align: middle;\n",
              "    }\n",
              "\n",
              "    .dataframe tbody tr th {\n",
              "        vertical-align: top;\n",
              "    }\n",
              "\n",
              "    .dataframe thead th {\n",
              "        text-align: right;\n",
              "    }\n",
              "</style>\n",
              "<table border=\"1\" class=\"dataframe\">\n",
              "  <thead>\n",
              "    <tr style=\"text-align: right;\">\n",
              "      <th></th>\n",
              "      <th>credit_amount</th>\n",
              "      <th>gender</th>\n",
              "      <th>education</th>\n",
              "      <th>marital_status</th>\n",
              "      <th>age</th>\n",
              "      <th>payment_status_sep05</th>\n",
              "      <th>payment_status_aug05</th>\n",
              "      <th>payment_status_jul05</th>\n",
              "      <th>payment_status_jun05</th>\n",
              "      <th>payment_status_may05</th>\n",
              "      <th>...</th>\n",
              "      <th>bill_amount_jun05</th>\n",
              "      <th>bill_amount_may05</th>\n",
              "      <th>bill_amount_apr05</th>\n",
              "      <th>amount_paid_sep05</th>\n",
              "      <th>amount_paid_aug05</th>\n",
              "      <th>amount_paid_jul05</th>\n",
              "      <th>amount_paid_jun05</th>\n",
              "      <th>amount_paid_may05</th>\n",
              "      <th>amount_paid_apr05</th>\n",
              "      <th>default</th>\n",
              "    </tr>\n",
              "  </thead>\n",
              "  <tbody>\n",
              "    <tr>\n",
              "      <th>0</th>\n",
              "      <td>20000</td>\n",
              "      <td>2.0</td>\n",
              "      <td>2.0</td>\n",
              "      <td>1.0</td>\n",
              "      <td>24.0</td>\n",
              "      <td>2.0</td>\n",
              "      <td>2.0</td>\n",
              "      <td>-1.0</td>\n",
              "      <td>-1.0</td>\n",
              "      <td>-2.0</td>\n",
              "      <td>...</td>\n",
              "      <td>0.0</td>\n",
              "      <td>0.0</td>\n",
              "      <td>0.0</td>\n",
              "      <td>0.0</td>\n",
              "      <td>689.0</td>\n",
              "      <td>0.0</td>\n",
              "      <td>0.0</td>\n",
              "      <td>0.0</td>\n",
              "      <td>0.0</td>\n",
              "      <td>1.0</td>\n",
              "    </tr>\n",
              "    <tr>\n",
              "      <th>1</th>\n",
              "      <td>120000</td>\n",
              "      <td>2.0</td>\n",
              "      <td>2.0</td>\n",
              "      <td>2.0</td>\n",
              "      <td>26.0</td>\n",
              "      <td>-1.0</td>\n",
              "      <td>2.0</td>\n",
              "      <td>0.0</td>\n",
              "      <td>0.0</td>\n",
              "      <td>0.0</td>\n",
              "      <td>...</td>\n",
              "      <td>3272.0</td>\n",
              "      <td>3455.0</td>\n",
              "      <td>3261.0</td>\n",
              "      <td>0.0</td>\n",
              "      <td>1000.0</td>\n",
              "      <td>1000.0</td>\n",
              "      <td>1000.0</td>\n",
              "      <td>0.0</td>\n",
              "      <td>2000.0</td>\n",
              "      <td>1.0</td>\n",
              "    </tr>\n",
              "    <tr>\n",
              "      <th>2</th>\n",
              "      <td>90000</td>\n",
              "      <td>2.0</td>\n",
              "      <td>2.0</td>\n",
              "      <td>2.0</td>\n",
              "      <td>34.0</td>\n",
              "      <td>0.0</td>\n",
              "      <td>0.0</td>\n",
              "      <td>0.0</td>\n",
              "      <td>0.0</td>\n",
              "      <td>0.0</td>\n",
              "      <td>...</td>\n",
              "      <td>14331.0</td>\n",
              "      <td>14948.0</td>\n",
              "      <td>15549.0</td>\n",
              "      <td>1518.0</td>\n",
              "      <td>1500.0</td>\n",
              "      <td>1000.0</td>\n",
              "      <td>1000.0</td>\n",
              "      <td>1000.0</td>\n",
              "      <td>5000.0</td>\n",
              "      <td>0.0</td>\n",
              "    </tr>\n",
              "    <tr>\n",
              "      <th>3</th>\n",
              "      <td>50000</td>\n",
              "      <td>2.0</td>\n",
              "      <td>2.0</td>\n",
              "      <td>1.0</td>\n",
              "      <td>37.0</td>\n",
              "      <td>0.0</td>\n",
              "      <td>0.0</td>\n",
              "      <td>0.0</td>\n",
              "      <td>0.0</td>\n",
              "      <td>0.0</td>\n",
              "      <td>...</td>\n",
              "      <td>28314.0</td>\n",
              "      <td>28959.0</td>\n",
              "      <td>29547.0</td>\n",
              "      <td>2000.0</td>\n",
              "      <td>2019.0</td>\n",
              "      <td>1200.0</td>\n",
              "      <td>1100.0</td>\n",
              "      <td>1069.0</td>\n",
              "      <td>1000.0</td>\n",
              "      <td>0.0</td>\n",
              "    </tr>\n",
              "    <tr>\n",
              "      <th>4</th>\n",
              "      <td>50000</td>\n",
              "      <td>1.0</td>\n",
              "      <td>2.0</td>\n",
              "      <td>1.0</td>\n",
              "      <td>57.0</td>\n",
              "      <td>-1.0</td>\n",
              "      <td>0.0</td>\n",
              "      <td>-1.0</td>\n",
              "      <td>0.0</td>\n",
              "      <td>0.0</td>\n",
              "      <td>...</td>\n",
              "      <td>20940.0</td>\n",
              "      <td>19146.0</td>\n",
              "      <td>19131.0</td>\n",
              "      <td>2000.0</td>\n",
              "      <td>36681.0</td>\n",
              "      <td>10000.0</td>\n",
              "      <td>9000.0</td>\n",
              "      <td>689.0</td>\n",
              "      <td>679.0</td>\n",
              "      <td>0.0</td>\n",
              "    </tr>\n",
              "  </tbody>\n",
              "</table>\n",
              "<p>5 rows × 24 columns</p>\n",
              "</div>\n",
              "      <button class=\"colab-df-convert\" onclick=\"convertToInteractive('df-f05838bd-fc0a-4811-9da4-4348a3154faf')\"\n",
              "              title=\"Convert this dataframe to an interactive table.\"\n",
              "              style=\"display:none;\">\n",
              "        \n",
              "  <svg xmlns=\"http://www.w3.org/2000/svg\" height=\"24px\"viewBox=\"0 0 24 24\"\n",
              "       width=\"24px\">\n",
              "    <path d=\"M0 0h24v24H0V0z\" fill=\"none\"/>\n",
              "    <path d=\"M18.56 5.44l.94 2.06.94-2.06 2.06-.94-2.06-.94-.94-2.06-.94 2.06-2.06.94zm-11 1L8.5 8.5l.94-2.06 2.06-.94-2.06-.94L8.5 2.5l-.94 2.06-2.06.94zm10 10l.94 2.06.94-2.06 2.06-.94-2.06-.94-.94-2.06-.94 2.06-2.06.94z\"/><path d=\"M17.41 7.96l-1.37-1.37c-.4-.4-.92-.59-1.43-.59-.52 0-1.04.2-1.43.59L10.3 9.45l-7.72 7.72c-.78.78-.78 2.05 0 2.83L4 21.41c.39.39.9.59 1.41.59.51 0 1.02-.2 1.41-.59l7.78-7.78 2.81-2.81c.8-.78.8-2.07 0-2.86zM5.41 20L4 18.59l7.72-7.72 1.47 1.35L5.41 20z\"/>\n",
              "  </svg>\n",
              "      </button>\n",
              "      \n",
              "  <style>\n",
              "    .colab-df-container {\n",
              "      display:flex;\n",
              "      flex-wrap:wrap;\n",
              "      gap: 12px;\n",
              "    }\n",
              "\n",
              "    .colab-df-convert {\n",
              "      background-color: #E8F0FE;\n",
              "      border: none;\n",
              "      border-radius: 50%;\n",
              "      cursor: pointer;\n",
              "      display: none;\n",
              "      fill: #1967D2;\n",
              "      height: 32px;\n",
              "      padding: 0 0 0 0;\n",
              "      width: 32px;\n",
              "    }\n",
              "\n",
              "    .colab-df-convert:hover {\n",
              "      background-color: #E2EBFA;\n",
              "      box-shadow: 0px 1px 2px rgba(60, 64, 67, 0.3), 0px 1px 3px 1px rgba(60, 64, 67, 0.15);\n",
              "      fill: #174EA6;\n",
              "    }\n",
              "\n",
              "    [theme=dark] .colab-df-convert {\n",
              "      background-color: #3B4455;\n",
              "      fill: #D2E3FC;\n",
              "    }\n",
              "\n",
              "    [theme=dark] .colab-df-convert:hover {\n",
              "      background-color: #434B5C;\n",
              "      box-shadow: 0px 1px 3px 1px rgba(0, 0, 0, 0.15);\n",
              "      filter: drop-shadow(0px 1px 2px rgba(0, 0, 0, 0.3));\n",
              "      fill: #FFFFFF;\n",
              "    }\n",
              "  </style>\n",
              "\n",
              "      <script>\n",
              "        const buttonEl =\n",
              "          document.querySelector('#df-f05838bd-fc0a-4811-9da4-4348a3154faf button.colab-df-convert');\n",
              "        buttonEl.style.display =\n",
              "          google.colab.kernel.accessAllowed ? 'block' : 'none';\n",
              "\n",
              "        async function convertToInteractive(key) {\n",
              "          const element = document.querySelector('#df-f05838bd-fc0a-4811-9da4-4348a3154faf');\n",
              "          const dataTable =\n",
              "            await google.colab.kernel.invokeFunction('convertToInteractive',\n",
              "                                                     [key], {});\n",
              "          if (!dataTable) return;\n",
              "\n",
              "          const docLinkHtml = 'Like what you see? Visit the ' +\n",
              "            '<a target=\"_blank\" href=https://colab.research.google.com/notebooks/data_table.ipynb>data table notebook</a>'\n",
              "            + ' to learn more about interactive tables.';\n",
              "          element.innerHTML = '';\n",
              "          dataTable['output_type'] = 'display_data';\n",
              "          await google.colab.output.renderOutput(dataTable, element);\n",
              "          const docLink = document.createElement('div');\n",
              "          docLink.innerHTML = docLinkHtml;\n",
              "          element.appendChild(docLink);\n",
              "        }\n",
              "      </script>\n",
              "    </div>\n",
              "  </div>\n",
              "  "
            ]
          },
          "metadata": {},
          "execution_count": 220
        }
      ]
    },
    {
      "cell_type": "code",
      "source": [
        "#Redefinición de tipo de variables\n",
        "# #Redefinición de algunas variables\n",
        "df['gender'] = df['gender'].astype(str) #Género,  1: Hombre, 2: Mujer\n",
        "df['education'] = df['education'].astype(str) # 1: postgrado, 2: universidad, 3: preparatoria, 4: otro\n",
        "df['marital_status'] = df['marital_status'].astype(str) # 1: Casado, 2: soltero, 3:otro\n",
        "df['payment_status_sep05'] = df['payment_status_sep05'].astype(str) \n",
        "df['payment_status_aug05'] = df['payment_status_aug05'].astype(str) \n",
        "df['payment_status_jul05'] = df['payment_status_jul05'].astype(str) \n",
        "df['payment_status_jun05'] = df['payment_status_jun05'].astype(str) \n",
        "df['payment_status_may05'] = df['payment_status_may05'].astype(str) \n",
        "df['payment_status_apr05'] = df['payment_status_apr05'].astype(str) \n",
        "df['default'] = df['default'].astype(bool)"
      ],
      "metadata": {
        "id": "G4h2Tl2wU-yh"
      },
      "execution_count": 221,
      "outputs": []
    },
    {
      "cell_type": "code",
      "source": [
        "df.isna().sum()"
      ],
      "metadata": {
        "colab": {
          "base_uri": "https://localhost:8080/"
        },
        "id": "L9CZP5hjXEob",
        "outputId": "a73ba866-a7fa-41e8-a1bb-14991d4d26f1"
      },
      "execution_count": 222,
      "outputs": [
        {
          "output_type": "execute_result",
          "data": {
            "text/plain": [
              "credit_amount            0\n",
              "gender                   0\n",
              "education                0\n",
              "marital_status           0\n",
              "age                      5\n",
              "payment_status_sep05     0\n",
              "payment_status_aug05     0\n",
              "payment_status_jul05     0\n",
              "payment_status_jun05     0\n",
              "payment_status_may05     0\n",
              "payment_status_apr05     0\n",
              "bill_amount_sep05       11\n",
              "bill_amount_aug05       11\n",
              "bill_amount_jul05       13\n",
              "bill_amount_jun05       15\n",
              "bill_amount_may05       17\n",
              "bill_amount_apr05       10\n",
              "amount_paid_sep05        8\n",
              "amount_paid_aug05        9\n",
              "amount_paid_jul05        8\n",
              "amount_paid_jun05       11\n",
              "amount_paid_may05       11\n",
              "amount_paid_apr05        5\n",
              "default                  0\n",
              "dtype: int64"
            ]
          },
          "metadata": {},
          "execution_count": 222
        }
      ]
    },
    {
      "cell_type": "code",
      "source": [
        "df.describe(include='all')"
      ],
      "metadata": {
        "colab": {
          "base_uri": "https://localhost:8080/",
          "height": 487
        },
        "id": "8rpD_VXiXmQx",
        "outputId": "f4f1776f-b776-4c50-86a9-233d8a6d1524"
      },
      "execution_count": 224,
      "outputs": [
        {
          "output_type": "execute_result",
          "data": {
            "text/plain": [
              "         credit_amount gender education marital_status           age  \\\n",
              "count     30000.000000  30000     30000          30000  29995.000000   \n",
              "unique             NaN      3         8              5           NaN   \n",
              "top                NaN    2.0       2.0            2.0           NaN   \n",
              "freq               NaN  18112     14030          15964           NaN   \n",
              "mean     167484.322667    NaN       NaN            NaN     35.484214   \n",
              "std      129747.661567    NaN       NaN            NaN      9.218024   \n",
              "min       10000.000000    NaN       NaN            NaN     21.000000   \n",
              "25%       50000.000000    NaN       NaN            NaN     28.000000   \n",
              "50%      140000.000000    NaN       NaN            NaN     34.000000   \n",
              "75%      240000.000000    NaN       NaN            NaN     41.000000   \n",
              "max     1000000.000000    NaN       NaN            NaN     79.000000   \n",
              "\n",
              "       payment_status_sep05 payment_status_aug05 payment_status_jul05  \\\n",
              "count                 30000                30000                30000   \n",
              "unique                   12                   12                   12   \n",
              "top                     0.0                  0.0                  0.0   \n",
              "freq                  14736                15728                15761   \n",
              "mean                    NaN                  NaN                  NaN   \n",
              "std                     NaN                  NaN                  NaN   \n",
              "min                     NaN                  NaN                  NaN   \n",
              "25%                     NaN                  NaN                  NaN   \n",
              "50%                     NaN                  NaN                  NaN   \n",
              "75%                     NaN                  NaN                  NaN   \n",
              "max                     NaN                  NaN                  NaN   \n",
              "\n",
              "       payment_status_jun05 payment_status_may05  ... bill_amount_jun05  \\\n",
              "count                 30000                30000  ...      29985.000000   \n",
              "unique                   12                   11  ...               NaN   \n",
              "top                     0.0                  0.0  ...               NaN   \n",
              "freq                  16450                16937  ...               NaN   \n",
              "mean                    NaN                  NaN  ...      43275.652326   \n",
              "std                     NaN                  NaN  ...      64345.500073   \n",
              "min                     NaN                  NaN  ...    -170000.000000   \n",
              "25%                     NaN                  NaN  ...       2329.000000   \n",
              "50%                     NaN                  NaN  ...      19052.000000   \n",
              "75%                     NaN                  NaN  ...      54560.000000   \n",
              "max                     NaN                  NaN  ...     891586.000000   \n",
              "\n",
              "        bill_amount_may05  bill_amount_apr05  amount_paid_sep05  \\\n",
              "count        29983.000000       29990.000000       29992.000000   \n",
              "unique                NaN                NaN                NaN   \n",
              "top                   NaN                NaN                NaN   \n",
              "freq                  NaN                NaN                NaN   \n",
              "mean         40324.493980       38881.135745        5662.945886   \n",
              "std          60809.984983       59561.312967       16564.165089   \n",
              "min         -81334.000000     -339603.000000           0.000000   \n",
              "25%           1763.500000        1256.250000        1000.000000   \n",
              "50%          18107.000000       17081.000000        2100.000000   \n",
              "75%          50213.000000       49208.250000        5006.000000   \n",
              "max         927171.000000      961664.000000      873552.000000   \n",
              "\n",
              "        amount_paid_aug05  amount_paid_jul05  amount_paid_jun05  \\\n",
              "count        2.999100e+04       29992.000000       29989.000000   \n",
              "unique                NaN                NaN                NaN   \n",
              "top                   NaN                NaN                NaN   \n",
              "freq                  NaN                NaN                NaN   \n",
              "mean         5.922489e+03        5225.623400        4827.252526   \n",
              "std          2.304418e+04       17608.422625       15668.751975   \n",
              "min          0.000000e+00           0.000000           0.000000   \n",
              "25%          8.355000e+02         390.000000         296.000000   \n",
              "50%          2.009000e+03        1800.000000        1500.000000   \n",
              "75%          5.000000e+03        4505.500000        4014.000000   \n",
              "max          1.684259e+06      896040.000000      621000.000000   \n",
              "\n",
              "        amount_paid_may05  amount_paid_apr05  default  \n",
              "count        29989.000000       29995.000000    30000  \n",
              "unique                NaN                NaN        2  \n",
              "top                   NaN                NaN    False  \n",
              "freq                  NaN                NaN    23362  \n",
              "mean          4800.297209        5216.259977      NaN  \n",
              "std          15280.842069       17778.848359      NaN  \n",
              "min              0.000000           0.000000      NaN  \n",
              "25%            251.000000         118.000000      NaN  \n",
              "50%           1500.000000        1500.000000      NaN  \n",
              "75%           4033.000000        4000.000000      NaN  \n",
              "max         426529.000000      528666.000000      NaN  \n",
              "\n",
              "[11 rows x 24 columns]"
            ],
            "text/html": [
              "\n",
              "  <div id=\"df-7c08f5e6-55bf-480c-bbd3-368cd0b248cc\">\n",
              "    <div class=\"colab-df-container\">\n",
              "      <div>\n",
              "<style scoped>\n",
              "    .dataframe tbody tr th:only-of-type {\n",
              "        vertical-align: middle;\n",
              "    }\n",
              "\n",
              "    .dataframe tbody tr th {\n",
              "        vertical-align: top;\n",
              "    }\n",
              "\n",
              "    .dataframe thead th {\n",
              "        text-align: right;\n",
              "    }\n",
              "</style>\n",
              "<table border=\"1\" class=\"dataframe\">\n",
              "  <thead>\n",
              "    <tr style=\"text-align: right;\">\n",
              "      <th></th>\n",
              "      <th>credit_amount</th>\n",
              "      <th>gender</th>\n",
              "      <th>education</th>\n",
              "      <th>marital_status</th>\n",
              "      <th>age</th>\n",
              "      <th>payment_status_sep05</th>\n",
              "      <th>payment_status_aug05</th>\n",
              "      <th>payment_status_jul05</th>\n",
              "      <th>payment_status_jun05</th>\n",
              "      <th>payment_status_may05</th>\n",
              "      <th>...</th>\n",
              "      <th>bill_amount_jun05</th>\n",
              "      <th>bill_amount_may05</th>\n",
              "      <th>bill_amount_apr05</th>\n",
              "      <th>amount_paid_sep05</th>\n",
              "      <th>amount_paid_aug05</th>\n",
              "      <th>amount_paid_jul05</th>\n",
              "      <th>amount_paid_jun05</th>\n",
              "      <th>amount_paid_may05</th>\n",
              "      <th>amount_paid_apr05</th>\n",
              "      <th>default</th>\n",
              "    </tr>\n",
              "  </thead>\n",
              "  <tbody>\n",
              "    <tr>\n",
              "      <th>count</th>\n",
              "      <td>30000.000000</td>\n",
              "      <td>30000</td>\n",
              "      <td>30000</td>\n",
              "      <td>30000</td>\n",
              "      <td>29995.000000</td>\n",
              "      <td>30000</td>\n",
              "      <td>30000</td>\n",
              "      <td>30000</td>\n",
              "      <td>30000</td>\n",
              "      <td>30000</td>\n",
              "      <td>...</td>\n",
              "      <td>29985.000000</td>\n",
              "      <td>29983.000000</td>\n",
              "      <td>29990.000000</td>\n",
              "      <td>29992.000000</td>\n",
              "      <td>2.999100e+04</td>\n",
              "      <td>29992.000000</td>\n",
              "      <td>29989.000000</td>\n",
              "      <td>29989.000000</td>\n",
              "      <td>29995.000000</td>\n",
              "      <td>30000</td>\n",
              "    </tr>\n",
              "    <tr>\n",
              "      <th>unique</th>\n",
              "      <td>NaN</td>\n",
              "      <td>3</td>\n",
              "      <td>8</td>\n",
              "      <td>5</td>\n",
              "      <td>NaN</td>\n",
              "      <td>12</td>\n",
              "      <td>12</td>\n",
              "      <td>12</td>\n",
              "      <td>12</td>\n",
              "      <td>11</td>\n",
              "      <td>...</td>\n",
              "      <td>NaN</td>\n",
              "      <td>NaN</td>\n",
              "      <td>NaN</td>\n",
              "      <td>NaN</td>\n",
              "      <td>NaN</td>\n",
              "      <td>NaN</td>\n",
              "      <td>NaN</td>\n",
              "      <td>NaN</td>\n",
              "      <td>NaN</td>\n",
              "      <td>2</td>\n",
              "    </tr>\n",
              "    <tr>\n",
              "      <th>top</th>\n",
              "      <td>NaN</td>\n",
              "      <td>2.0</td>\n",
              "      <td>2.0</td>\n",
              "      <td>2.0</td>\n",
              "      <td>NaN</td>\n",
              "      <td>0.0</td>\n",
              "      <td>0.0</td>\n",
              "      <td>0.0</td>\n",
              "      <td>0.0</td>\n",
              "      <td>0.0</td>\n",
              "      <td>...</td>\n",
              "      <td>NaN</td>\n",
              "      <td>NaN</td>\n",
              "      <td>NaN</td>\n",
              "      <td>NaN</td>\n",
              "      <td>NaN</td>\n",
              "      <td>NaN</td>\n",
              "      <td>NaN</td>\n",
              "      <td>NaN</td>\n",
              "      <td>NaN</td>\n",
              "      <td>False</td>\n",
              "    </tr>\n",
              "    <tr>\n",
              "      <th>freq</th>\n",
              "      <td>NaN</td>\n",
              "      <td>18112</td>\n",
              "      <td>14030</td>\n",
              "      <td>15964</td>\n",
              "      <td>NaN</td>\n",
              "      <td>14736</td>\n",
              "      <td>15728</td>\n",
              "      <td>15761</td>\n",
              "      <td>16450</td>\n",
              "      <td>16937</td>\n",
              "      <td>...</td>\n",
              "      <td>NaN</td>\n",
              "      <td>NaN</td>\n",
              "      <td>NaN</td>\n",
              "      <td>NaN</td>\n",
              "      <td>NaN</td>\n",
              "      <td>NaN</td>\n",
              "      <td>NaN</td>\n",
              "      <td>NaN</td>\n",
              "      <td>NaN</td>\n",
              "      <td>23362</td>\n",
              "    </tr>\n",
              "    <tr>\n",
              "      <th>mean</th>\n",
              "      <td>167484.322667</td>\n",
              "      <td>NaN</td>\n",
              "      <td>NaN</td>\n",
              "      <td>NaN</td>\n",
              "      <td>35.484214</td>\n",
              "      <td>NaN</td>\n",
              "      <td>NaN</td>\n",
              "      <td>NaN</td>\n",
              "      <td>NaN</td>\n",
              "      <td>NaN</td>\n",
              "      <td>...</td>\n",
              "      <td>43275.652326</td>\n",
              "      <td>40324.493980</td>\n",
              "      <td>38881.135745</td>\n",
              "      <td>5662.945886</td>\n",
              "      <td>5.922489e+03</td>\n",
              "      <td>5225.623400</td>\n",
              "      <td>4827.252526</td>\n",
              "      <td>4800.297209</td>\n",
              "      <td>5216.259977</td>\n",
              "      <td>NaN</td>\n",
              "    </tr>\n",
              "    <tr>\n",
              "      <th>std</th>\n",
              "      <td>129747.661567</td>\n",
              "      <td>NaN</td>\n",
              "      <td>NaN</td>\n",
              "      <td>NaN</td>\n",
              "      <td>9.218024</td>\n",
              "      <td>NaN</td>\n",
              "      <td>NaN</td>\n",
              "      <td>NaN</td>\n",
              "      <td>NaN</td>\n",
              "      <td>NaN</td>\n",
              "      <td>...</td>\n",
              "      <td>64345.500073</td>\n",
              "      <td>60809.984983</td>\n",
              "      <td>59561.312967</td>\n",
              "      <td>16564.165089</td>\n",
              "      <td>2.304418e+04</td>\n",
              "      <td>17608.422625</td>\n",
              "      <td>15668.751975</td>\n",
              "      <td>15280.842069</td>\n",
              "      <td>17778.848359</td>\n",
              "      <td>NaN</td>\n",
              "    </tr>\n",
              "    <tr>\n",
              "      <th>min</th>\n",
              "      <td>10000.000000</td>\n",
              "      <td>NaN</td>\n",
              "      <td>NaN</td>\n",
              "      <td>NaN</td>\n",
              "      <td>21.000000</td>\n",
              "      <td>NaN</td>\n",
              "      <td>NaN</td>\n",
              "      <td>NaN</td>\n",
              "      <td>NaN</td>\n",
              "      <td>NaN</td>\n",
              "      <td>...</td>\n",
              "      <td>-170000.000000</td>\n",
              "      <td>-81334.000000</td>\n",
              "      <td>-339603.000000</td>\n",
              "      <td>0.000000</td>\n",
              "      <td>0.000000e+00</td>\n",
              "      <td>0.000000</td>\n",
              "      <td>0.000000</td>\n",
              "      <td>0.000000</td>\n",
              "      <td>0.000000</td>\n",
              "      <td>NaN</td>\n",
              "    </tr>\n",
              "    <tr>\n",
              "      <th>25%</th>\n",
              "      <td>50000.000000</td>\n",
              "      <td>NaN</td>\n",
              "      <td>NaN</td>\n",
              "      <td>NaN</td>\n",
              "      <td>28.000000</td>\n",
              "      <td>NaN</td>\n",
              "      <td>NaN</td>\n",
              "      <td>NaN</td>\n",
              "      <td>NaN</td>\n",
              "      <td>NaN</td>\n",
              "      <td>...</td>\n",
              "      <td>2329.000000</td>\n",
              "      <td>1763.500000</td>\n",
              "      <td>1256.250000</td>\n",
              "      <td>1000.000000</td>\n",
              "      <td>8.355000e+02</td>\n",
              "      <td>390.000000</td>\n",
              "      <td>296.000000</td>\n",
              "      <td>251.000000</td>\n",
              "      <td>118.000000</td>\n",
              "      <td>NaN</td>\n",
              "    </tr>\n",
              "    <tr>\n",
              "      <th>50%</th>\n",
              "      <td>140000.000000</td>\n",
              "      <td>NaN</td>\n",
              "      <td>NaN</td>\n",
              "      <td>NaN</td>\n",
              "      <td>34.000000</td>\n",
              "      <td>NaN</td>\n",
              "      <td>NaN</td>\n",
              "      <td>NaN</td>\n",
              "      <td>NaN</td>\n",
              "      <td>NaN</td>\n",
              "      <td>...</td>\n",
              "      <td>19052.000000</td>\n",
              "      <td>18107.000000</td>\n",
              "      <td>17081.000000</td>\n",
              "      <td>2100.000000</td>\n",
              "      <td>2.009000e+03</td>\n",
              "      <td>1800.000000</td>\n",
              "      <td>1500.000000</td>\n",
              "      <td>1500.000000</td>\n",
              "      <td>1500.000000</td>\n",
              "      <td>NaN</td>\n",
              "    </tr>\n",
              "    <tr>\n",
              "      <th>75%</th>\n",
              "      <td>240000.000000</td>\n",
              "      <td>NaN</td>\n",
              "      <td>NaN</td>\n",
              "      <td>NaN</td>\n",
              "      <td>41.000000</td>\n",
              "      <td>NaN</td>\n",
              "      <td>NaN</td>\n",
              "      <td>NaN</td>\n",
              "      <td>NaN</td>\n",
              "      <td>NaN</td>\n",
              "      <td>...</td>\n",
              "      <td>54560.000000</td>\n",
              "      <td>50213.000000</td>\n",
              "      <td>49208.250000</td>\n",
              "      <td>5006.000000</td>\n",
              "      <td>5.000000e+03</td>\n",
              "      <td>4505.500000</td>\n",
              "      <td>4014.000000</td>\n",
              "      <td>4033.000000</td>\n",
              "      <td>4000.000000</td>\n",
              "      <td>NaN</td>\n",
              "    </tr>\n",
              "    <tr>\n",
              "      <th>max</th>\n",
              "      <td>1000000.000000</td>\n",
              "      <td>NaN</td>\n",
              "      <td>NaN</td>\n",
              "      <td>NaN</td>\n",
              "      <td>79.000000</td>\n",
              "      <td>NaN</td>\n",
              "      <td>NaN</td>\n",
              "      <td>NaN</td>\n",
              "      <td>NaN</td>\n",
              "      <td>NaN</td>\n",
              "      <td>...</td>\n",
              "      <td>891586.000000</td>\n",
              "      <td>927171.000000</td>\n",
              "      <td>961664.000000</td>\n",
              "      <td>873552.000000</td>\n",
              "      <td>1.684259e+06</td>\n",
              "      <td>896040.000000</td>\n",
              "      <td>621000.000000</td>\n",
              "      <td>426529.000000</td>\n",
              "      <td>528666.000000</td>\n",
              "      <td>NaN</td>\n",
              "    </tr>\n",
              "  </tbody>\n",
              "</table>\n",
              "<p>11 rows × 24 columns</p>\n",
              "</div>\n",
              "      <button class=\"colab-df-convert\" onclick=\"convertToInteractive('df-7c08f5e6-55bf-480c-bbd3-368cd0b248cc')\"\n",
              "              title=\"Convert this dataframe to an interactive table.\"\n",
              "              style=\"display:none;\">\n",
              "        \n",
              "  <svg xmlns=\"http://www.w3.org/2000/svg\" height=\"24px\"viewBox=\"0 0 24 24\"\n",
              "       width=\"24px\">\n",
              "    <path d=\"M0 0h24v24H0V0z\" fill=\"none\"/>\n",
              "    <path d=\"M18.56 5.44l.94 2.06.94-2.06 2.06-.94-2.06-.94-.94-2.06-.94 2.06-2.06.94zm-11 1L8.5 8.5l.94-2.06 2.06-.94-2.06-.94L8.5 2.5l-.94 2.06-2.06.94zm10 10l.94 2.06.94-2.06 2.06-.94-2.06-.94-.94-2.06-.94 2.06-2.06.94z\"/><path d=\"M17.41 7.96l-1.37-1.37c-.4-.4-.92-.59-1.43-.59-.52 0-1.04.2-1.43.59L10.3 9.45l-7.72 7.72c-.78.78-.78 2.05 0 2.83L4 21.41c.39.39.9.59 1.41.59.51 0 1.02-.2 1.41-.59l7.78-7.78 2.81-2.81c.8-.78.8-2.07 0-2.86zM5.41 20L4 18.59l7.72-7.72 1.47 1.35L5.41 20z\"/>\n",
              "  </svg>\n",
              "      </button>\n",
              "      \n",
              "  <style>\n",
              "    .colab-df-container {\n",
              "      display:flex;\n",
              "      flex-wrap:wrap;\n",
              "      gap: 12px;\n",
              "    }\n",
              "\n",
              "    .colab-df-convert {\n",
              "      background-color: #E8F0FE;\n",
              "      border: none;\n",
              "      border-radius: 50%;\n",
              "      cursor: pointer;\n",
              "      display: none;\n",
              "      fill: #1967D2;\n",
              "      height: 32px;\n",
              "      padding: 0 0 0 0;\n",
              "      width: 32px;\n",
              "    }\n",
              "\n",
              "    .colab-df-convert:hover {\n",
              "      background-color: #E2EBFA;\n",
              "      box-shadow: 0px 1px 2px rgba(60, 64, 67, 0.3), 0px 1px 3px 1px rgba(60, 64, 67, 0.15);\n",
              "      fill: #174EA6;\n",
              "    }\n",
              "\n",
              "    [theme=dark] .colab-df-convert {\n",
              "      background-color: #3B4455;\n",
              "      fill: #D2E3FC;\n",
              "    }\n",
              "\n",
              "    [theme=dark] .colab-df-convert:hover {\n",
              "      background-color: #434B5C;\n",
              "      box-shadow: 0px 1px 3px 1px rgba(0, 0, 0, 0.15);\n",
              "      filter: drop-shadow(0px 1px 2px rgba(0, 0, 0, 0.3));\n",
              "      fill: #FFFFFF;\n",
              "    }\n",
              "  </style>\n",
              "\n",
              "      <script>\n",
              "        const buttonEl =\n",
              "          document.querySelector('#df-7c08f5e6-55bf-480c-bbd3-368cd0b248cc button.colab-df-convert');\n",
              "        buttonEl.style.display =\n",
              "          google.colab.kernel.accessAllowed ? 'block' : 'none';\n",
              "\n",
              "        async function convertToInteractive(key) {\n",
              "          const element = document.querySelector('#df-7c08f5e6-55bf-480c-bbd3-368cd0b248cc');\n",
              "          const dataTable =\n",
              "            await google.colab.kernel.invokeFunction('convertToInteractive',\n",
              "                                                     [key], {});\n",
              "          if (!dataTable) return;\n",
              "\n",
              "          const docLinkHtml = 'Like what you see? Visit the ' +\n",
              "            '<a target=\"_blank\" href=https://colab.research.google.com/notebooks/data_table.ipynb>data table notebook</a>'\n",
              "            + ' to learn more about interactive tables.';\n",
              "          element.innerHTML = '';\n",
              "          dataTable['output_type'] = 'display_data';\n",
              "          await google.colab.output.renderOutput(dataTable, element);\n",
              "          const docLink = document.createElement('div');\n",
              "          docLink.innerHTML = docLinkHtml;\n",
              "          element.appendChild(docLink);\n",
              "        }\n",
              "      </script>\n",
              "    </div>\n",
              "  </div>\n",
              "  "
            ]
          },
          "metadata": {},
          "execution_count": 224
        }
      ]
    },
    {
      "cell_type": "code",
      "source": [
        " df.shape\n",
        " #30 mil observaciones y 24 variables"
      ],
      "metadata": {
        "colab": {
          "base_uri": "https://localhost:8080/"
        },
        "id": "LSBM1bA7ZjVh",
        "outputId": "02b1890b-5b50-4e87-de33-8e2207b7995e"
      },
      "execution_count": 225,
      "outputs": [
        {
          "output_type": "execute_result",
          "data": {
            "text/plain": [
              "(30000, 24)"
            ]
          },
          "metadata": {},
          "execution_count": 225
        }
      ]
    },
    {
      "cell_type": "code",
      "source": [
        " df.columns\n",
        " #Las 24 variables que renombramos en el paso anterior"
      ],
      "metadata": {
        "colab": {
          "base_uri": "https://localhost:8080/"
        },
        "id": "CTtatepEZogZ",
        "outputId": "276b2966-3844-47e5-db2a-74162351f78e"
      },
      "execution_count": 226,
      "outputs": [
        {
          "output_type": "execute_result",
          "data": {
            "text/plain": [
              "Index(['credit_amount', 'gender', 'education', 'marital_status', 'age',\n",
              "       'payment_status_sep05', 'payment_status_aug05', 'payment_status_jul05',\n",
              "       'payment_status_jun05', 'payment_status_may05', 'payment_status_apr05',\n",
              "       'bill_amount_sep05', 'bill_amount_aug05', 'bill_amount_jul05',\n",
              "       'bill_amount_jun05', 'bill_amount_may05', 'bill_amount_apr05',\n",
              "       'amount_paid_sep05', 'amount_paid_aug05', 'amount_paid_jul05',\n",
              "       'amount_paid_jun05', 'amount_paid_may05', 'amount_paid_apr05',\n",
              "       'default'],\n",
              "      dtype='object')"
            ]
          },
          "metadata": {},
          "execution_count": 226
        }
      ]
    },
    {
      "cell_type": "code",
      "source": [
        "df.dtypes\n",
        "#Tipos de variables, después de haber realizado el acomodo"
      ],
      "metadata": {
        "colab": {
          "base_uri": "https://localhost:8080/"
        },
        "id": "zwoeUp59ZvK-",
        "outputId": "8b79bd01-01b7-4754-c6c7-3896d8685676"
      },
      "execution_count": 227,
      "outputs": [
        {
          "output_type": "execute_result",
          "data": {
            "text/plain": [
              "credit_amount             int64\n",
              "gender                   object\n",
              "education                object\n",
              "marital_status           object\n",
              "age                     float64\n",
              "payment_status_sep05     object\n",
              "payment_status_aug05     object\n",
              "payment_status_jul05     object\n",
              "payment_status_jun05     object\n",
              "payment_status_may05     object\n",
              "payment_status_apr05     object\n",
              "bill_amount_sep05       float64\n",
              "bill_amount_aug05       float64\n",
              "bill_amount_jul05       float64\n",
              "bill_amount_jun05       float64\n",
              "bill_amount_may05       float64\n",
              "bill_amount_apr05       float64\n",
              "amount_paid_sep05       float64\n",
              "amount_paid_aug05       float64\n",
              "amount_paid_jul05       float64\n",
              "amount_paid_jun05       float64\n",
              "amount_paid_may05       float64\n",
              "amount_paid_apr05       float64\n",
              "default                    bool\n",
              "dtype: object"
            ]
          },
          "metadata": {},
          "execution_count": 227
        }
      ]
    },
    {
      "cell_type": "code",
      "source": [
        "df.info()"
      ],
      "metadata": {
        "colab": {
          "base_uri": "https://localhost:8080/"
        },
        "id": "3jtRz5z49er2",
        "outputId": "ef13bd55-a756-4e80-d909-c9486d333e10"
      },
      "execution_count": 228,
      "outputs": [
        {
          "output_type": "stream",
          "name": "stdout",
          "text": [
            "<class 'pandas.core.frame.DataFrame'>\n",
            "RangeIndex: 30000 entries, 0 to 29999\n",
            "Data columns (total 24 columns):\n",
            " #   Column                Non-Null Count  Dtype  \n",
            "---  ------                --------------  -----  \n",
            " 0   credit_amount         30000 non-null  int64  \n",
            " 1   gender                30000 non-null  object \n",
            " 2   education             30000 non-null  object \n",
            " 3   marital_status        30000 non-null  object \n",
            " 4   age                   29995 non-null  float64\n",
            " 5   payment_status_sep05  30000 non-null  object \n",
            " 6   payment_status_aug05  30000 non-null  object \n",
            " 7   payment_status_jul05  30000 non-null  object \n",
            " 8   payment_status_jun05  30000 non-null  object \n",
            " 9   payment_status_may05  30000 non-null  object \n",
            " 10  payment_status_apr05  30000 non-null  object \n",
            " 11  bill_amount_sep05     29989 non-null  float64\n",
            " 12  bill_amount_aug05     29989 non-null  float64\n",
            " 13  bill_amount_jul05     29987 non-null  float64\n",
            " 14  bill_amount_jun05     29985 non-null  float64\n",
            " 15  bill_amount_may05     29983 non-null  float64\n",
            " 16  bill_amount_apr05     29990 non-null  float64\n",
            " 17  amount_paid_sep05     29992 non-null  float64\n",
            " 18  amount_paid_aug05     29991 non-null  float64\n",
            " 19  amount_paid_jul05     29992 non-null  float64\n",
            " 20  amount_paid_jun05     29989 non-null  float64\n",
            " 21  amount_paid_may05     29989 non-null  float64\n",
            " 22  amount_paid_apr05     29995 non-null  float64\n",
            " 23  default               30000 non-null  bool   \n",
            "dtypes: bool(1), float64(13), int64(1), object(9)\n",
            "memory usage: 5.3+ MB\n"
          ]
        }
      ]
    },
    {
      "cell_type": "code",
      "source": [
        "import matplotlib.pyplot as plt\n",
        "paso=df.copy()\n",
        "#Contadores de las variables, para evaluar si alguna tiene menos del 5% de la población y proponer alguna reagrupación\n",
        "variables = ['gender','education','marital_status','payment_status_sep05','payment_status_aug05','payment_status_jul05','payment_status_jun05','payment_status_may05','payment_status_apr05']\n",
        "for serie in variables:\n",
        "  paso.sort_values(serie, inplace=True)\n",
        "  tab=paso[serie].value_counts()\n",
        "  porc_tab=paso[serie].value_counts()/tab.sum()\n",
        "  paso[serie].value_counts().plot(kind='bar',title='Histograma de' f' {serie}')\n",
        "  print(porc_tab)\n",
        "  print(tab)\n",
        "  plt.show()"
      ],
      "metadata": {
        "colab": {
          "base_uri": "https://localhost:8080/",
          "height": 1000
        },
        "id": "TfwIjuBDX0WN",
        "outputId": "89b1d44d-955e-46a0-be6e-d17e20624803"
      },
      "execution_count": 229,
      "outputs": [
        {
          "output_type": "stream",
          "name": "stdout",
          "text": [
            "2.0    0.603733\n",
            "1.0    0.396233\n",
            "nan    0.000033\n",
            "Name: gender, dtype: float64\n",
            "2.0    18112\n",
            "1.0    11887\n",
            "nan        1\n",
            "Name: gender, dtype: int64\n"
          ]
        },
        {
          "output_type": "display_data",
          "data": {
            "text/plain": [
              "<Figure size 432x288 with 1 Axes>"
            ],
            "image/png": "[encoded data removed]"
          },
          "metadata": {
            "needs_background": "light"
          }
        },
        {
          "output_type": "stream",
          "name": "stdout",
          "text": [
            "2.0    0.467667\n",
            "1.0    0.352833\n",
            "3.0    0.163833\n",
            "5.0    0.009333\n",
            "4.0    0.004100\n",
            "6.0    0.001700\n",
            "0.0    0.000467\n",
            "nan    0.000067\n",
            "Name: education, dtype: float64\n",
            "2.0    14030\n",
            "1.0    10585\n",
            "3.0     4915\n",
            "5.0      280\n",
            "4.0      123\n",
            "6.0       51\n",
            "0.0       14\n",
            "nan        2\n",
            "Name: education, dtype: int64\n"
          ]
        },
        {
          "output_type": "display_data",
          "data": {
            "text/plain": [
              "<Figure size 432x288 with 1 Axes>"
            ],
            "image/png": "[encoded data removed]"
          },
          "metadata": {
            "needs_background": "light"
          }
        },
        {
          "output_type": "stream",
          "name": "stdout",
          "text": [
            "2.0    0.532133\n",
            "1.0    0.455233\n",
            "3.0    0.010767\n",
            "0.0    0.001800\n",
            "nan    0.000067\n",
            "Name: marital_status, dtype: float64\n",
            "2.0    15964\n",
            "1.0    13657\n",
            "3.0      323\n",
            "0.0       54\n",
            "nan        2\n",
            "Name: marital_status, dtype: int64\n"
          ]
        },
        {
          "output_type": "display_data",
          "data": {
            "text/plain": [
              "<Figure size 432x288 with 1 Axes>"
            ],
            "image/png": "[encoded data removed]"
          },
          "metadata": {
            "needs_background": "light"
          }
        },
        {
          "output_type": "stream",
          "name": "stdout",
          "text": [
            "0.0     0.491200\n",
            "-1.0    0.189467\n",
            "1.0     0.122933\n",
            "-2.0    0.091967\n",
            "2.0     0.088900\n",
            "3.0     0.010733\n",
            "4.0     0.002533\n",
            "5.0     0.000867\n",
            "8.0     0.000633\n",
            "6.0     0.000367\n",
            "7.0     0.000300\n",
            "nan     0.000100\n",
            "Name: payment_status_sep05, dtype: float64\n",
            "0.0     14736\n",
            "-1.0     5684\n",
            "1.0      3688\n",
            "-2.0     2759\n",
            "2.0      2667\n",
            "3.0       322\n",
            "4.0        76\n",
            "5.0        26\n",
            "8.0        19\n",
            "6.0        11\n",
            "7.0         9\n",
            "nan         3\n",
            "Name: payment_status_sep05, dtype: int64\n"
          ]
        },
        {
          "output_type": "display_data",
          "data": {
            "text/plain": [
              "<Figure size 432x288 with 1 Axes>"
            ],
            "image/png": "[encoded data removed]"
          },
          "metadata": {
            "needs_background": "light"
          }
        },
        {
          "output_type": "stream",
          "name": "stdout",
          "text": [
            "0.0     0.524267\n",
            "-1.0    0.201567\n",
            "2.0     0.130900\n",
            "-2.0    0.126067\n",
            "3.0     0.010867\n",
            "4.0     0.003300\n",
            "1.0     0.000933\n",
            "5.0     0.000833\n",
            "7.0     0.000667\n",
            "6.0     0.000400\n",
            "nan     0.000167\n",
            "8.0     0.000033\n",
            "Name: payment_status_aug05, dtype: float64\n",
            "0.0     15728\n",
            "-1.0     6047\n",
            "2.0      3927\n",
            "-2.0     3782\n",
            "3.0       326\n",
            "4.0        99\n",
            "1.0        28\n",
            "5.0        25\n",
            "7.0        20\n",
            "6.0        12\n",
            "nan         5\n",
            "8.0         1\n",
            "Name: payment_status_aug05, dtype: int64\n"
          ]
        },
        {
          "output_type": "display_data",
          "data": {
            "text/plain": [
              "<Figure size 432x288 with 1 Axes>"
            ],
            "image/png": "[encoded data removed]"
          },
          "metadata": {
            "needs_background": "light"
          }
        },
        {
          "output_type": "stream",
          "name": "stdout",
          "text": [
            "0.0     0.525367\n",
            "-1.0    0.197833\n",
            "-2.0    0.136167\n",
            "2.0     0.127300\n",
            "3.0     0.008000\n",
            "4.0     0.002533\n",
            "7.0     0.000900\n",
            "6.0     0.000767\n",
            "5.0     0.000700\n",
            "nan     0.000233\n",
            "1.0     0.000133\n",
            "8.0     0.000067\n",
            "Name: payment_status_jul05, dtype: float64\n",
            "0.0     15761\n",
            "-1.0     5935\n",
            "-2.0     4085\n",
            "2.0      3819\n",
            "3.0       240\n",
            "4.0        76\n",
            "7.0        27\n",
            "6.0        23\n",
            "5.0        21\n",
            "nan         7\n",
            "1.0         4\n",
            "8.0         2\n",
            "Name: payment_status_jul05, dtype: int64\n"
          ]
        },
        {
          "output_type": "display_data",
          "data": {
            "text/plain": [
              "<Figure size 432x288 with 1 Axes>"
            ],
            "image/png": "[encoded data removed]"
          },
          "metadata": {
            "needs_background": "light"
          }
        },
        {
          "output_type": "stream",
          "name": "stdout",
          "text": [
            "0.0     0.548333\n",
            "-1.0    0.189500\n",
            "-2.0    0.144933\n",
            "2.0     0.105233\n",
            "3.0     0.006000\n",
            "4.0     0.002300\n",
            "7.0     0.001933\n",
            "5.0     0.001167\n",
            "nan     0.000300\n",
            "6.0     0.000167\n",
            "1.0     0.000067\n",
            "8.0     0.000067\n",
            "Name: payment_status_jun05, dtype: float64\n",
            "0.0     16450\n",
            "-1.0     5685\n",
            "-2.0     4348\n",
            "2.0      3157\n",
            "3.0       180\n",
            "4.0        69\n",
            "7.0        58\n",
            "5.0        35\n",
            "nan         9\n",
            "6.0         5\n",
            "1.0         2\n",
            "8.0         2\n",
            "Name: payment_status_jun05, dtype: int64\n"
          ]
        },
        {
          "output_type": "display_data",
          "data": {
            "text/plain": [
              "<Figure size 432x288 with 1 Axes>"
            ],
            "image/png": "[encoded data removed]"
          },
          "metadata": {
            "needs_background": "light"
          }
        },
        {
          "output_type": "stream",
          "name": "stdout",
          "text": [
            "0.0     0.564567\n",
            "-1.0    0.184500\n",
            "-2.0    0.151533\n",
            "2.0     0.087467\n",
            "3.0     0.005933\n",
            "4.0     0.002800\n",
            "7.0     0.001933\n",
            "5.0     0.000567\n",
            "nan     0.000533\n",
            "6.0     0.000133\n",
            "8.0     0.000033\n",
            "Name: payment_status_may05, dtype: float64\n",
            "0.0     16937\n",
            "-1.0     5535\n",
            "-2.0     4546\n",
            "2.0      2624\n",
            "3.0       178\n",
            "4.0        84\n",
            "7.0        58\n",
            "5.0        17\n",
            "nan        16\n",
            "6.0         4\n",
            "8.0         1\n",
            "Name: payment_status_may05, dtype: int64\n"
          ]
        },
        {
          "output_type": "display_data",
          "data": {
            "text/plain": [
              "<Figure size 432x288 with 1 Axes>"
            ],
            "image/png": "[encoded data removed]"
          },
          "metadata": {
            "needs_background": "light"
          }
        },
        {
          "output_type": "stream",
          "name": "stdout",
          "text": [
            "0.0     0.542600\n",
            "-1.0    0.191167\n",
            "-2.0    0.163167\n",
            "2.0     0.092167\n",
            "3.0     0.006133\n",
            "4.0     0.001633\n",
            "7.0     0.001533\n",
            "6.0     0.000633\n",
            "nan     0.000467\n",
            "5.0     0.000433\n",
            "8.0     0.000067\n",
            "Name: payment_status_apr05, dtype: float64\n",
            "0.0     16278\n",
            "-1.0     5735\n",
            "-2.0     4895\n",
            "2.0      2765\n",
            "3.0       184\n",
            "4.0        49\n",
            "7.0        46\n",
            "6.0        19\n",
            "nan        14\n",
            "5.0        13\n",
            "8.0         2\n",
            "Name: payment_status_apr05, dtype: int64\n"
          ]
        },
        {
          "output_type": "display_data",
          "data": {
            "text/plain": [
              "<Figure size 432x288 with 1 Axes>"
            ],
            "image/png": "[encoded data removed]"
          },
          "metadata": {
            "needs_background": "light"
          }
        }
      ]
    },
    {
      "cell_type": "code",
      "source": [
        "df=paso.copy()"
      ],
      "metadata": {
        "id": "DyyT7ZM5slvo"
      },
      "execution_count": 13,
      "outputs": []
    },
    {
      "cell_type": "code",
      "source": [
        "#Agrupación de valores de algunas variables que NO están definidas o acordes al catálogo de datos\n",
        "#Education tiene 4 valores definidos en el catálogo y en este archivo aparecen más, por lo tanto los que son distintos a 1(postgrado), 2(universidad) ó 3(preparatoria) lo pondremos como 4(otro)\n",
        "df['education'] = df['education'].map({'1.0':'1','2.0':'2','3.0':'3','4.0':'4','5.0':'4','6.0':'4'})\n",
        "df['education'].value_counts()/df['education'].shape"
      ],
      "metadata": {
        "colab": {
          "base_uri": "https://localhost:8080/"
        },
        "id": "zfHB1yNqjep3",
        "outputId": "70f0e956-d380-4b95-9eed-208df800d2ae"
      },
      "execution_count": 230,
      "outputs": [
        {
          "output_type": "execute_result",
          "data": {
            "text/plain": [
              "2    0.467667\n",
              "1    0.352833\n",
              "3    0.163833\n",
              "4    0.015133\n",
              "Name: education, dtype: float64"
            ]
          },
          "metadata": {},
          "execution_count": 230
        }
      ]
    },
    {
      "cell_type": "code",
      "source": [
        "#Agrupamos los valores no definidos en el catálogo como 3.- Otro\n",
        "df['marital_status'] = df['marital_status'].map({'1.0':'1','2.0':'2','3.0':'3','0.0':'3'})\n",
        "df['marital_status'].value_counts()/df['marital_status'].shape"
      ],
      "metadata": {
        "colab": {
          "base_uri": "https://localhost:8080/"
        },
        "id": "EvjtVLUHuCZ8",
        "outputId": "6b0ef652-9145-4fc5-f836-7c079b32fab7"
      },
      "execution_count": 231,
      "outputs": [
        {
          "output_type": "execute_result",
          "data": {
            "text/plain": [
              "2    0.532133\n",
              "1    0.455233\n",
              "3    0.012567\n",
              "Name: marital_status, dtype: float64"
            ]
          },
          "metadata": {},
          "execution_count": 231
        }
      ]
    },
    {
      "cell_type": "code",
      "source": [
        "import seaborn as sns\n",
        "\n",
        "#Estadísticos básicos = promedio y mediana para las variables cuantitativas\n",
        "variables = ['credit_amount', 'age', 'bill_amount_sep05','bill_amount_aug05','bill_amount_jul05','bill_amount_jun05','bill_amount_may05','bill_amount_apr05',\n",
        "            'amount_paid_sep05','amount_paid_aug05','amount_paid_jul05','amount_paid_jun05','amount_paid_may05','amount_paid_apr05']\n",
        "for serie in variables:\n",
        "  sns.boxplot(x=df['default'],y=df[serie],labels=[serie])\n",
        "  plt.show()\n",
        "  print('El valor promedio de la variable',f'{serie}',\"es\",\"{:.2f}\".format(df[serie].mean()),\"y la mediana es \" \"{:.2f}\".format(df[serie].median()))"
      ],
      "metadata": {
        "colab": {
          "base_uri": "https://localhost:8080/",
          "height": 1000
        },
        "id": "_i0oviB0uhy1",
        "outputId": "ded81918-69f3-4342-be5d-a7367f399fb2"
      },
      "execution_count": 232,
      "outputs": [
        {
          "output_type": "display_data",
          "data": {
            "text/plain": [
              "<Figure size 432x288 with 1 Axes>"
            ],
            "image/png": "[encoded data removed]"
          },
          "metadata": {
            "needs_background": "light"
          }
        },
        {
          "output_type": "stream",
          "name": "stdout",
          "text": [
            "El valor promedio de la variable credit_amount es 167484.32 y la mediana es 140000.00\n"
          ]
        },
        {
          "output_type": "display_data",
          "data": {
            "text/plain": [
              "<Figure size 432x288 with 1 Axes>"
            ],
            "image/png": "[encoded data removed]"
          },
          "metadata": {
            "needs_background": "light"
          }
        },
        {
          "output_type": "stream",
          "name": "stdout",
          "text": [
            "El valor promedio de la variable age es 35.48 y la mediana es 34.00\n"
          ]
        },
        {
          "output_type": "display_data",
          "data": {
            "text/plain": [
              "<Figure size 432x288 with 1 Axes>"
            ],
            "image/png": "[encoded data removed]"
          },
          "metadata": {
            "needs_background": "light"
          }
        },
        {
          "output_type": "stream",
          "name": "stdout",
          "text": [
            "El valor promedio de la variable bill_amount_sep05 es 51236.86 y la mediana es 22387.00\n"
          ]
        },
        {
          "output_type": "display_data",
          "data": {
            "text/plain": [
              "<Figure size 432x288 with 1 Axes>"
            ],
            "image/png": "[encoded data removed]"
          },
          "metadata": {
            "needs_background": "light"
          }
        },
        {
          "output_type": "stream",
          "name": "stdout",
          "text": [
            "El valor promedio de la variable bill_amount_aug05 es 49190.73 y la mediana es 21207.00\n"
          ]
        },
        {
          "output_type": "display_data",
          "data": {
            "text/plain": [
              "<Figure size 432x288 with 1 Axes>"
            ],
            "image/png": "[encoded data removed]"
          },
          "metadata": {
            "needs_background": "light"
          }
        },
        {
          "output_type": "stream",
          "name": "stdout",
          "text": [
            "El valor promedio de la variable bill_amount_jul05 es 47025.35 y la mediana es 20089.00\n"
          ]
        },
        {
          "output_type": "display_data",
          "data": {
            "text/plain": [
              "<Figure size 432x288 with 1 Axes>"
            ],
            "image/png": "[encoded data removed]"
          },
          "metadata": {
            "needs_background": "light"
          }
        },
        {
          "output_type": "stream",
          "name": "stdout",
          "text": [
            "El valor promedio de la variable bill_amount_jun05 es 43275.65 y la mediana es 19052.00\n"
          ]
        },
        {
          "output_type": "display_data",
          "data": {
            "text/plain": [
              "<Figure size 432x288 with 1 Axes>"
            ],
            "image/png": "[encoded data removed]"
          },
          "metadata": {
            "needs_background": "light"
          }
        },
        {
          "output_type": "stream",
          "name": "stdout",
          "text": [
            "El valor promedio de la variable bill_amount_may05 es 40324.49 y la mediana es 18107.00\n"
          ]
        },
        {
          "output_type": "display_data",
          "data": {
            "text/plain": [
              "<Figure size 432x288 with 1 Axes>"
            ],
            "image/png": "[encoded data removed]"
          },
          "metadata": {
            "needs_background": "light"
          }
        },
        {
          "output_type": "stream",
          "name": "stdout",
          "text": [
            "El valor promedio de la variable bill_amount_apr05 es 38881.14 y la mediana es 17081.00\n"
          ]
        },
        {
          "output_type": "display_data",
          "data": {
            "text/plain": [
              "<Figure size 432x288 with 1 Axes>"
            ],
            "image/png": "[encoded data removed]"
          },
          "metadata": {
            "needs_background": "light"
          }
        },
        {
          "output_type": "stream",
          "name": "stdout",
          "text": [
            "El valor promedio de la variable amount_paid_sep05 es 5662.95 y la mediana es 2100.00\n"
          ]
        },
        {
          "output_type": "display_data",
          "data": {
            "text/plain": [
              "<Figure size 432x288 with 1 Axes>"
            ],
            "image/png": "[encoded data removed]"
          },
          "metadata": {
            "needs_background": "light"
          }
        },
        {
          "output_type": "stream",
          "name": "stdout",
          "text": [
            "El valor promedio de la variable amount_paid_aug05 es 5922.49 y la mediana es 2009.00\n"
          ]
        },
        {
          "output_type": "display_data",
          "data": {
            "text/plain": [
              "<Figure size 432x288 with 1 Axes>"
            ],
            "image/png": "[encoded data removed]"
          },
          "metadata": {
            "needs_background": "light"
          }
        },
        {
          "output_type": "stream",
          "name": "stdout",
          "text": [
            "El valor promedio de la variable amount_paid_jul05 es 5225.62 y la mediana es 1800.00\n"
          ]
        },
        {
          "output_type": "display_data",
          "data": {
            "text/plain": [
              "<Figure size 432x288 with 1 Axes>"
            ],
            "image/png": "[encoded data removed]"
          },
          "metadata": {
            "needs_background": "light"
          }
        },
        {
          "output_type": "stream",
          "name": "stdout",
          "text": [
            "El valor promedio de la variable amount_paid_jun05 es 4827.25 y la mediana es 1500.00\n"
          ]
        },
        {
          "output_type": "display_data",
          "data": {
            "text/plain": [
              "<Figure size 432x288 with 1 Axes>"
            ],
            "image/png": "[encoded data removed]"
          },
          "metadata": {
            "needs_background": "light"
          }
        },
        {
          "output_type": "stream",
          "name": "stdout",
          "text": [
            "El valor promedio de la variable amount_paid_may05 es 4800.30 y la mediana es 1500.00\n"
          ]
        },
        {
          "output_type": "display_data",
          "data": {
            "text/plain": [
              "<Figure size 432x288 with 1 Axes>"
            ],
            "image/png": "[encoded data removed]"
          },
          "metadata": {
            "needs_background": "light"
          }
        },
        {
          "output_type": "stream",
          "name": "stdout",
          "text": [
            "El valor promedio de la variable amount_paid_apr05 es 5216.26 y la mediana es 1500.00\n"
          ]
        }
      ]
    },
    {
      "cell_type": "code",
      "source": [
        "df=df.dropna()\n",
        "#Eliminando los registros con al menos un valor NaN, estamosquitando 43 registros, menos del 1% de la muestra ==> Podemos vivir con eso!\n",
        "#Antes de quitar los resgistros con al menos un valor missing (o NaN) teníamos 30 mil registros, quitando las fila tenemos 29,957 registros con 24 variable\n",
        "print('La base de datos una vez que quitamos aquellos registros con al menos un Nan tiene',df.shape[0],'registros y',df.shape[-1],'variables')"
      ],
      "metadata": {
        "colab": {
          "base_uri": "https://localhost:8080/"
        },
        "id": "16ggCgKZ4MMP",
        "outputId": "e6892a8b-21c4-4cd9-951e-96bb918a0dd1"
      },
      "execution_count": 233,
      "outputs": [
        {
          "output_type": "stream",
          "name": "stdout",
          "text": [
            "La base de datos una vez que quitamos aquellos registros con al menos un Nan tiene 29957 registros y 24 variables\n"
          ]
        }
      ]
    },
    {
      "cell_type": "code",
      "source": [
        "df['default'].mean()\n",
        "#la tasa de morosidad sigue siendo la misma que el datset original"
      ],
      "metadata": {
        "colab": {
          "base_uri": "https://localhost:8080/"
        },
        "id": "9isk9o6B71P2",
        "outputId": "70954e12-56d2-42d0-dc88-b32a258f9f63"
      },
      "execution_count": 234,
      "outputs": [
        {
          "output_type": "execute_result",
          "data": {
            "text/plain": [
              "0.22121707781152986"
            ]
          },
          "metadata": {},
          "execution_count": 234
        }
      ]
    },
    {
      "cell_type": "code",
      "source": [
        "variables = ['credit_amount', 'age', 'bill_amount_sep05','bill_amount_aug05','bill_amount_jul05','bill_amount_jun05','bill_amount_may05','bill_amount_apr05',\n",
        "            'amount_paid_sep05','amount_paid_aug05','amount_paid_jul05','amount_paid_jun05','amount_paid_may05','amount_paid_apr05']\n",
        "\n",
        "for serie in variables:\n",
        "  plt.hist(df[serie], color='#F2AB6D', rwidth=0.85)\n",
        "  plt.title('Histograma de' f' {serie}')\n",
        "  plt.show()"
      ],
      "metadata": {
        "colab": {
          "base_uri": "https://localhost:8080/",
          "height": 1000
        },
        "id": "lrFcYpWcAFQQ",
        "outputId": "84f7d6b8-e483-4830-8472-af4274fe4835"
      },
      "execution_count": 235,
      "outputs": [
        {
          "output_type": "display_data",
          "data": {
            "text/plain": [
              "<Figure size 432x288 with 1 Axes>"
            ],
            "image/png": "[encoded data removed]"
          },
          "metadata": {
            "needs_background": "light"
          }
        },
        {
          "output_type": "display_data",
          "data": {
            "text/plain": [
              "<Figure size 432x288 with 1 Axes>"
            ],
            "image/png": "[encoded data removed]"
          },
          "metadata": {
            "needs_background": "light"
          }
        },
        {
          "output_type": "display_data",
          "data": {
            "text/plain": [
              "<Figure size 432x288 with 1 Axes>"
            ],
            "image/png": "[encoded data removed]"
          },
          "metadata": {
            "needs_background": "light"
          }
        },
        {
          "output_type": "display_data",
          "data": {
            "text/plain": [
              "<Figure size 432x288 with 1 Axes>"
            ],
            "image/png": "[encoded data removed]"
          },
          "metadata": {
            "needs_background": "light"
          }
        },
        {
          "output_type": "display_data",
          "data": {
            "text/plain": [
              "<Figure size 432x288 with 1 Axes>"
            ],
            "image/png": "[encoded data removed]"
          },
          "metadata": {
            "needs_background": "light"
          }
        },
        {
          "output_type": "display_data",
          "data": {
            "text/plain": [
              "<Figure size 432x288 with 1 Axes>"
            ],
            "image/png": "[encoded data removed]"
          },
          "metadata": {
            "needs_background": "light"
          }
        },
        {
          "output_type": "display_data",
          "data": {
            "text/plain": [
              "<Figure size 432x288 with 1 Axes>"
            ],
            "image/png": "[encoded data removed]"
          },
          "metadata": {
            "needs_background": "light"
          }
        },
        {
          "output_type": "display_data",
          "data": {
            "text/plain": [
              "<Figure size 432x288 with 1 Axes>"
            ],
            "image/png": "[encoded data removed]"
          },
          "metadata": {
            "needs_background": "light"
          }
        },
        {
          "output_type": "display_data",
          "data": {
            "text/plain": [
              "<Figure size 432x288 with 1 Axes>"
            ],
            "image/png": "[encoded data removed]"
          },
          "metadata": {
            "needs_background": "light"
          }
        },
        {
          "output_type": "display_data",
          "data": {
            "text/plain": [
              "<Figure size 432x288 with 1 Axes>"
            ],
            "image/png": "[encoded data removed]"
          },
          "metadata": {
            "needs_background": "light"
          }
        },
        {
          "output_type": "display_data",
          "data": {
            "text/plain": [
              "<Figure size 432x288 with 1 Axes>"
            ],
            "image/png": "[encoded data removed]"
          },
          "metadata": {
            "needs_background": "light"
          }
        },
        {
          "output_type": "display_data",
          "data": {
            "text/plain": [
              "<Figure size 432x288 with 1 Axes>"
            ],
            "image/png": "[encoded data removed]"
          },
          "metadata": {
            "needs_background": "light"
          }
        },
        {
          "output_type": "display_data",
          "data": {
            "text/plain": [
              "<Figure size 432x288 with 1 Axes>"
            ],
            "image/png": "[encoded data removed]"
          },
          "metadata": {
            "needs_background": "light"
          }
        },
        {
          "output_type": "display_data",
          "data": {
            "text/plain": [
              "<Figure size 432x288 with 1 Axes>"
            ],
            "image/png": "[encoded data removed]"
          },
          "metadata": {
            "needs_background": "light"
          }
        }
      ]
    },
    {
      "cell_type": "code",
      "source": [
        "# Clasificamos las variables de acuerdo a su naturaleza, separando las columnas numéricas (imputanción de la mediana) y se hace one-hot-encoding de las columnas categóricas y ordinales\n",
        "numeric_cols = [\"credit_amount\",\"age\",'bill_amount_sep05', 'bill_amount_aug05', 'bill_amount_jul05',\n",
        "       'bill_amount_jun05', 'bill_amount_may05', 'bill_amount_apr05',\n",
        "       'amount_paid_sep05', 'amount_paid_aug05', 'amount_paid_jul05',\n",
        "       'amount_paid_jun05', 'amount_paid_may05', 'amount_paid_apr05']\n",
        "cat_cols = [\"gender\",\"marital_status\"]\n",
        "bin_cols = [\"default\"]\n",
        "ord_cols = [\"education\",\"payment_status_sep05\",\"payment_status_aug05\",\"payment_status_jul05\",\"payment_status_jun05\",\"payment_status_may05\",\"payment_status_apr05\"]"
      ],
      "metadata": {
        "id": "DsshJM0u8G3N"
      },
      "execution_count": 236,
      "outputs": []
    },
    {
      "cell_type": "code",
      "source": [
        "paso=df.copy()"
      ],
      "metadata": {
        "id": "A5PpohN7oouR"
      },
      "execution_count": 237,
      "outputs": []
    },
    {
      "cell_type": "code",
      "source": [
        "df_X = df.iloc[:, :-1]\n",
        "df_y = df[[\"default\"]]"
      ],
      "metadata": {
        "id": "vWRK0zkkh45f"
      },
      "execution_count": 238,
      "outputs": []
    },
    {
      "cell_type": "code",
      "source": [
        "#Análisis de correlación\n",
        "corr=df_X.corr()\n",
        "sns.heatmap(corr)"
      ],
      "metadata": {
        "id": "yWswkmhZ8QV_",
        "colab": {
          "base_uri": "https://localhost:8080/",
          "height": 381
        },
        "outputId": "a66ec6a9-8445-4159-cebf-20c0976d7d76"
      },
      "execution_count": 239,
      "outputs": [
        {
          "output_type": "execute_result",
          "data": {
            "text/plain": [
              "<matplotlib.axes._subplots.AxesSubplot at 0x7fea62f86dd0>"
            ]
          },
          "metadata": {},
          "execution_count": 239
        },
        {
          "output_type": "display_data",
          "data": {
            "text/plain": [
              "<Figure size 432x288 with 2 Axes>"
            ],
            "image/png": "[encoded data removed]"
          },
          "metadata": {
            "needs_background": "light"
          }
        }
      ]
    },
    {
      "cell_type": "code",
      "source": [
        "#Generamos variables dummies para las variables categóricas\n",
        "df_cat=df_X[cat_cols]\n",
        "df_cat = pd.get_dummies(df_cat,drop_first = True)\n",
        "# Añadimos las variables dummy de las categorias al DataFrame\n",
        "df_X = pd.concat([df_X,df_cat], axis = 1)\n",
        "\n",
        "# Eliminamos las variables originales\n",
        "df_X = df_X.drop(cat_cols, axis=1)"
      ],
      "metadata": {
        "id": "ksEyiDEIcqcF"
      },
      "execution_count": 240,
      "outputs": []
    },
    {
      "cell_type": "code",
      "source": [
        "#Generamos variables dummies para las variables ordinales\n",
        "df_ord=df_X[ord_cols]\n",
        "df_ord = pd.get_dummies(df_ord,drop_first = True)\n",
        "# Añadimos las variables dummy de las ordinales al DataFrame\n",
        "df_X = pd.concat([df_X,df_ord], axis = 1)\n",
        "\n",
        "# Eliminamos las variables originales\n",
        "df_X = df_X.drop(ord_cols, axis=1)"
      ],
      "metadata": {
        "id": "oaURIhcOp-gq"
      },
      "execution_count": 241,
      "outputs": []
    },
    {
      "cell_type": "code",
      "source": [
        "# Estandarización\n",
        "from sklearn.preprocessing import StandardScaler\n",
        "scaler = StandardScaler()\n",
        "df_X_process=scaler.fit_transform(df_X)"
      ],
      "metadata": {
        "id": "0SiiDhfEroPJ"
      },
      "execution_count": 242,
      "outputs": []
    },
    {
      "cell_type": "code",
      "source": [
        "df_X_process.shape[1]"
      ],
      "metadata": {
        "colab": {
          "base_uri": "https://localhost:8080/"
        },
        "id": "tL3LBzWutYON",
        "outputId": "dbfd777f-415b-4f70-8775-79bb6851b3ee"
      },
      "execution_count": 243,
      "outputs": [
        {
          "output_type": "execute_result",
          "data": {
            "text/plain": [
              "82"
            ]
          },
          "metadata": {},
          "execution_count": 243
        }
      ]
    },
    {
      "cell_type": "code",
      "source": [
        "from sklearn.decomposition import PCA\n",
        "# Loop para pararnos al 85% de explicación con toda la base de datos y creando las variables dummies de las variable categ´roicas y ordinales\n",
        "for comp in range(2, df_X_process.shape[1]):\n",
        "    pca = PCA(n_components= comp, random_state=42)\n",
        "    pca.fit(df_X_process)\n",
        "    comp_check = pca.explained_variance_ratio_\n",
        "    final_comp = comp\n",
        "    if comp_check.sum() > 0.85:\n",
        "        break"
      ],
      "metadata": {
        "id": "sMT07JrYtW-U"
      },
      "execution_count": 244,
      "outputs": []
    },
    {
      "cell_type": "code",
      "source": [
        "Final_PCA = PCA(n_components= final_comp,random_state=42)\n",
        "Final_PCA.fit(df_X_process)\n",
        "cluster_df=Final_PCA.transform(df_X_process)\n",
        "num_comps = comp_check.shape[0]\n",
        "print(\"Con toda la base de datos y haciendo dummies las variables ordinarias y categóricas con\",final_comp,\"PCAs explicamos el\",'{:.2f}'.format(comp_check.sum()*100),'% de la variabilidad')\n"
      ],
      "metadata": {
        "colab": {
          "base_uri": "https://localhost:8080/"
        },
        "id": "_QlBDZjAup2N",
        "outputId": "2359b628-3e11-47d2-d321-378b40f80133"
      },
      "execution_count": 245,
      "outputs": [
        {
          "output_type": "stream",
          "name": "stdout",
          "text": [
            "Con toda la base de datos y haciendo dummies las variables ordinarias y categóricas con 39 PCAs explicamos el 85.61 % de la variabilidad\n"
          ]
        }
      ]
    },
    {
      "cell_type": "code",
      "source": [
        "#Ejercicio 2, únicamente considerando las variables numéricas y ordinales\n",
        "df_X2 = df.iloc[:, :-1]\n",
        "df_X2=df_X2.drop(['gender','education','marital_status'],axis=1)\n",
        "df_X2['payment_status_sep05'] = df_X2['payment_status_sep05'].astype(float) \n",
        "df_X2['payment_status_aug05'] = df_X2['payment_status_aug05'].astype(float) \n",
        "df_X2['payment_status_jul05'] = df_X2['payment_status_jul05'].astype(float) \n",
        "df_X2['payment_status_jun05'] = df_X2['payment_status_jun05'].astype(float) \n",
        "df_X2['payment_status_may05'] = df_X2['payment_status_may05'].astype(float) \n",
        "df_X2['payment_status_apr05'] = df_X2['payment_status_apr05'].astype(float) "
      ],
      "metadata": {
        "id": "5QgUWVxYw76Z"
      },
      "execution_count": 246,
      "outputs": []
    },
    {
      "cell_type": "code",
      "source": [
        "df_X2.dtypes"
      ],
      "metadata": {
        "colab": {
          "base_uri": "https://localhost:8080/"
        },
        "id": "re24P0RG0LTx",
        "outputId": "853b1f02-dc75-453a-b4c4-dc50c1a08682"
      },
      "execution_count": 247,
      "outputs": [
        {
          "output_type": "execute_result",
          "data": {
            "text/plain": [
              "credit_amount             int64\n",
              "age                     float64\n",
              "payment_status_sep05    float64\n",
              "payment_status_aug05    float64\n",
              "payment_status_jul05    float64\n",
              "payment_status_jun05    float64\n",
              "payment_status_may05    float64\n",
              "payment_status_apr05    float64\n",
              "bill_amount_sep05       float64\n",
              "bill_amount_aug05       float64\n",
              "bill_amount_jul05       float64\n",
              "bill_amount_jun05       float64\n",
              "bill_amount_may05       float64\n",
              "bill_amount_apr05       float64\n",
              "amount_paid_sep05       float64\n",
              "amount_paid_aug05       float64\n",
              "amount_paid_jul05       float64\n",
              "amount_paid_jun05       float64\n",
              "amount_paid_may05       float64\n",
              "amount_paid_apr05       float64\n",
              "dtype: object"
            ]
          },
          "metadata": {},
          "execution_count": 247
        }
      ]
    },
    {
      "cell_type": "code",
      "source": [
        "sns.heatmap(df_X2.corr().round(2),cmap ='coolwarm')"
      ],
      "metadata": {
        "colab": {
          "base_uri": "https://localhost:8080/",
          "height": 396
        },
        "id": "J05qOeL7zylQ",
        "outputId": "07e3b0d3-b8d3-45ff-c5e4-5621ba3527ac"
      },
      "execution_count": 248,
      "outputs": [
        {
          "output_type": "execute_result",
          "data": {
            "text/plain": [
              "<matplotlib.axes._subplots.AxesSubplot at 0x7fea63375c50>"
            ]
          },
          "metadata": {},
          "execution_count": 248
        },
        {
          "output_type": "display_data",
          "data": {
            "text/plain": [
              "<Figure size 432x288 with 2 Axes>"
            ],
            "image/png": "[encoded data removed]"
          },
          "metadata": {
            "needs_background": "light"
          }
        }
      ]
    },
    {
      "cell_type": "code",
      "source": [
        "#normalizamos los datos\n",
        "pcs = PCA(n_components=df_X2.shape[1])\n",
        "scaler = StandardScaler()\n",
        "df_X2_process = scaler.fit_transform(df_X2.dropna(axis=0))\n",
        "pcs.fit(df_X2_process)"
      ],
      "metadata": {
        "colab": {
          "base_uri": "https://localhost:8080/"
        },
        "id": "nOTOEkFI2jWH",
        "outputId": "9e38c263-e153-439d-f559-6cda41a3b425"
      },
      "execution_count": 308,
      "outputs": [
        {
          "output_type": "execute_result",
          "data": {
            "text/plain": [
              "PCA(n_components=20)"
            ]
          },
          "metadata": {},
          "execution_count": 308
        }
      ]
    },
    {
      "cell_type": "code",
      "source": [
        "pcsSummary = pd.DataFrame({'Standard deviation': np.sqrt(pcs.explained_variance_),\n",
        "                             'Proportion of variance': pcs.explained_variance_ratio_,\n",
        "                             'Cumulative proportion': np.cumsum(pcs.explained_variance_ratio_)\n",
        "                             })\n",
        "\n",
        "pcsSummary = pcsSummary.transpose()\n",
        "pcsSummary.columns = ['PC{}'.format(i) for i in range(1, len(pcsSummary.columns) + 1)]\n",
        "pcsSummary.round(4) "
      ],
      "metadata": {
        "colab": {
          "base_uri": "https://localhost:8080/",
          "height": 143
        },
        "id": "QMtBXQlF6FU4",
        "outputId": "1ad20d39-299a-4eec-e47a-37f4b8d67d76"
      },
      "execution_count": 309,
      "outputs": [
        {
          "output_type": "execute_result",
          "data": {
            "text/plain": [
              "                           PC1     PC2     PC3     PC4     PC5     PC6  \\\n",
              "Standard deviation      2.5571  2.0155  1.2282  1.0013  0.9608  0.9425   \n",
              "Proportion of variance  0.3269  0.2031  0.0754  0.0501  0.0462  0.0444   \n",
              "Cumulative proportion   0.3269  0.5300  0.6055  0.6556  0.7017  0.7462   \n",
              "\n",
              "                           PC7     PC8     PC9    PC10    PC11    PC12  \\\n",
              "Standard deviation      0.9348  0.8854  0.8560  0.8367  0.7691  0.6360   \n",
              "Proportion of variance  0.0437  0.0392  0.0366  0.0350  0.0296  0.0202   \n",
              "Cumulative proportion   0.7898  0.8290  0.8657  0.9007  0.9303  0.9505   \n",
              "\n",
              "                          PC13    PC14    PC15    PC16    PC17    PC18  \\\n",
              "Standard deviation      0.5097  0.5005  0.4345  0.3631  0.2649  0.2020   \n",
              "Proportion of variance  0.0130  0.0125  0.0094  0.0066  0.0035  0.0020   \n",
              "Cumulative proportion   0.9635  0.9760  0.9854  0.9920  0.9955  0.9976   \n",
              "\n",
              "                          PC19    PC20  \n",
              "Standard deviation      0.1590  0.1524  \n",
              "Proportion of variance  0.0013  0.0012  \n",
              "Cumulative proportion   0.9988  1.0000  "
            ],
            "text/html": [
              "\n",
              "  <div id=\"df-da844b5f-3a0c-470d-ae87-441b5a15b1ae\">\n",
              "    <div class=\"colab-df-container\">\n",
              "      <div>\n",
              "<style scoped>\n",
              "    .dataframe tbody tr th:only-of-type {\n",
              "        vertical-align: middle;\n",
              "    }\n",
              "\n",
              "    .dataframe tbody tr th {\n",
              "        vertical-align: top;\n",
              "    }\n",
              "\n",
              "    .dataframe thead th {\n",
              "        text-align: right;\n",
              "    }\n",
              "</style>\n",
              "<table border=\"1\" class=\"dataframe\">\n",
              "  <thead>\n",
              "    <tr style=\"text-align: right;\">\n",
              "      <th></th>\n",
              "      <th>PC1</th>\n",
              "      <th>PC2</th>\n",
              "      <th>PC3</th>\n",
              "      <th>PC4</th>\n",
              "      <th>PC5</th>\n",
              "      <th>PC6</th>\n",
              "      <th>PC7</th>\n",
              "      <th>PC8</th>\n",
              "      <th>PC9</th>\n",
              "      <th>PC10</th>\n",
              "      <th>PC11</th>\n",
              "      <th>PC12</th>\n",
              "      <th>PC13</th>\n",
              "      <th>PC14</th>\n",
              "      <th>PC15</th>\n",
              "      <th>PC16</th>\n",
              "      <th>PC17</th>\n",
              "      <th>PC18</th>\n",
              "      <th>PC19</th>\n",
              "      <th>PC20</th>\n",
              "    </tr>\n",
              "  </thead>\n",
              "  <tbody>\n",
              "    <tr>\n",
              "      <th>Standard deviation</th>\n",
              "      <td>2.5571</td>\n",
              "      <td>2.0155</td>\n",
              "      <td>1.2282</td>\n",
              "      <td>1.0013</td>\n",
              "      <td>0.9608</td>\n",
              "      <td>0.9425</td>\n",
              "      <td>0.9348</td>\n",
              "      <td>0.8854</td>\n",
              "      <td>0.8560</td>\n",
              "      <td>0.8367</td>\n",
              "      <td>0.7691</td>\n",
              "      <td>0.6360</td>\n",
              "      <td>0.5097</td>\n",
              "      <td>0.5005</td>\n",
              "      <td>0.4345</td>\n",
              "      <td>0.3631</td>\n",
              "      <td>0.2649</td>\n",
              "      <td>0.2020</td>\n",
              "      <td>0.1590</td>\n",
              "      <td>0.1524</td>\n",
              "    </tr>\n",
              "    <tr>\n",
              "      <th>Proportion of variance</th>\n",
              "      <td>0.3269</td>\n",
              "      <td>0.2031</td>\n",
              "      <td>0.0754</td>\n",
              "      <td>0.0501</td>\n",
              "      <td>0.0462</td>\n",
              "      <td>0.0444</td>\n",
              "      <td>0.0437</td>\n",
              "      <td>0.0392</td>\n",
              "      <td>0.0366</td>\n",
              "      <td>0.0350</td>\n",
              "      <td>0.0296</td>\n",
              "      <td>0.0202</td>\n",
              "      <td>0.0130</td>\n",
              "      <td>0.0125</td>\n",
              "      <td>0.0094</td>\n",
              "      <td>0.0066</td>\n",
              "      <td>0.0035</td>\n",
              "      <td>0.0020</td>\n",
              "      <td>0.0013</td>\n",
              "      <td>0.0012</td>\n",
              "    </tr>\n",
              "    <tr>\n",
              "      <th>Cumulative proportion</th>\n",
              "      <td>0.3269</td>\n",
              "      <td>0.5300</td>\n",
              "      <td>0.6055</td>\n",
              "      <td>0.6556</td>\n",
              "      <td>0.7017</td>\n",
              "      <td>0.7462</td>\n",
              "      <td>0.7898</td>\n",
              "      <td>0.8290</td>\n",
              "      <td>0.8657</td>\n",
              "      <td>0.9007</td>\n",
              "      <td>0.9303</td>\n",
              "      <td>0.9505</td>\n",
              "      <td>0.9635</td>\n",
              "      <td>0.9760</td>\n",
              "      <td>0.9854</td>\n",
              "      <td>0.9920</td>\n",
              "      <td>0.9955</td>\n",
              "      <td>0.9976</td>\n",
              "      <td>0.9988</td>\n",
              "      <td>1.0000</td>\n",
              "    </tr>\n",
              "  </tbody>\n",
              "</table>\n",
              "</div>\n",
              "      <button class=\"colab-df-convert\" onclick=\"convertToInteractive('df-da844b5f-3a0c-470d-ae87-441b5a15b1ae')\"\n",
              "              title=\"Convert this dataframe to an interactive table.\"\n",
              "              style=\"display:none;\">\n",
              "        \n",
              "  <svg xmlns=\"http://www.w3.org/2000/svg\" height=\"24px\"viewBox=\"0 0 24 24\"\n",
              "       width=\"24px\">\n",
              "    <path d=\"M0 0h24v24H0V0z\" fill=\"none\"/>\n",
              "    <path d=\"M18.56 5.44l.94 2.06.94-2.06 2.06-.94-2.06-.94-.94-2.06-.94 2.06-2.06.94zm-11 1L8.5 8.5l.94-2.06 2.06-.94-2.06-.94L8.5 2.5l-.94 2.06-2.06.94zm10 10l.94 2.06.94-2.06 2.06-.94-2.06-.94-.94-2.06-.94 2.06-2.06.94z\"/><path d=\"M17.41 7.96l-1.37-1.37c-.4-.4-.92-.59-1.43-.59-.52 0-1.04.2-1.43.59L10.3 9.45l-7.72 7.72c-.78.78-.78 2.05 0 2.83L4 21.41c.39.39.9.59 1.41.59.51 0 1.02-.2 1.41-.59l7.78-7.78 2.81-2.81c.8-.78.8-2.07 0-2.86zM5.41 20L4 18.59l7.72-7.72 1.47 1.35L5.41 20z\"/>\n",
              "  </svg>\n",
              "      </button>\n",
              "      \n",
              "  <style>\n",
              "    .colab-df-container {\n",
              "      display:flex;\n",
              "      flex-wrap:wrap;\n",
              "      gap: 12px;\n",
              "    }\n",
              "\n",
              "    .colab-df-convert {\n",
              "      background-color: #E8F0FE;\n",
              "      border: none;\n",
              "      border-radius: 50%;\n",
              "      cursor: pointer;\n",
              "      display: none;\n",
              "      fill: #1967D2;\n",
              "      height: 32px;\n",
              "      padding: 0 0 0 0;\n",
              "      width: 32px;\n",
              "    }\n",
              "\n",
              "    .colab-df-convert:hover {\n",
              "      background-color: #E2EBFA;\n",
              "      box-shadow: 0px 1px 2px rgba(60, 64, 67, 0.3), 0px 1px 3px 1px rgba(60, 64, 67, 0.15);\n",
              "      fill: #174EA6;\n",
              "    }\n",
              "\n",
              "    [theme=dark] .colab-df-convert {\n",
              "      background-color: #3B4455;\n",
              "      fill: #D2E3FC;\n",
              "    }\n",
              "\n",
              "    [theme=dark] .colab-df-convert:hover {\n",
              "      background-color: #434B5C;\n",
              "      box-shadow: 0px 1px 3px 1px rgba(0, 0, 0, 0.15);\n",
              "      filter: drop-shadow(0px 1px 2px rgba(0, 0, 0, 0.3));\n",
              "      fill: #FFFFFF;\n",
              "    }\n",
              "  </style>\n",
              "\n",
              "      <script>\n",
              "        const buttonEl =\n",
              "          document.querySelector('#df-da844b5f-3a0c-470d-ae87-441b5a15b1ae button.colab-df-convert');\n",
              "        buttonEl.style.display =\n",
              "          google.colab.kernel.accessAllowed ? 'block' : 'none';\n",
              "\n",
              "        async function convertToInteractive(key) {\n",
              "          const element = document.querySelector('#df-da844b5f-3a0c-470d-ae87-441b5a15b1ae');\n",
              "          const dataTable =\n",
              "            await google.colab.kernel.invokeFunction('convertToInteractive',\n",
              "                                                     [key], {});\n",
              "          if (!dataTable) return;\n",
              "\n",
              "          const docLinkHtml = 'Like what you see? Visit the ' +\n",
              "            '<a target=\"_blank\" href=https://colab.research.google.com/notebooks/data_table.ipynb>data table notebook</a>'\n",
              "            + ' to learn more about interactive tables.';\n",
              "          element.innerHTML = '';\n",
              "          dataTable['output_type'] = 'display_data';\n",
              "          await google.colab.output.renderOutput(dataTable, element);\n",
              "          const docLink = document.createElement('div');\n",
              "          docLink.innerHTML = docLinkHtml;\n",
              "          element.appendChild(docLink);\n",
              "        }\n",
              "      </script>\n",
              "    </div>\n",
              "  </div>\n",
              "  "
            ]
          },
          "metadata": {},
          "execution_count": 309
        }
      ]
    },
    {
      "cell_type": "code",
      "source": [
        "for i in range(1,n+2):\n",
        "  print(\"Con\",i,\"componente(s) se explica el:\",((pcsSummary.iloc[2][i-1])*100).round(1),\"% de la variación\")"
      ],
      "metadata": {
        "colab": {
          "base_uri": "https://localhost:8080/"
        },
        "id": "-MMqh4v07mgQ",
        "outputId": "ab1f931f-57e9-4af6-92a4-e98be4ccf5cc"
      },
      "execution_count": 317,
      "outputs": [
        {
          "output_type": "stream",
          "name": "stdout",
          "text": [
            "Con 1 componente(s) se explica el: 32.7 % de la variación\n",
            "Con 2 componente(s) se explica el: 53.0 % de la variación\n",
            "Con 3 componente(s) se explica el: 60.5 % de la variación\n",
            "Con 4 componente(s) se explica el: 65.6 % de la variación\n",
            "Con 5 componente(s) se explica el: 70.2 % de la variación\n",
            "Con 6 componente(s) se explica el: 74.6 % de la variación\n",
            "Con 7 componente(s) se explica el: 79.0 % de la variación\n",
            "Con 8 componente(s) se explica el: 82.9 % de la variación\n",
            "Con 9 componente(s) se explica el: 86.6 % de la variación\n",
            "Con 10 componente(s) se explica el: 90.1 % de la variación\n",
            "Con 11 componente(s) se explica el: 93.0 % de la variación\n",
            "Con 12 componente(s) se explica el: 95.0 % de la variación\n",
            "Con 13 componente(s) se explica el: 96.3 % de la variación\n",
            "Con 14 componente(s) se explica el: 97.6 % de la variación\n",
            "Con 15 componente(s) se explica el: 98.5 % de la variación\n",
            "Con 16 componente(s) se explica el: 99.2 % de la variación\n",
            "Con 17 componente(s) se explica el: 99.6 % de la variación\n",
            "Con 18 componente(s) se explica el: 99.8 % de la variación\n",
            "Con 19 componente(s) se explica el: 99.9 % de la variación\n",
            "Con 20 componente(s) se explica el: 100.0 % de la variación\n"
          ]
        }
      ]
    },
    {
      "cell_type": "code",
      "source": [
        "PC_components = np.arange(pcs.n_components_) + 1\n",
        "_ = sns.set(style = 'whitegrid', \n",
        "            font_scale = 1.2\n",
        "            )\n",
        "fig, ax = plt.subplots(figsize=(10, 7))\n",
        "\n",
        "_ = sns.barplot(x = PC_components, \n",
        "                y = pcs.explained_variance_ratio_, \n",
        "                color = 'b'\n",
        "                )\n",
        "\n",
        "_ = sns.lineplot(x = PC_components-1, \n",
        "                 y = np.cumsum(pcs.explained_variance_ratio_), \n",
        "                 color = 'black', \n",
        "                 linestyle = '-', \n",
        "                 linewidth = 2, \n",
        "                 marker = 'o', \n",
        "                 markersize = 8\n",
        "                 )\n",
        "\n",
        "plt.title('Explicación por PCA & Acumulada')\n",
        "plt.xlabel('N-ésimo Componente Principal')\n",
        "plt.ylabel('Varianza explicada')\n",
        "plt.ylim(0, 1)\n",
        "plt.show()"
      ],
      "metadata": {
        "colab": {
          "base_uri": "https://localhost:8080/",
          "height": 470
        },
        "id": "pPjeE1Yv995j",
        "outputId": "2c0e65c1-4a2c-45f4-ee2a-0cb6fc1772ca"
      },
      "execution_count": 319,
      "outputs": [
        {
          "output_type": "display_data",
          "data": {
            "text/plain": [
              "<Figure size 720x504 with 1 Axes>"
            ],
            "image/png": "[encoded data removed]"
          },
          "metadata": {}
        }
      ]
    },
    {
      "cell_type": "code",
      "source": [
        "pcsComponents = pd.DataFrame(pcs.components_.transpose(),\n",
        "                                columns = pcsSummary.columns,\n",
        "                                 index = df_X2.iloc[:,:].columns\n",
        "                                )\n",
        "pcsComponents.iloc[:,:3]"
      ],
      "metadata": {
        "colab": {
          "base_uri": "https://localhost:8080/",
          "height": 676
        },
        "id": "h6rOlbS_-a73",
        "outputId": "f3d92413-660c-45e3-e74f-1333506b9c9c"
      },
      "execution_count": 320,
      "outputs": [
        {
          "output_type": "execute_result",
          "data": {
            "text/plain": [
              "                           PC1       PC2       PC3\n",
              "credit_amount         0.069885  0.313377  0.051465\n",
              "age                   0.013085  0.067837 -0.035256\n",
              "payment_status_sep05  0.160321 -0.300861 -0.004172\n",
              "payment_status_aug05  0.193164 -0.337784  0.044609\n",
              "payment_status_jul05  0.199407 -0.347096  0.099616\n",
              "payment_status_jun05  0.206283 -0.348117  0.136589\n",
              "payment_status_may05  0.210207 -0.335234  0.155502\n",
              "payment_status_apr05  0.205713 -0.309451  0.153587\n",
              "bill_amount_sep05     0.334806  0.139898 -0.224202\n",
              "bill_amount_aug05     0.346245  0.140121 -0.193859\n",
              "bill_amount_jul05     0.350289  0.145909 -0.131322\n",
              "bill_amount_jun05     0.354445  0.144748 -0.119241\n",
              "bill_amount_may05     0.352339  0.142823 -0.100997\n",
              "bill_amount_apr05     0.345098  0.140984 -0.091248\n",
              "amount_paid_sep05     0.094661  0.149605  0.400701\n",
              "amount_paid_aug05     0.079128  0.140423  0.437071\n",
              "amount_paid_jul05     0.086850  0.152059  0.397208\n",
              "amount_paid_jun05     0.078195  0.141745  0.337374\n",
              "amount_paid_may05     0.075732  0.137534  0.263302\n",
              "amount_paid_apr05     0.070314  0.129701  0.295631"
            ],
            "text/html": [
              "\n",
              "  <div id=\"df-ec87d17c-3a9d-4c46-87dd-a454f2e60d53\">\n",
              "    <div class=\"colab-df-container\">\n",
              "      <div>\n",
              "<style scoped>\n",
              "    .dataframe tbody tr th:only-of-type {\n",
              "        vertical-align: middle;\n",
              "    }\n",
              "\n",
              "    .dataframe tbody tr th {\n",
              "        vertical-align: top;\n",
              "    }\n",
              "\n",
              "    .dataframe thead th {\n",
              "        text-align: right;\n",
              "    }\n",
              "</style>\n",
              "<table border=\"1\" class=\"dataframe\">\n",
              "  <thead>\n",
              "    <tr style=\"text-align: right;\">\n",
              "      <th></th>\n",
              "      <th>PC1</th>\n",
              "      <th>PC2</th>\n",
              "      <th>PC3</th>\n",
              "    </tr>\n",
              "  </thead>\n",
              "  <tbody>\n",
              "    <tr>\n",
              "      <th>credit_amount</th>\n",
              "      <td>0.069885</td>\n",
              "      <td>0.313377</td>\n",
              "      <td>0.051465</td>\n",
              "    </tr>\n",
              "    <tr>\n",
              "      <th>age</th>\n",
              "      <td>0.013085</td>\n",
              "      <td>0.067837</td>\n",
              "      <td>-0.035256</td>\n",
              "    </tr>\n",
              "    <tr>\n",
              "      <th>payment_status_sep05</th>\n",
              "      <td>0.160321</td>\n",
              "      <td>-0.300861</td>\n",
              "      <td>-0.004172</td>\n",
              "    </tr>\n",
              "    <tr>\n",
              "      <th>payment_status_aug05</th>\n",
              "      <td>0.193164</td>\n",
              "      <td>-0.337784</td>\n",
              "      <td>0.044609</td>\n",
              "    </tr>\n",
              "    <tr>\n",
              "      <th>payment_status_jul05</th>\n",
              "      <td>0.199407</td>\n",
              "      <td>-0.347096</td>\n",
              "      <td>0.099616</td>\n",
              "    </tr>\n",
              "    <tr>\n",
              "      <th>payment_status_jun05</th>\n",
              "      <td>0.206283</td>\n",
              "      <td>-0.348117</td>\n",
              "      <td>0.136589</td>\n",
              "    </tr>\n",
              "    <tr>\n",
              "      <th>payment_status_may05</th>\n",
              "      <td>0.210207</td>\n",
              "      <td>-0.335234</td>\n",
              "      <td>0.155502</td>\n",
              "    </tr>\n",
              "    <tr>\n",
              "      <th>payment_status_apr05</th>\n",
              "      <td>0.205713</td>\n",
              "      <td>-0.309451</td>\n",
              "      <td>0.153587</td>\n",
              "    </tr>\n",
              "    <tr>\n",
              "      <th>bill_amount_sep05</th>\n",
              "      <td>0.334806</td>\n",
              "      <td>0.139898</td>\n",
              "      <td>-0.224202</td>\n",
              "    </tr>\n",
              "    <tr>\n",
              "      <th>bill_amount_aug05</th>\n",
              "      <td>0.346245</td>\n",
              "      <td>0.140121</td>\n",
              "      <td>-0.193859</td>\n",
              "    </tr>\n",
              "    <tr>\n",
              "      <th>bill_amount_jul05</th>\n",
              "      <td>0.350289</td>\n",
              "      <td>0.145909</td>\n",
              "      <td>-0.131322</td>\n",
              "    </tr>\n",
              "    <tr>\n",
              "      <th>bill_amount_jun05</th>\n",
              "      <td>0.354445</td>\n",
              "      <td>0.144748</td>\n",
              "      <td>-0.119241</td>\n",
              "    </tr>\n",
              "    <tr>\n",
              "      <th>bill_amount_may05</th>\n",
              "      <td>0.352339</td>\n",
              "      <td>0.142823</td>\n",
              "      <td>-0.100997</td>\n",
              "    </tr>\n",
              "    <tr>\n",
              "      <th>bill_amount_apr05</th>\n",
              "      <td>0.345098</td>\n",
              "      <td>0.140984</td>\n",
              "      <td>-0.091248</td>\n",
              "    </tr>\n",
              "    <tr>\n",
              "      <th>amount_paid_sep05</th>\n",
              "      <td>0.094661</td>\n",
              "      <td>0.149605</td>\n",
              "      <td>0.400701</td>\n",
              "    </tr>\n",
              "    <tr>\n",
              "      <th>amount_paid_aug05</th>\n",
              "      <td>0.079128</td>\n",
              "      <td>0.140423</td>\n",
              "      <td>0.437071</td>\n",
              "    </tr>\n",
              "    <tr>\n",
              "      <th>amount_paid_jul05</th>\n",
              "      <td>0.086850</td>\n",
              "      <td>0.152059</td>\n",
              "      <td>0.397208</td>\n",
              "    </tr>\n",
              "    <tr>\n",
              "      <th>amount_paid_jun05</th>\n",
              "      <td>0.078195</td>\n",
              "      <td>0.141745</td>\n",
              "      <td>0.337374</td>\n",
              "    </tr>\n",
              "    <tr>\n",
              "      <th>amount_paid_may05</th>\n",
              "      <td>0.075732</td>\n",
              "      <td>0.137534</td>\n",
              "      <td>0.263302</td>\n",
              "    </tr>\n",
              "    <tr>\n",
              "      <th>amount_paid_apr05</th>\n",
              "      <td>0.070314</td>\n",
              "      <td>0.129701</td>\n",
              "      <td>0.295631</td>\n",
              "    </tr>\n",
              "  </tbody>\n",
              "</table>\n",
              "</div>\n",
              "      <button class=\"colab-df-convert\" onclick=\"convertToInteractive('df-ec87d17c-3a9d-4c46-87dd-a454f2e60d53')\"\n",
              "              title=\"Convert this dataframe to an interactive table.\"\n",
              "              style=\"display:none;\">\n",
              "        \n",
              "  <svg xmlns=\"http://www.w3.org/2000/svg\" height=\"24px\"viewBox=\"0 0 24 24\"\n",
              "       width=\"24px\">\n",
              "    <path d=\"M0 0h24v24H0V0z\" fill=\"none\"/>\n",
              "    <path d=\"M18.56 5.44l.94 2.06.94-2.06 2.06-.94-2.06-.94-.94-2.06-.94 2.06-2.06.94zm-11 1L8.5 8.5l.94-2.06 2.06-.94-2.06-.94L8.5 2.5l-.94 2.06-2.06.94zm10 10l.94 2.06.94-2.06 2.06-.94-2.06-.94-.94-2.06-.94 2.06-2.06.94z\"/><path d=\"M17.41 7.96l-1.37-1.37c-.4-.4-.92-.59-1.43-.59-.52 0-1.04.2-1.43.59L10.3 9.45l-7.72 7.72c-.78.78-.78 2.05 0 2.83L4 21.41c.39.39.9.59 1.41.59.51 0 1.02-.2 1.41-.59l7.78-7.78 2.81-2.81c.8-.78.8-2.07 0-2.86zM5.41 20L4 18.59l7.72-7.72 1.47 1.35L5.41 20z\"/>\n",
              "  </svg>\n",
              "      </button>\n",
              "      \n",
              "  <style>\n",
              "    .colab-df-container {\n",
              "      display:flex;\n",
              "      flex-wrap:wrap;\n",
              "      gap: 12px;\n",
              "    }\n",
              "\n",
              "    .colab-df-convert {\n",
              "      background-color: #E8F0FE;\n",
              "      border: none;\n",
              "      border-radius: 50%;\n",
              "      cursor: pointer;\n",
              "      display: none;\n",
              "      fill: #1967D2;\n",
              "      height: 32px;\n",
              "      padding: 0 0 0 0;\n",
              "      width: 32px;\n",
              "    }\n",
              "\n",
              "    .colab-df-convert:hover {\n",
              "      background-color: #E2EBFA;\n",
              "      box-shadow: 0px 1px 2px rgba(60, 64, 67, 0.3), 0px 1px 3px 1px rgba(60, 64, 67, 0.15);\n",
              "      fill: #174EA6;\n",
              "    }\n",
              "\n",
              "    [theme=dark] .colab-df-convert {\n",
              "      background-color: #3B4455;\n",
              "      fill: #D2E3FC;\n",
              "    }\n",
              "\n",
              "    [theme=dark] .colab-df-convert:hover {\n",
              "      background-color: #434B5C;\n",
              "      box-shadow: 0px 1px 3px 1px rgba(0, 0, 0, 0.15);\n",
              "      filter: drop-shadow(0px 1px 2px rgba(0, 0, 0, 0.3));\n",
              "      fill: #FFFFFF;\n",
              "    }\n",
              "  </style>\n",
              "\n",
              "      <script>\n",
              "        const buttonEl =\n",
              "          document.querySelector('#df-ec87d17c-3a9d-4c46-87dd-a454f2e60d53 button.colab-df-convert');\n",
              "        buttonEl.style.display =\n",
              "          google.colab.kernel.accessAllowed ? 'block' : 'none';\n",
              "\n",
              "        async function convertToInteractive(key) {\n",
              "          const element = document.querySelector('#df-ec87d17c-3a9d-4c46-87dd-a454f2e60d53');\n",
              "          const dataTable =\n",
              "            await google.colab.kernel.invokeFunction('convertToInteractive',\n",
              "                                                     [key], {});\n",
              "          if (!dataTable) return;\n",
              "\n",
              "          const docLinkHtml = 'Like what you see? Visit the ' +\n",
              "            '<a target=\"_blank\" href=https://colab.research.google.com/notebooks/data_table.ipynb>data table notebook</a>'\n",
              "            + ' to learn more about interactive tables.';\n",
              "          element.innerHTML = '';\n",
              "          dataTable['output_type'] = 'display_data';\n",
              "          await google.colab.output.renderOutput(dataTable, element);\n",
              "          const docLink = document.createElement('div');\n",
              "          docLink.innerHTML = docLinkHtml;\n",
              "          element.appendChild(docLink);\n",
              "        }\n",
              "      </script>\n",
              "    </div>\n",
              "  </div>\n",
              "  "
            ]
          },
          "metadata": {},
          "execution_count": 320
        }
      ]
    },
    {
      "cell_type": "code",
      "source": [
        "data_paso=pcsComponents[['PC1', 'PC2','PC3']]\n",
        "\n",
        "# Creamos la figura\n",
        "fig = plt.figure()\n",
        "# Creamos el plano 3D\n",
        "ax1 = fig.add_subplot(111, projection='3d')\n",
        "# Agregamos los puntos en el plano 3D\n",
        "ax1.scatter(data_paso['PC1'],data_paso['PC2'],data_paso['PC3'], c='g', marker='o')\n",
        "plt.xlabel('PC 1')\n",
        "plt.ylabel('PC 2')\n",
        "\n",
        "# Mostramos el gráfico\n",
        "plt.show()"
      ],
      "metadata": {
        "colab": {
          "base_uri": "https://localhost:8080/",
          "height": 248
        },
        "id": "1N8Nz5Qj-wRm",
        "outputId": "2efb350c-8315-4fa7-9c78-40bad4c47a5a"
      },
      "execution_count": 321,
      "outputs": [
        {
          "output_type": "display_data",
          "data": {
            "text/plain": [
              "<Figure size 432x288 with 1 Axes>"
            ],
            "image/png": "[encoded data removed]"
          },
          "metadata": {}
        }
      ]
    },
    {
      "cell_type": "code",
      "source": [
        "#En 2 dimensiones\n",
        "plt.scatter(x=data_paso['PC1'],y=data_paso['PC2'])\n",
        "plt.xlabel('Componente principal 1')\n",
        "plt.ylabel('Componente principal 2');\n",
        "plt.show()"
      ],
      "metadata": {
        "colab": {
          "base_uri": "https://localhost:8080/",
          "height": 289
        },
        "id": "VCFwSI5H_UxU",
        "outputId": "25755630-bb4e-4e68-909e-6b1b667903e6"
      },
      "execution_count": 322,
      "outputs": [
        {
          "output_type": "display_data",
          "data": {
            "text/plain": [
              "<Figure size 432x288 with 1 Axes>"
            ],
            "image/png": "[encoded data removed]"
          },
          "metadata": {}
        }
      ]
    },
    {
      "cell_type": "code",
      "source": [
        "pcsComponents.PC1.nlargest(3)"
      ],
      "metadata": {
        "colab": {
          "base_uri": "https://localhost:8080/"
        },
        "id": "fOGyjw6W_toe",
        "outputId": "48a1f555-5900-4c82-fa46-cc138eef0f7d"
      },
      "execution_count": 324,
      "outputs": [
        {
          "output_type": "execute_result",
          "data": {
            "text/plain": [
              "bill_amount_jun05    0.354445\n",
              "bill_amount_may05    0.352339\n",
              "bill_amount_jul05    0.350289\n",
              "Name: PC1, dtype: float64"
            ]
          },
          "metadata": {},
          "execution_count": 324
        }
      ]
    },
    {
      "cell_type": "code",
      "source": [
        "pcsComponents.PC1.nsmallest(3)"
      ],
      "metadata": {
        "colab": {
          "base_uri": "https://localhost:8080/"
        },
        "id": "U0GjOUGI_v-X",
        "outputId": "b5e9682d-b529-4464-89dd-1d2c0ef4947c"
      },
      "execution_count": 326,
      "outputs": [
        {
          "output_type": "execute_result",
          "data": {
            "text/plain": [
              "age                  0.013085\n",
              "credit_amount        0.069885\n",
              "amount_paid_apr05    0.070314\n",
              "Name: PC1, dtype: float64"
            ]
          },
          "metadata": {},
          "execution_count": 326
        }
      ]
    },
    {
      "cell_type": "code",
      "source": [
        "#El comportamiento de pago estará asociado principalmente con los montos exigibles más reciente\n",
        "#La edad es la variable que menor información que incide sobre la calidad de pago aporta, servirá para efectos de marketing, pero poco incide en la capacidad y calidad de pago"
      ],
      "metadata": {
        "id": "UK_6kYWC_4Ol"
      },
      "execution_count": null,
      "outputs": []
    },
    {
      "cell_type": "code",
      "source": [
        "pcsComponents"
      ],
      "metadata": {
        "colab": {
          "base_uri": "https://localhost:8080/",
          "height": 740
        },
        "id": "C6rVg-Js__uy",
        "outputId": "eb073599-385b-4280-ea36-95bc27486da3"
      },
      "execution_count": 327,
      "outputs": [
        {
          "output_type": "execute_result",
          "data": {
            "text/plain": [
              "                           PC1       PC2       PC3       PC4       PC5  \\\n",
              "credit_amount         0.069885  0.313377  0.051465 -0.194703 -0.135573   \n",
              "age                   0.013085  0.067837 -0.035256 -0.965105  0.132592   \n",
              "payment_status_sep05  0.160321 -0.300861 -0.004172 -0.044379 -0.088707   \n",
              "payment_status_aug05  0.193164 -0.337784  0.044609 -0.045249 -0.108041   \n",
              "payment_status_jul05  0.199407 -0.347096  0.099616 -0.047382 -0.051295   \n",
              "payment_status_jun05  0.206283 -0.348117  0.136589 -0.053384 -0.005511   \n",
              "payment_status_may05  0.210207 -0.335234  0.155502 -0.042941  0.043162   \n",
              "payment_status_apr05  0.205713 -0.309451  0.153587 -0.034052  0.059664   \n",
              "bill_amount_sep05     0.334806  0.139898 -0.224202  0.021350 -0.050870   \n",
              "bill_amount_aug05     0.346245  0.140121 -0.193859  0.033223  0.019607   \n",
              "bill_amount_jul05     0.350289  0.145909 -0.131322  0.042581  0.063967   \n",
              "bill_amount_jun05     0.354445  0.144748 -0.119241  0.040339  0.092509   \n",
              "bill_amount_may05     0.352339  0.142823 -0.100997  0.040582  0.063172   \n",
              "bill_amount_apr05     0.345098  0.140984 -0.091248  0.032752 -0.059966   \n",
              "amount_paid_sep05     0.094661  0.149605  0.400701  0.049536  0.334524   \n",
              "amount_paid_aug05     0.079128  0.140423  0.437071  0.054586  0.293036   \n",
              "amount_paid_jul05     0.086850  0.152059  0.397208  0.020456  0.238471   \n",
              "amount_paid_jun05     0.078195  0.141745  0.337374  0.016857 -0.099141   \n",
              "amount_paid_may05     0.075732  0.137534  0.263302 -0.042100 -0.689718   \n",
              "amount_paid_apr05     0.070314  0.129701  0.295631 -0.054026 -0.415956   \n",
              "\n",
              "                           PC6       PC7       PC8       PC9      PC10  \\\n",
              "credit_amount        -0.011614 -0.064037  0.062696  0.021068 -0.348384   \n",
              "age                   0.019451  0.038620 -0.040454 -0.003161  0.082981   \n",
              "payment_status_sep05  0.010745 -0.010667 -0.011872  0.034810  0.565194   \n",
              "payment_status_aug05  0.006565 -0.017664 -0.003143  0.022057  0.343607   \n",
              "payment_status_jul05 -0.023924 -0.016882 -0.024313 -0.107213  0.067439   \n",
              "payment_status_jun05 -0.044998  0.018780 -0.044281 -0.001086 -0.237163   \n",
              "payment_status_may05 -0.013148  0.016039  0.085402  0.018493 -0.375674   \n",
              "payment_status_apr05  0.074846 -0.036398  0.032041  0.032303 -0.409525   \n",
              "bill_amount_sep05    -0.030015 -0.050467  0.004806  0.008166  0.068158   \n",
              "bill_amount_aug05    -0.078934 -0.041082 -0.042111 -0.134418  0.056961   \n",
              "bill_amount_jul05    -0.136165  0.078808 -0.122918  0.099440  0.025466   \n",
              "bill_amount_jun05    -0.032531  0.017024  0.124599  0.033151  0.000635   \n",
              "bill_amount_may05     0.124939 -0.068662 -0.005611  0.047197 -0.029711   \n",
              "bill_amount_apr05     0.150019  0.099782  0.013463 -0.005930 -0.042503   \n",
              "amount_paid_sep05    -0.253601  0.006936 -0.238467 -0.729361  0.077214   \n",
              "amount_paid_aug05    -0.242433  0.379176 -0.273158  0.596518  0.096071   \n",
              "amount_paid_jul05     0.255439 -0.042121  0.777441  0.017759  0.182810   \n",
              "amount_paid_jun05     0.667703 -0.379122 -0.453384  0.073636  0.057561   \n",
              "amount_paid_may05     0.081271  0.577912  0.045056 -0.186951  0.006490   \n",
              "amount_paid_apr05    -0.534174 -0.585700  0.085348  0.158404  0.037445   \n",
              "\n",
              "                          PC11      PC12      PC13      PC14      PC15  \\\n",
              "credit_amount        -0.840343  0.004280  0.037596 -0.005057  0.005401   \n",
              "age                   0.185743 -0.000071  0.000776 -0.006668 -0.001298   \n",
              "payment_status_sep05 -0.321555 -0.608998 -0.243048  0.012192  0.135090   \n",
              "payment_status_aug05 -0.194645  0.320035  0.560091 -0.060092 -0.485214   \n",
              "payment_status_jul05 -0.118189  0.541650 -0.101134 -0.163321  0.606108   \n",
              "payment_status_jun05 -0.020192  0.174737 -0.587576  0.062893 -0.224951   \n",
              "payment_status_may05  0.053870 -0.174905 -0.081915  0.146722 -0.386771   \n",
              "payment_status_apr05  0.109299 -0.362343  0.499842  0.066044  0.395425   \n",
              "bill_amount_sep05     0.032781  0.077622  0.036415  0.549866  0.051216   \n",
              "bill_amount_aug05     0.038457  0.053380  0.017334  0.370116  0.052323   \n",
              "bill_amount_jul05     0.045189  0.034178 -0.013767  0.109665  0.039565   \n",
              "bill_amount_jun05     0.058221 -0.012351 -0.048373 -0.203558 -0.041290   \n",
              "bill_amount_may05     0.067339 -0.059554 -0.026732 -0.411181 -0.058015   \n",
              "bill_amount_apr05     0.089635 -0.079691 -0.006896 -0.479977 -0.048031   \n",
              "amount_paid_sep05    -0.042314 -0.088863  0.051548 -0.045304 -0.065308   \n",
              "amount_paid_aug05    -0.045813  0.041070  0.033329  0.031992  0.045992   \n",
              "amount_paid_jul05     0.027274  0.080519 -0.048771  0.127118  0.028620   \n",
              "amount_paid_jun05     0.054052  0.039535 -0.051366  0.122917 -0.023508   \n",
              "amount_paid_may05     0.145183 -0.034698  0.007526  0.065418  0.016828   \n",
              "amount_paid_apr05     0.199065 -0.044185 -0.005038 -0.093711  0.005073   \n",
              "\n",
              "                          PC16      PC17      PC18      PC19      PC20  \n",
              "credit_amount         0.006040 -0.008938  0.014325 -0.001020  0.002417  \n",
              "age                  -0.004716  0.000282 -0.001330  0.000049  0.001035  \n",
              "payment_status_sep05 -0.033409 -0.005161 -0.000294 -0.002798  0.000232  \n",
              "payment_status_aug05  0.140565 -0.031230  0.012699  0.003335 -0.000004  \n",
              "payment_status_jul05 -0.307130  0.025301 -0.028015 -0.008503 -0.004816  \n",
              "payment_status_jun05  0.568177  0.019141  0.001772  0.014088 -0.001426  \n",
              "payment_status_may05 -0.673559  0.026978  0.023367 -0.008263 -0.000572  \n",
              "payment_status_apr05  0.317896 -0.043178 -0.012621  0.000153  0.004540  \n",
              "bill_amount_sep05     0.013211  0.414447 -0.432358 -0.183845 -0.317437  \n",
              "bill_amount_aug05    -0.000929  0.039630  0.343750  0.329443  0.646364  \n",
              "bill_amount_jul05    -0.017803 -0.483664  0.497064 -0.085819 -0.526102  \n",
              "bill_amount_jun05    -0.008759 -0.521395 -0.488554 -0.363101  0.345776  \n",
              "bill_amount_may05    -0.016596  0.068576 -0.249941  0.718383 -0.226717  \n",
              "bill_amount_apr05     0.024458  0.514091  0.338283 -0.426596  0.071595  \n",
              "amount_paid_sep05     0.018734  0.043420 -0.067369 -0.044569 -0.084591  \n",
              "amount_paid_aug05    -0.022046  0.146548 -0.070645  0.038068  0.124397  \n",
              "amount_paid_jul05     0.050731  0.001040  0.123540  0.026414 -0.063116  \n",
              "amount_paid_jun05    -0.048169 -0.111940  0.002544 -0.081195  0.042098  \n",
              "amount_paid_may05     0.000290 -0.100534 -0.069502  0.094976 -0.008262  \n",
              "amount_paid_apr05     0.000424  0.034731  0.027371 -0.017246  0.008315  "
            ],
            "text/html": [
              "\n",
              "  <div id=\"df-797a5534-5e3b-4422-9c48-90e6f4af7044\">\n",
              "    <div class=\"colab-df-container\">\n",
              "      <div>\n",
              "<style scoped>\n",
              "    .dataframe tbody tr th:only-of-type {\n",
              "        vertical-align: middle;\n",
              "    }\n",
              "\n",
              "    .dataframe tbody tr th {\n",
              "        vertical-align: top;\n",
              "    }\n",
              "\n",
              "    .dataframe thead th {\n",
              "        text-align: right;\n",
              "    }\n",
              "</style>\n",
              "<table border=\"1\" class=\"dataframe\">\n",
              "  <thead>\n",
              "    <tr style=\"text-align: right;\">\n",
              "      <th></th>\n",
              "      <th>PC1</th>\n",
              "      <th>PC2</th>\n",
              "      <th>PC3</th>\n",
              "      <th>PC4</th>\n",
              "      <th>PC5</th>\n",
              "      <th>PC6</th>\n",
              "      <th>PC7</th>\n",
              "      <th>PC8</th>\n",
              "      <th>PC9</th>\n",
              "      <th>PC10</th>\n",
              "      <th>PC11</th>\n",
              "      <th>PC12</th>\n",
              "      <th>PC13</th>\n",
              "      <th>PC14</th>\n",
              "      <th>PC15</th>\n",
              "      <th>PC16</th>\n",
              "      <th>PC17</th>\n",
              "      <th>PC18</th>\n",
              "      <th>PC19</th>\n",
              "      <th>PC20</th>\n",
              "    </tr>\n",
              "  </thead>\n",
              "  <tbody>\n",
              "    <tr>\n",
              "      <th>credit_amount</th>\n",
              "      <td>0.069885</td>\n",
              "      <td>0.313377</td>\n",
              "      <td>0.051465</td>\n",
              "      <td>-0.194703</td>\n",
              "      <td>-0.135573</td>\n",
              "      <td>-0.011614</td>\n",
              "      <td>-0.064037</td>\n",
              "      <td>0.062696</td>\n",
              "      <td>0.021068</td>\n",
              "      <td>-0.348384</td>\n",
              "      <td>-0.840343</td>\n",
              "      <td>0.004280</td>\n",
              "      <td>0.037596</td>\n",
              "      <td>-0.005057</td>\n",
              "      <td>0.005401</td>\n",
              "      <td>0.006040</td>\n",
              "      <td>-0.008938</td>\n",
              "      <td>0.014325</td>\n",
              "      <td>-0.001020</td>\n",
              "      <td>0.002417</td>\n",
              "    </tr>\n",
              "    <tr>\n",
              "      <th>age</th>\n",
              "      <td>0.013085</td>\n",
              "      <td>0.067837</td>\n",
              "      <td>-0.035256</td>\n",
              "      <td>-0.965105</td>\n",
              "      <td>0.132592</td>\n",
              "      <td>0.019451</td>\n",
              "      <td>0.038620</td>\n",
              "      <td>-0.040454</td>\n",
              "      <td>-0.003161</td>\n",
              "      <td>0.082981</td>\n",
              "      <td>0.185743</td>\n",
              "      <td>-0.000071</td>\n",
              "      <td>0.000776</td>\n",
              "      <td>-0.006668</td>\n",
              "      <td>-0.001298</td>\n",
              "      <td>-0.004716</td>\n",
              "      <td>0.000282</td>\n",
              "      <td>-0.001330</td>\n",
              "      <td>0.000049</td>\n",
              "      <td>0.001035</td>\n",
              "    </tr>\n",
              "    <tr>\n",
              "      <th>payment_status_sep05</th>\n",
              "      <td>0.160321</td>\n",
              "      <td>-0.300861</td>\n",
              "      <td>-0.004172</td>\n",
              "      <td>-0.044379</td>\n",
              "      <td>-0.088707</td>\n",
              "      <td>0.010745</td>\n",
              "      <td>-0.010667</td>\n",
              "      <td>-0.011872</td>\n",
              "      <td>0.034810</td>\n",
              "      <td>0.565194</td>\n",
              "      <td>-0.321555</td>\n",
              "      <td>-0.608998</td>\n",
              "      <td>-0.243048</td>\n",
              "      <td>0.012192</td>\n",
              "      <td>0.135090</td>\n",
              "      <td>-0.033409</td>\n",
              "      <td>-0.005161</td>\n",
              "      <td>-0.000294</td>\n",
              "      <td>-0.002798</td>\n",
              "      <td>0.000232</td>\n",
              "    </tr>\n",
              "    <tr>\n",
              "      <th>payment_status_aug05</th>\n",
              "      <td>0.193164</td>\n",
              "      <td>-0.337784</td>\n",
              "      <td>0.044609</td>\n",
              "      <td>-0.045249</td>\n",
              "      <td>-0.108041</td>\n",
              "      <td>0.006565</td>\n",
              "      <td>-0.017664</td>\n",
              "      <td>-0.003143</td>\n",
              "      <td>0.022057</td>\n",
              "      <td>0.343607</td>\n",
              "      <td>-0.194645</td>\n",
              "      <td>0.320035</td>\n",
              "      <td>0.560091</td>\n",
              "      <td>-0.060092</td>\n",
              "      <td>-0.485214</td>\n",
              "      <td>0.140565</td>\n",
              "      <td>-0.031230</td>\n",
              "      <td>0.012699</td>\n",
              "      <td>0.003335</td>\n",
              "      <td>-0.000004</td>\n",
              "    </tr>\n",
              "    <tr>\n",
              "      <th>payment_status_jul05</th>\n",
              "      <td>0.199407</td>\n",
              "      <td>-0.347096</td>\n",
              "      <td>0.099616</td>\n",
              "      <td>-0.047382</td>\n",
              "      <td>-0.051295</td>\n",
              "      <td>-0.023924</td>\n",
              "      <td>-0.016882</td>\n",
              "      <td>-0.024313</td>\n",
              "      <td>-0.107213</td>\n",
              "      <td>0.067439</td>\n",
              "      <td>-0.118189</td>\n",
              "      <td>0.541650</td>\n",
              "      <td>-0.101134</td>\n",
              "      <td>-0.163321</td>\n",
              "      <td>0.606108</td>\n",
              "      <td>-0.307130</td>\n",
              "      <td>0.025301</td>\n",
              "      <td>-0.028015</td>\n",
              "      <td>-0.008503</td>\n",
              "      <td>-0.004816</td>\n",
              "    </tr>\n",
              "    <tr>\n",
              "      <th>payment_status_jun05</th>\n",
              "      <td>0.206283</td>\n",
              "      <td>-0.348117</td>\n",
              "      <td>0.136589</td>\n",
              "      <td>-0.053384</td>\n",
              "      <td>-0.005511</td>\n",
              "      <td>-0.044998</td>\n",
              "      <td>0.018780</td>\n",
              "      <td>-0.044281</td>\n",
              "      <td>-0.001086</td>\n",
              "      <td>-0.237163</td>\n",
              "      <td>-0.020192</td>\n",
              "      <td>0.174737</td>\n",
              "      <td>-0.587576</td>\n",
              "      <td>0.062893</td>\n",
              "      <td>-0.224951</td>\n",
              "      <td>0.568177</td>\n",
              "      <td>0.019141</td>\n",
              "      <td>0.001772</td>\n",
              "      <td>0.014088</td>\n",
              "      <td>-0.001426</td>\n",
              "    </tr>\n",
              "    <tr>\n",
              "      <th>payment_status_may05</th>\n",
              "      <td>0.210207</td>\n",
              "      <td>-0.335234</td>\n",
              "      <td>0.155502</td>\n",
              "      <td>-0.042941</td>\n",
              "      <td>0.043162</td>\n",
              "      <td>-0.013148</td>\n",
              "      <td>0.016039</td>\n",
              "      <td>0.085402</td>\n",
              "      <td>0.018493</td>\n",
              "      <td>-0.375674</td>\n",
              "      <td>0.053870</td>\n",
              "      <td>-0.174905</td>\n",
              "      <td>-0.081915</td>\n",
              "      <td>0.146722</td>\n",
              "      <td>-0.386771</td>\n",
              "      <td>-0.673559</td>\n",
              "      <td>0.026978</td>\n",
              "      <td>0.023367</td>\n",
              "      <td>-0.008263</td>\n",
              "      <td>-0.000572</td>\n",
              "    </tr>\n",
              "    <tr>\n",
              "      <th>payment_status_apr05</th>\n",
              "      <td>0.205713</td>\n",
              "      <td>-0.309451</td>\n",
              "      <td>0.153587</td>\n",
              "      <td>-0.034052</td>\n",
              "      <td>0.059664</td>\n",
              "      <td>0.074846</td>\n",
              "      <td>-0.036398</td>\n",
              "      <td>0.032041</td>\n",
              "      <td>0.032303</td>\n",
              "      <td>-0.409525</td>\n",
              "      <td>0.109299</td>\n",
              "      <td>-0.362343</td>\n",
              "      <td>0.499842</td>\n",
              "      <td>0.066044</td>\n",
              "      <td>0.395425</td>\n",
              "      <td>0.317896</td>\n",
              "      <td>-0.043178</td>\n",
              "      <td>-0.012621</td>\n",
              "      <td>0.000153</td>\n",
              "      <td>0.004540</td>\n",
              "    </tr>\n",
              "    <tr>\n",
              "      <th>bill_amount_sep05</th>\n",
              "      <td>0.334806</td>\n",
              "      <td>0.139898</td>\n",
              "      <td>-0.224202</td>\n",
              "      <td>0.021350</td>\n",
              "      <td>-0.050870</td>\n",
              "      <td>-0.030015</td>\n",
              "      <td>-0.050467</td>\n",
              "      <td>0.004806</td>\n",
              "      <td>0.008166</td>\n",
              "      <td>0.068158</td>\n",
              "      <td>0.032781</td>\n",
              "      <td>0.077622</td>\n",
              "      <td>0.036415</td>\n",
              "      <td>0.549866</td>\n",
              "      <td>0.051216</td>\n",
              "      <td>0.013211</td>\n",
              "      <td>0.414447</td>\n",
              "      <td>-0.432358</td>\n",
              "      <td>-0.183845</td>\n",
              "      <td>-0.317437</td>\n",
              "    </tr>\n",
              "    <tr>\n",
              "      <th>bill_amount_aug05</th>\n",
              "      <td>0.346245</td>\n",
              "      <td>0.140121</td>\n",
              "      <td>-0.193859</td>\n",
              "      <td>0.033223</td>\n",
              "      <td>0.019607</td>\n",
              "      <td>-0.078934</td>\n",
              "      <td>-0.041082</td>\n",
              "      <td>-0.042111</td>\n",
              "      <td>-0.134418</td>\n",
              "      <td>0.056961</td>\n",
              "      <td>0.038457</td>\n",
              "      <td>0.053380</td>\n",
              "      <td>0.017334</td>\n",
              "      <td>0.370116</td>\n",
              "      <td>0.052323</td>\n",
              "      <td>-0.000929</td>\n",
              "      <td>0.039630</td>\n",
              "      <td>0.343750</td>\n",
              "      <td>0.329443</td>\n",
              "      <td>0.646364</td>\n",
              "    </tr>\n",
              "    <tr>\n",
              "      <th>bill_amount_jul05</th>\n",
              "      <td>0.350289</td>\n",
              "      <td>0.145909</td>\n",
              "      <td>-0.131322</td>\n",
              "      <td>0.042581</td>\n",
              "      <td>0.063967</td>\n",
              "      <td>-0.136165</td>\n",
              "      <td>0.078808</td>\n",
              "      <td>-0.122918</td>\n",
              "      <td>0.099440</td>\n",
              "      <td>0.025466</td>\n",
              "      <td>0.045189</td>\n",
              "      <td>0.034178</td>\n",
              "      <td>-0.013767</td>\n",
              "      <td>0.109665</td>\n",
              "      <td>0.039565</td>\n",
              "      <td>-0.017803</td>\n",
              "      <td>-0.483664</td>\n",
              "      <td>0.497064</td>\n",
              "      <td>-0.085819</td>\n",
              "      <td>-0.526102</td>\n",
              "    </tr>\n",
              "    <tr>\n",
              "      <th>bill_amount_jun05</th>\n",
              "      <td>0.354445</td>\n",
              "      <td>0.144748</td>\n",
              "      <td>-0.119241</td>\n",
              "      <td>0.040339</td>\n",
              "      <td>0.092509</td>\n",
              "      <td>-0.032531</td>\n",
              "      <td>0.017024</td>\n",
              "      <td>0.124599</td>\n",
              "      <td>0.033151</td>\n",
              "      <td>0.000635</td>\n",
              "      <td>0.058221</td>\n",
              "      <td>-0.012351</td>\n",
              "      <td>-0.048373</td>\n",
              "      <td>-0.203558</td>\n",
              "      <td>-0.041290</td>\n",
              "      <td>-0.008759</td>\n",
              "      <td>-0.521395</td>\n",
              "      <td>-0.488554</td>\n",
              "      <td>-0.363101</td>\n",
              "      <td>0.345776</td>\n",
              "    </tr>\n",
              "    <tr>\n",
              "      <th>bill_amount_may05</th>\n",
              "      <td>0.352339</td>\n",
              "      <td>0.142823</td>\n",
              "      <td>-0.100997</td>\n",
              "      <td>0.040582</td>\n",
              "      <td>0.063172</td>\n",
              "      <td>0.124939</td>\n",
              "      <td>-0.068662</td>\n",
              "      <td>-0.005611</td>\n",
              "      <td>0.047197</td>\n",
              "      <td>-0.029711</td>\n",
              "      <td>0.067339</td>\n",
              "      <td>-0.059554</td>\n",
              "      <td>-0.026732</td>\n",
              "      <td>-0.411181</td>\n",
              "      <td>-0.058015</td>\n",
              "      <td>-0.016596</td>\n",
              "      <td>0.068576</td>\n",
              "      <td>-0.249941</td>\n",
              "      <td>0.718383</td>\n",
              "      <td>-0.226717</td>\n",
              "    </tr>\n",
              "    <tr>\n",
              "      <th>bill_amount_apr05</th>\n",
              "      <td>0.345098</td>\n",
              "      <td>0.140984</td>\n",
              "      <td>-0.091248</td>\n",
              "      <td>0.032752</td>\n",
              "      <td>-0.059966</td>\n",
              "      <td>0.150019</td>\n",
              "      <td>0.099782</td>\n",
              "      <td>0.013463</td>\n",
              "      <td>-0.005930</td>\n",
              "      <td>-0.042503</td>\n",
              "      <td>0.089635</td>\n",
              "      <td>-0.079691</td>\n",
              "      <td>-0.006896</td>\n",
              "      <td>-0.479977</td>\n",
              "      <td>-0.048031</td>\n",
              "      <td>0.024458</td>\n",
              "      <td>0.514091</td>\n",
              "      <td>0.338283</td>\n",
              "      <td>-0.426596</td>\n",
              "      <td>0.071595</td>\n",
              "    </tr>\n",
              "    <tr>\n",
              "      <th>amount_paid_sep05</th>\n",
              "      <td>0.094661</td>\n",
              "      <td>0.149605</td>\n",
              "      <td>0.400701</td>\n",
              "      <td>0.049536</td>\n",
              "      <td>0.334524</td>\n",
              "      <td>-0.253601</td>\n",
              "      <td>0.006936</td>\n",
              "      <td>-0.238467</td>\n",
              "      <td>-0.729361</td>\n",
              "      <td>0.077214</td>\n",
              "      <td>-0.042314</td>\n",
              "      <td>-0.088863</td>\n",
              "      <td>0.051548</td>\n",
              "      <td>-0.045304</td>\n",
              "      <td>-0.065308</td>\n",
              "      <td>0.018734</td>\n",
              "      <td>0.043420</td>\n",
              "      <td>-0.067369</td>\n",
              "      <td>-0.044569</td>\n",
              "      <td>-0.084591</td>\n",
              "    </tr>\n",
              "    <tr>\n",
              "      <th>amount_paid_aug05</th>\n",
              "      <td>0.079128</td>\n",
              "      <td>0.140423</td>\n",
              "      <td>0.437071</td>\n",
              "      <td>0.054586</td>\n",
              "      <td>0.293036</td>\n",
              "      <td>-0.242433</td>\n",
              "      <td>0.379176</td>\n",
              "      <td>-0.273158</td>\n",
              "      <td>0.596518</td>\n",
              "      <td>0.096071</td>\n",
              "      <td>-0.045813</td>\n",
              "      <td>0.041070</td>\n",
              "      <td>0.033329</td>\n",
              "      <td>0.031992</td>\n",
              "      <td>0.045992</td>\n",
              "      <td>-0.022046</td>\n",
              "      <td>0.146548</td>\n",
              "      <td>-0.070645</td>\n",
              "      <td>0.038068</td>\n",
              "      <td>0.124397</td>\n",
              "    </tr>\n",
              "    <tr>\n",
              "      <th>amount_paid_jul05</th>\n",
              "      <td>0.086850</td>\n",
              "      <td>0.152059</td>\n",
              "      <td>0.397208</td>\n",
              "      <td>0.020456</td>\n",
              "      <td>0.238471</td>\n",
              "      <td>0.255439</td>\n",
              "      <td>-0.042121</td>\n",
              "      <td>0.777441</td>\n",
              "      <td>0.017759</td>\n",
              "      <td>0.182810</td>\n",
              "      <td>0.027274</td>\n",
              "      <td>0.080519</td>\n",
              "      <td>-0.048771</td>\n",
              "      <td>0.127118</td>\n",
              "      <td>0.028620</td>\n",
              "      <td>0.050731</td>\n",
              "      <td>0.001040</td>\n",
              "      <td>0.123540</td>\n",
              "      <td>0.026414</td>\n",
              "      <td>-0.063116</td>\n",
              "    </tr>\n",
              "    <tr>\n",
              "      <th>amount_paid_jun05</th>\n",
              "      <td>0.078195</td>\n",
              "      <td>0.141745</td>\n",
              "      <td>0.337374</td>\n",
              "      <td>0.016857</td>\n",
              "      <td>-0.099141</td>\n",
              "      <td>0.667703</td>\n",
              "      <td>-0.379122</td>\n",
              "      <td>-0.453384</td>\n",
              "      <td>0.073636</td>\n",
              "      <td>0.057561</td>\n",
              "      <td>0.054052</td>\n",
              "      <td>0.039535</td>\n",
              "      <td>-0.051366</td>\n",
              "      <td>0.122917</td>\n",
              "      <td>-0.023508</td>\n",
              "      <td>-0.048169</td>\n",
              "      <td>-0.111940</td>\n",
              "      <td>0.002544</td>\n",
              "      <td>-0.081195</td>\n",
              "      <td>0.042098</td>\n",
              "    </tr>\n",
              "    <tr>\n",
              "      <th>amount_paid_may05</th>\n",
              "      <td>0.075732</td>\n",
              "      <td>0.137534</td>\n",
              "      <td>0.263302</td>\n",
              "      <td>-0.042100</td>\n",
              "      <td>-0.689718</td>\n",
              "      <td>0.081271</td>\n",
              "      <td>0.577912</td>\n",
              "      <td>0.045056</td>\n",
              "      <td>-0.186951</td>\n",
              "      <td>0.006490</td>\n",
              "      <td>0.145183</td>\n",
              "      <td>-0.034698</td>\n",
              "      <td>0.007526</td>\n",
              "      <td>0.065418</td>\n",
              "      <td>0.016828</td>\n",
              "      <td>0.000290</td>\n",
              "      <td>-0.100534</td>\n",
              "      <td>-0.069502</td>\n",
              "      <td>0.094976</td>\n",
              "      <td>-0.008262</td>\n",
              "    </tr>\n",
              "    <tr>\n",
              "      <th>amount_paid_apr05</th>\n",
              "      <td>0.070314</td>\n",
              "      <td>0.129701</td>\n",
              "      <td>0.295631</td>\n",
              "      <td>-0.054026</td>\n",
              "      <td>-0.415956</td>\n",
              "      <td>-0.534174</td>\n",
              "      <td>-0.585700</td>\n",
              "      <td>0.085348</td>\n",
              "      <td>0.158404</td>\n",
              "      <td>0.037445</td>\n",
              "      <td>0.199065</td>\n",
              "      <td>-0.044185</td>\n",
              "      <td>-0.005038</td>\n",
              "      <td>-0.093711</td>\n",
              "      <td>0.005073</td>\n",
              "      <td>0.000424</td>\n",
              "      <td>0.034731</td>\n",
              "      <td>0.027371</td>\n",
              "      <td>-0.017246</td>\n",
              "      <td>0.008315</td>\n",
              "    </tr>\n",
              "  </tbody>\n",
              "</table>\n",
              "</div>\n",
              "      <button class=\"colab-df-convert\" onclick=\"convertToInteractive('df-797a5534-5e3b-4422-9c48-90e6f4af7044')\"\n",
              "              title=\"Convert this dataframe to an interactive table.\"\n",
              "              style=\"display:none;\">\n",
              "        \n",
              "  <svg xmlns=\"http://www.w3.org/2000/svg\" height=\"24px\"viewBox=\"0 0 24 24\"\n",
              "       width=\"24px\">\n",
              "    <path d=\"M0 0h24v24H0V0z\" fill=\"none\"/>\n",
              "    <path d=\"M18.56 5.44l.94 2.06.94-2.06 2.06-.94-2.06-.94-.94-2.06-.94 2.06-2.06.94zm-11 1L8.5 8.5l.94-2.06 2.06-.94-2.06-.94L8.5 2.5l-.94 2.06-2.06.94zm10 10l.94 2.06.94-2.06 2.06-.94-2.06-.94-.94-2.06-.94 2.06-2.06.94z\"/><path d=\"M17.41 7.96l-1.37-1.37c-.4-.4-.92-.59-1.43-.59-.52 0-1.04.2-1.43.59L10.3 9.45l-7.72 7.72c-.78.78-.78 2.05 0 2.83L4 21.41c.39.39.9.59 1.41.59.51 0 1.02-.2 1.41-.59l7.78-7.78 2.81-2.81c.8-.78.8-2.07 0-2.86zM5.41 20L4 18.59l7.72-7.72 1.47 1.35L5.41 20z\"/>\n",
              "  </svg>\n",
              "      </button>\n",
              "      \n",
              "  <style>\n",
              "    .colab-df-container {\n",
              "      display:flex;\n",
              "      flex-wrap:wrap;\n",
              "      gap: 12px;\n",
              "    }\n",
              "\n",
              "    .colab-df-convert {\n",
              "      background-color: #E8F0FE;\n",
              "      border: none;\n",
              "      border-radius: 50%;\n",
              "      cursor: pointer;\n",
              "      display: none;\n",
              "      fill: #1967D2;\n",
              "      height: 32px;\n",
              "      padding: 0 0 0 0;\n",
              "      width: 32px;\n",
              "    }\n",
              "\n",
              "    .colab-df-convert:hover {\n",
              "      background-color: #E2EBFA;\n",
              "      box-shadow: 0px 1px 2px rgba(60, 64, 67, 0.3), 0px 1px 3px 1px rgba(60, 64, 67, 0.15);\n",
              "      fill: #174EA6;\n",
              "    }\n",
              "\n",
              "    [theme=dark] .colab-df-convert {\n",
              "      background-color: #3B4455;\n",
              "      fill: #D2E3FC;\n",
              "    }\n",
              "\n",
              "    [theme=dark] .colab-df-convert:hover {\n",
              "      background-color: #434B5C;\n",
              "      box-shadow: 0px 1px 3px 1px rgba(0, 0, 0, 0.15);\n",
              "      filter: drop-shadow(0px 1px 2px rgba(0, 0, 0, 0.3));\n",
              "      fill: #FFFFFF;\n",
              "    }\n",
              "  </style>\n",
              "\n",
              "      <script>\n",
              "        const buttonEl =\n",
              "          document.querySelector('#df-797a5534-5e3b-4422-9c48-90e6f4af7044 button.colab-df-convert');\n",
              "        buttonEl.style.display =\n",
              "          google.colab.kernel.accessAllowed ? 'block' : 'none';\n",
              "\n",
              "        async function convertToInteractive(key) {\n",
              "          const element = document.querySelector('#df-797a5534-5e3b-4422-9c48-90e6f4af7044');\n",
              "          const dataTable =\n",
              "            await google.colab.kernel.invokeFunction('convertToInteractive',\n",
              "                                                     [key], {});\n",
              "          if (!dataTable) return;\n",
              "\n",
              "          const docLinkHtml = 'Like what you see? Visit the ' +\n",
              "            '<a target=\"_blank\" href=https://colab.research.google.com/notebooks/data_table.ipynb>data table notebook</a>'\n",
              "            + ' to learn more about interactive tables.';\n",
              "          element.innerHTML = '';\n",
              "          dataTable['output_type'] = 'display_data';\n",
              "          await google.colab.output.renderOutput(dataTable, element);\n",
              "          const docLink = document.createElement('div');\n",
              "          docLink.innerHTML = docLinkHtml;\n",
              "          element.appendChild(docLink);\n",
              "        }\n",
              "      </script>\n",
              "    </div>\n",
              "  </div>\n",
              "  "
            ]
          },
          "metadata": {},
          "execution_count": 327
        }
      ]
    }
  ]
}