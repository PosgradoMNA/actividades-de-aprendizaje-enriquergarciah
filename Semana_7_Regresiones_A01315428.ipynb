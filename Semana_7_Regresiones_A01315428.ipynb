{
  "nbformat": 4,
  "nbformat_minor": 0,
  "metadata": {
    "colab": {
      "provenance": [],
      "collapsed_sections": []
    },
    "kernelspec": {
      "name": "python3",
      "display_name": "Python 3"
    },
    "language_info": {
      "name": "python"
    }
  },
  "cells": [
    {
      "cell_type": "markdown",
      "source": [
        "Actividad semanal 7 : Regresiones\n",
        "\n",
        "Alumno: Enrique Ricardo García Hernández - A01315428\n",
        "\n",
        "Profesor: María de la Paz Rico Fernández\n",
        "\n",
        "Fecha: Nov 11 2022"
      ],
      "metadata": {
        "id": "_SL3pIfWqQDR"
      }
    },
    {
      "cell_type": "markdown",
      "source": [
        "**Ejercicio 1**"
      ],
      "metadata": {
        "id": "8hiU9f28blco"
      }
    },
    {
      "cell_type": "code",
      "execution_count": null,
      "metadata": {
        "colab": {
          "base_uri": "https://localhost:8080/",
          "height": 206
        },
        "id": "p6OJYMQR6HIH",
        "outputId": "cac5ac0c-6aeb-4157-d6b9-c0363b3e046d"
      },
      "outputs": [
        {
          "output_type": "execute_result",
          "data": {
            "text/plain": [
              "     Number of Units  Manufacturing Cost\n",
              "668         5.045997           44.361087\n",
              "957         6.865924           27.901113\n",
              "575         4.688092           48.512880\n",
              "809         5.572949           38.258057\n",
              "22          1.802089           52.964408"
            ],
            "text/html": [
              "\n",
              "  <div id=\"df-c4c104eb-a451-4170-8000-583e5185352a\">\n",
              "    <div class=\"colab-df-container\">\n",
              "      <div>\n",
              "<style scoped>\n",
              "    .dataframe tbody tr th:only-of-type {\n",
              "        vertical-align: middle;\n",
              "    }\n",
              "\n",
              "    .dataframe tbody tr th {\n",
              "        vertical-align: top;\n",
              "    }\n",
              "\n",
              "    .dataframe thead th {\n",
              "        text-align: right;\n",
              "    }\n",
              "</style>\n",
              "<table border=\"1\" class=\"dataframe\">\n",
              "  <thead>\n",
              "    <tr style=\"text-align: right;\">\n",
              "      <th></th>\n",
              "      <th>Number of Units</th>\n",
              "      <th>Manufacturing Cost</th>\n",
              "    </tr>\n",
              "  </thead>\n",
              "  <tbody>\n",
              "    <tr>\n",
              "      <th>668</th>\n",
              "      <td>5.045997</td>\n",
              "      <td>44.361087</td>\n",
              "    </tr>\n",
              "    <tr>\n",
              "      <th>957</th>\n",
              "      <td>6.865924</td>\n",
              "      <td>27.901113</td>\n",
              "    </tr>\n",
              "    <tr>\n",
              "      <th>575</th>\n",
              "      <td>4.688092</td>\n",
              "      <td>48.512880</td>\n",
              "    </tr>\n",
              "    <tr>\n",
              "      <th>809</th>\n",
              "      <td>5.572949</td>\n",
              "      <td>38.258057</td>\n",
              "    </tr>\n",
              "    <tr>\n",
              "      <th>22</th>\n",
              "      <td>1.802089</td>\n",
              "      <td>52.964408</td>\n",
              "    </tr>\n",
              "  </tbody>\n",
              "</table>\n",
              "</div>\n",
              "      <button class=\"colab-df-convert\" onclick=\"convertToInteractive('df-c4c104eb-a451-4170-8000-583e5185352a')\"\n",
              "              title=\"Convert this dataframe to an interactive table.\"\n",
              "              style=\"display:none;\">\n",
              "        \n",
              "  <svg xmlns=\"http://www.w3.org/2000/svg\" height=\"24px\"viewBox=\"0 0 24 24\"\n",
              "       width=\"24px\">\n",
              "    <path d=\"M0 0h24v24H0V0z\" fill=\"none\"/>\n",
              "    <path d=\"M18.56 5.44l.94 2.06.94-2.06 2.06-.94-2.06-.94-.94-2.06-.94 2.06-2.06.94zm-11 1L8.5 8.5l.94-2.06 2.06-.94-2.06-.94L8.5 2.5l-.94 2.06-2.06.94zm10 10l.94 2.06.94-2.06 2.06-.94-2.06-.94-.94-2.06-.94 2.06-2.06.94z\"/><path d=\"M17.41 7.96l-1.37-1.37c-.4-.4-.92-.59-1.43-.59-.52 0-1.04.2-1.43.59L10.3 9.45l-7.72 7.72c-.78.78-.78 2.05 0 2.83L4 21.41c.39.39.9.59 1.41.59.51 0 1.02-.2 1.41-.59l7.78-7.78 2.81-2.81c.8-.78.8-2.07 0-2.86zM5.41 20L4 18.59l7.72-7.72 1.47 1.35L5.41 20z\"/>\n",
              "  </svg>\n",
              "      </button>\n",
              "      \n",
              "  <style>\n",
              "    .colab-df-container {\n",
              "      display:flex;\n",
              "      flex-wrap:wrap;\n",
              "      gap: 12px;\n",
              "    }\n",
              "\n",
              "    .colab-df-convert {\n",
              "      background-color: #E8F0FE;\n",
              "      border: none;\n",
              "      border-radius: 50%;\n",
              "      cursor: pointer;\n",
              "      display: none;\n",
              "      fill: #1967D2;\n",
              "      height: 32px;\n",
              "      padding: 0 0 0 0;\n",
              "      width: 32px;\n",
              "    }\n",
              "\n",
              "    .colab-df-convert:hover {\n",
              "      background-color: #E2EBFA;\n",
              "      box-shadow: 0px 1px 2px rgba(60, 64, 67, 0.3), 0px 1px 3px 1px rgba(60, 64, 67, 0.15);\n",
              "      fill: #174EA6;\n",
              "    }\n",
              "\n",
              "    [theme=dark] .colab-df-convert {\n",
              "      background-color: #3B4455;\n",
              "      fill: #D2E3FC;\n",
              "    }\n",
              "\n",
              "    [theme=dark] .colab-df-convert:hover {\n",
              "      background-color: #434B5C;\n",
              "      box-shadow: 0px 1px 3px 1px rgba(0, 0, 0, 0.15);\n",
              "      filter: drop-shadow(0px 1px 2px rgba(0, 0, 0, 0.3));\n",
              "      fill: #FFFFFF;\n",
              "    }\n",
              "  </style>\n",
              "\n",
              "      <script>\n",
              "        const buttonEl =\n",
              "          document.querySelector('#df-c4c104eb-a451-4170-8000-583e5185352a button.colab-df-convert');\n",
              "        buttonEl.style.display =\n",
              "          google.colab.kernel.accessAllowed ? 'block' : 'none';\n",
              "\n",
              "        async function convertToInteractive(key) {\n",
              "          const element = document.querySelector('#df-c4c104eb-a451-4170-8000-583e5185352a');\n",
              "          const dataTable =\n",
              "            await google.colab.kernel.invokeFunction('convertToInteractive',\n",
              "                                                     [key], {});\n",
              "          if (!dataTable) return;\n",
              "\n",
              "          const docLinkHtml = 'Like what you see? Visit the ' +\n",
              "            '<a target=\"_blank\" href=https://colab.research.google.com/notebooks/data_table.ipynb>data table notebook</a>'\n",
              "            + ' to learn more about interactive tables.';\n",
              "          element.innerHTML = '';\n",
              "          dataTable['output_type'] = 'display_data';\n",
              "          await google.colab.output.renderOutput(dataTable, element);\n",
              "          const docLink = document.createElement('div');\n",
              "          docLink.innerHTML = docLinkHtml;\n",
              "          element.appendChild(docLink);\n",
              "        }\n",
              "      </script>\n",
              "    </div>\n",
              "  </div>\n",
              "  "
            ]
          },
          "metadata": {},
          "execution_count": 68
        }
      ],
      "source": [
        "import pandas as pd\n",
        "df = pd.read_csv('https://raw.githubusercontent.com/marypazrf/bdd/main/EconomiesOfScale.csv')\n",
        "df.sample(5)"
      ]
    },
    {
      "cell_type": "code",
      "source": [
        "X = df[['Number of Units']]\n",
        "y = df['Manufacturing Cost']"
      ],
      "metadata": {
        "id": "iosXA5oX9-1Q"
      },
      "execution_count": null,
      "outputs": []
    },
    {
      "cell_type": "code",
      "source": [
        "import matplotlib.pyplot as plt\n",
        "%matplotlib inline\n",
        "import seaborn as sns\n",
        "plt.scatter(X,y,color='b')\n",
        "plt.show()"
      ],
      "metadata": {
        "colab": {
          "base_uri": "https://localhost:8080/",
          "height": 265
        },
        "id": "Lw-AiSnJB66q",
        "outputId": "747d372f-3680-43c6-fecf-23788abc3219"
      },
      "execution_count": null,
      "outputs": [
        {
          "output_type": "display_data",
          "data": {
            "text/plain": [
              "<Figure size 432x288 with 1 Axes>"
            ],
            "image/png": "[encoded data removed]"
          },
          "metadata": {
            "needs_background": "light"
          }
        }
      ]
    },
    {
      "cell_type": "code",
      "source": [
        "from scipy.stats import pearsonr\n",
        "corr_test = pearsonr(X['Number of Units'], y)\n",
        "print(\"Coeficiente de correlación de Pearson: \", corr_test[0])"
      ],
      "metadata": {
        "colab": {
          "base_uri": "https://localhost:8080/"
        },
        "id": "4a6at_t9GtBA",
        "outputId": "b99c5d71-a957-4f91-c794-1d241cc5586c"
      },
      "execution_count": null,
      "outputs": [
        {
          "output_type": "stream",
          "name": "stdout",
          "text": [
            "Coeficiente de correlación de Pearson:  -0.7609052213322163\n"
          ]
        }
      ]
    },
    {
      "cell_type": "code",
      "source": [
        "def DistributionPlot(RedFunction, BlueFunction, RedName, BlueName, Title):\n",
        "  ax1 = sns.distplot(RedFunction, hist=False, color=\"r\", label=RedName)\n",
        "  ax2 = sns.distplot(BlueFunction, hist=False, color=\"b\", label=BlueName, ax=ax1)\n",
        "\n",
        "  plt.title(Title)\n",
        "  plt.xlabel('Number of Units')\n",
        "  plt.ylabel('Manufacturing Cost')\n",
        "\n",
        "  plt.show()\n",
        "  plt.close()"
      ],
      "metadata": {
        "id": "a_0YOy8BD0ap"
      },
      "execution_count": null,
      "outputs": []
    },
    {
      "cell_type": "code",
      "source": [
        "from sklearn.model_selection import train_test_split\n",
        "from sklearn.linear_model import LinearRegression\n",
        "from sklearn.metrics import mean_absolute_error\n",
        "\n",
        "X_train,X_test,y_train,y_test=train_test_split(X,y,test_size=.25,random_state=42)\n",
        "print(\"El número de observaciones de train es\",X_train.shape[0])\n",
        "print(\"El número de observaciones de test es\",X_test.shape[0])"
      ],
      "metadata": {
        "colab": {
          "base_uri": "https://localhost:8080/"
        },
        "id": "3OBwzxkW8Kkc",
        "outputId": "bd2c99e7-b217-495d-928d-00115a37380f"
      },
      "execution_count": null,
      "outputs": [
        {
          "output_type": "stream",
          "name": "stdout",
          "text": [
            "El número de observaciones de train es 750\n",
            "El número de observaciones de test es 250\n"
          ]
        }
      ]
    },
    {
      "cell_type": "code",
      "source": [
        "lr=LinearRegression()\n",
        "lr.fit(X_train,y_train)\n",
        "yhat_test=lr.predict(X_test)"
      ],
      "metadata": {
        "id": "rhvXNd7wAyCk"
      },
      "execution_count": null,
      "outputs": []
    },
    {
      "cell_type": "code",
      "source": [
        "#Calculamos la R^2 en la base de entrenamiento\n",
        "lr.score(X_train,y_train)"
      ],
      "metadata": {
        "colab": {
          "base_uri": "https://localhost:8080/"
        },
        "id": "oTOC5hLUH9S2",
        "outputId": "c4ef0e7f-425a-472a-edb7-54852bff376e"
      },
      "execution_count": null,
      "outputs": [
        {
          "output_type": "execute_result",
          "data": {
            "text/plain": [
              "0.5774246104936722"
            ]
          },
          "metadata": {},
          "execution_count": 48
        }
      ]
    },
    {
      "cell_type": "code",
      "source": [
        "#Calculamos la R^2 en la base de prueba\n",
        "lr.score(X_test,y_test)"
      ],
      "metadata": {
        "colab": {
          "base_uri": "https://localhost:8080/"
        },
        "id": "jwPdo_RHHixT",
        "outputId": "18af72f9-9ee4-43c7-9c9c-c64b5a90e5db"
      },
      "execution_count": null,
      "outputs": [
        {
          "output_type": "execute_result",
          "data": {
            "text/plain": [
              "0.5819496152192392"
            ]
          },
          "metadata": {},
          "execution_count": 45
        }
      ]
    },
    {
      "cell_type": "code",
      "source": [
        "# Información del modelo\n",
        "# ==============================================================================\n",
        "print(\"Intercept:\", lr.intercept_)\n",
        "print(\"Coeficiente:\", list(zip(X.columns, lr.coef_.flatten(), )))\n",
        "print(\"Coeficiente de determinación R^2:\", lr.score(X, y))\n",
        "print(\"Error Absoluto Medio:\", mean_absolute_error(y, lr.predict(X)))"
      ],
      "metadata": {
        "colab": {
          "base_uri": "https://localhost:8080/"
        },
        "id": "xlkvmo1bHYY5",
        "outputId": "c9aba6b9-8446-4c23-cb24-04f2ab6b6713"
      },
      "execution_count": null,
      "outputs": [
        {
          "output_type": "stream",
          "name": "stdout",
          "text": [
            "Intercept: 67.88519414416737\n",
            "Coeficiente: [('Number of Units', -6.225079031715803)]\n",
            "Coeficiente de determinación R^2: 0.5783910439608906\n",
            "Error Absoluto Medio: 4.945481778582789\n"
          ]
        }
      ]
    },
    {
      "cell_type": "markdown",
      "source": [
        "Ecuación del modelo de la regresión lineal:\n",
        "\n",
        "$\\hat{y} = -6.22X + 67.88$"
      ],
      "metadata": {
        "id": "uQltzEtpJ5Bs"
      }
    },
    {
      "cell_type": "code",
      "source": [
        "#Calculamos los valores estimados\n",
        "yhat=lr.predict(X)"
      ],
      "metadata": {
        "id": "92R7jMVvIMfg"
      },
      "execution_count": null,
      "outputs": []
    },
    {
      "cell_type": "code",
      "source": [
        "plt.scatter(X,y,color='b')\n",
        "plt.plot(X,yhat,color='r', linewidth=2, label=\"Predicción regresión lineal\")\n",
        "plt.xlabel(\"$X$\", fontsize=18)\n",
        "plt.ylabel(\"$y$\", rotation=0, fontsize=18)\n",
        "plt.legend(loc=\"upper left\", fontsize=14);"
      ],
      "metadata": {
        "colab": {
          "base_uri": "https://localhost:8080/",
          "height": 287
        },
        "id": "t2bEJbP_IHng",
        "outputId": "48026c16-ec4b-40e0-e82f-3a6fc14df800"
      },
      "execution_count": null,
      "outputs": [
        {
          "output_type": "display_data",
          "data": {
            "text/plain": [
              "<Figure size 432x288 with 1 Axes>"
            ],
            "image/png": "[encoded data removed]"
          },
          "metadata": {
            "needs_background": "light"
          }
        }
      ]
    },
    {
      "cell_type": "code",
      "source": [
        "#Regresión Polinomial\n",
        "from sklearn.preprocessing import PolynomialFeatures"
      ],
      "metadata": {
        "id": "gG3dnDweM3FC"
      },
      "execution_count": null,
      "outputs": []
    },
    {
      "cell_type": "code",
      "source": [
        "#Calcularemos una regresión de grado 2\n",
        "pr=PolynomialFeatures(degree=2)\n",
        "X_train_pr=pr.fit_transform(X_train)\n",
        "X_test_pr=pr.fit_transform(X_test)"
      ],
      "metadata": {
        "id": "Ij7XWmnVM-Ua"
      },
      "execution_count": null,
      "outputs": []
    },
    {
      "cell_type": "code",
      "source": [
        "poly=LinearRegression()\n",
        "poly.fit(X_train_pr,y_train)"
      ],
      "metadata": {
        "colab": {
          "base_uri": "https://localhost:8080/"
        },
        "id": "C8xIxZOyNtQ3",
        "outputId": "fae8076b-01ac-4f5c-e2f6-f3e475f92a02"
      },
      "execution_count": null,
      "outputs": [
        {
          "output_type": "execute_result",
          "data": {
            "text/plain": [
              "LinearRegression()"
            ]
          },
          "metadata": {},
          "execution_count": 91
        }
      ]
    },
    {
      "cell_type": "code",
      "source": [
        "#Calculamos la R^2 en la base de entrenamiento\n",
        "poly.score(X_train_pr,y_train)"
      ],
      "metadata": {
        "colab": {
          "base_uri": "https://localhost:8080/"
        },
        "id": "UVaE_yMBOF2r",
        "outputId": "3a3a1314-a24f-46fe-c8c0-1be2b38dcd7e"
      },
      "execution_count": null,
      "outputs": [
        {
          "output_type": "execute_result",
          "data": {
            "text/plain": [
              "0.6728638632419662"
            ]
          },
          "metadata": {},
          "execution_count": 92
        }
      ]
    },
    {
      "cell_type": "code",
      "source": [
        "#Calculamos la R^2 en la base de test\n",
        "poly.score(X_test_pr,y_test)"
      ],
      "metadata": {
        "colab": {
          "base_uri": "https://localhost:8080/"
        },
        "id": "ApH-_kkDOJP4",
        "outputId": "763977ba-c9ad-4711-cd32-b4cd7a9d240c"
      },
      "execution_count": null,
      "outputs": [
        {
          "output_type": "execute_result",
          "data": {
            "text/plain": [
              "0.6314972370482955"
            ]
          },
          "metadata": {},
          "execution_count": 93
        }
      ]
    },
    {
      "cell_type": "code",
      "source": [
        "X_pr=pr.fit_transform(X)"
      ],
      "metadata": {
        "id": "ZrQIkYl8Ob_J"
      },
      "execution_count": null,
      "outputs": []
    },
    {
      "cell_type": "code",
      "source": [
        "yhat2=poly.predict(X_pr)"
      ],
      "metadata": {
        "id": "4BYxHaITO_Dk"
      },
      "execution_count": null,
      "outputs": []
    },
    {
      "cell_type": "code",
      "source": [
        "# Información del modelo Polinomial con grado=2, dado que la distribución de los puntos tiene \"cara de parábola\"\n",
        "# ==============================================================================\n",
        "print(\"Intercept:\", poly.intercept_)\n",
        "print(\"Coeficientes:\", poly.coef_)\n",
        "print(\"Coeficiente de determinación R^2:\", poly.score(X_pr, y))\n",
        "print(\"Error Absoluto Medio:\", mean_absolute_error(y, poly.predict(X_pr)))"
      ],
      "metadata": {
        "colab": {
          "base_uri": "https://localhost:8080/"
        },
        "id": "Trs_ARq2OSla",
        "outputId": "42b12a45-a844-4464-84b1-70f1b5af561c"
      },
      "execution_count": null,
      "outputs": [
        {
          "output_type": "stream",
          "name": "stdout",
          "text": [
            "Intercept: 92.33914437184882\n",
            "Coeficiente: [  0.         -17.88592504   1.27304105]\n",
            "Coeficiente de determinación R^2: 0.6640657282040865\n",
            "Error Absoluto Medio: 4.573088125500513\n"
          ]
        }
      ]
    },
    {
      "cell_type": "markdown",
      "source": [
        "Ecuación de la regresión poinómica (grado=2):\n",
        "\n",
        "$\\hat{y} = -17.88X + 1.27X^2 + 92.88$"
      ],
      "metadata": {
        "id": "CWGkPHqSQArk"
      }
    },
    {
      "cell_type": "code",
      "source": [
        "plt.scatter(X,y,color='b')\n",
        "plt.plot(X,yhat2,color='r', linewidth=2, label=\"Predicción transformación grado=2\")\n",
        "plt.xlabel(\"$X$\", fontsize=18)\n",
        "plt.ylabel(\"$y$\", rotation=0, fontsize=18)\n",
        "plt.legend(loc=\"upper left\", fontsize=14);"
      ],
      "metadata": {
        "colab": {
          "base_uri": "https://localhost:8080/",
          "height": 287
        },
        "id": "BU63Kt1NO4dA",
        "outputId": "b6402c44-a6d2-466e-fb9e-e6d1a15c10f5"
      },
      "execution_count": null,
      "outputs": [
        {
          "output_type": "display_data",
          "data": {
            "text/plain": [
              "<Figure size 432x288 with 1 Axes>"
            ],
            "image/png": "[encoded data removed]"
          },
          "metadata": {
            "needs_background": "light"
          }
        }
      ]
    },
    {
      "cell_type": "code",
      "source": [
        "#Regresión Ridge\n",
        "from sklearn.linear_model import Ridge"
      ],
      "metadata": {
        "id": "JUMPeCwQSqfu"
      },
      "execution_count": null,
      "outputs": []
    },
    {
      "cell_type": "code",
      "source": [
        "RigeModel=Ridge(alpha=1)\n",
        "RigeModel.fit(X_train_pr,y_train)"
      ],
      "metadata": {
        "colab": {
          "base_uri": "https://localhost:8080/"
        },
        "id": "crlXZs5zS62U",
        "outputId": "5961917a-ad69-4ba1-8657-b9864e80934f"
      },
      "execution_count": null,
      "outputs": [
        {
          "output_type": "execute_result",
          "data": {
            "text/plain": [
              "Ridge(alpha=1)"
            ]
          },
          "metadata": {},
          "execution_count": 110
        }
      ]
    },
    {
      "cell_type": "code",
      "source": [
        "#Haremos Grid search para encontrar el alpha que minimiza el error\n",
        "from sklearn.model_selection import GridSearchCV\n",
        "parametro=[{'alpha':[.001,.01,.1,1,10,100,1000,10000,100000]}]\n",
        "parametro"
      ],
      "metadata": {
        "colab": {
          "base_uri": "https://localhost:8080/"
        },
        "id": "zFTEvUnqTpDJ",
        "outputId": "11407471-67fe-45d6-b56a-b8dd4d33c5c8"
      },
      "execution_count": null,
      "outputs": [
        {
          "output_type": "execute_result",
          "data": {
            "text/plain": [
              "[{'alpha': [0.001, 0.01, 0.1, 1, 10, 100, 1000, 10000, 100000]}]"
            ]
          },
          "metadata": {},
          "execution_count": 111
        }
      ]
    },
    {
      "cell_type": "code",
      "source": [
        "RR=Ridge()\n",
        "Grid1=GridSearchCV(RR,parametro,cv=4)"
      ],
      "metadata": {
        "id": "0Bg8WBj5T2JC"
      },
      "execution_count": null,
      "outputs": []
    },
    {
      "cell_type": "code",
      "source": [
        "#Ajustamos el modelo\n",
        "Grid1.fit(X_train_pr,y_train)"
      ],
      "metadata": {
        "colab": {
          "base_uri": "https://localhost:8080/"
        },
        "id": "LtsHQ3sdT5e2",
        "outputId": "fc59c10d-3810-4fb4-8232-72dd1d01b5a8"
      },
      "execution_count": null,
      "outputs": [
        {
          "output_type": "execute_result",
          "data": {
            "text/plain": [
              "GridSearchCV(cv=4, estimator=Ridge(),\n",
              "             param_grid=[{'alpha': [0.001, 0.01, 0.1, 1, 10, 100, 1000, 10000,\n",
              "                                    100000]}])"
            ]
          },
          "metadata": {},
          "execution_count": 113
        }
      ]
    },
    {
      "cell_type": "code",
      "source": [
        "BestRR=Grid1.best_estimator_\n",
        "BestRR"
      ],
      "metadata": {
        "colab": {
          "base_uri": "https://localhost:8080/"
        },
        "id": "x1W6xvQdUAzF",
        "outputId": "eee14df1-dfca-4d71-89ce-15e2602b1fcb"
      },
      "execution_count": null,
      "outputs": [
        {
          "output_type": "execute_result",
          "data": {
            "text/plain": [
              "Ridge(alpha=1)"
            ]
          },
          "metadata": {},
          "execution_count": 114
        }
      ]
    },
    {
      "cell_type": "code",
      "source": [
        "#El mejor modelo es con alpha=1"
      ],
      "metadata": {
        "id": "H4CafYZqUCKg"
      },
      "execution_count": null,
      "outputs": []
    },
    {
      "cell_type": "code",
      "source": [
        "# Información del modelo Ridge\n",
        "# ==============================================================================\n",
        "print(\"Intercept:\", BestRR.intercept_)\n",
        "print(\"Coeficientes:\", BestRR.coef_)\n",
        "print(\"Coeficiente de determinación R^2:\", BestRR.score(X_pr, y))\n",
        "print(\"Error Absoluto Medio:\", mean_absolute_error(y, BestRR.predict(X_pr)))"
      ],
      "metadata": {
        "colab": {
          "base_uri": "https://localhost:8080/"
        },
        "id": "c0_y-6XgULE5",
        "outputId": "eaec0c84-5fac-4178-929c-07e8a49d5964"
      },
      "execution_count": null,
      "outputs": [
        {
          "output_type": "stream",
          "name": "stdout",
          "text": [
            "Intercept: 91.67966406009296\n",
            "Coeficientes: [  0.         -17.58656657   1.24181886]\n",
            "Coeficiente de determinación R^2: 0.6644481873795106\n",
            "Error Absoluto Medio: 4.563886651649249\n"
          ]
        }
      ]
    },
    {
      "cell_type": "markdown",
      "source": [
        "Ecuación de la regresión Ridge (alpha=1):\n",
        "\n",
        "$\\hat{y} = -17.58X + 1.24X^2 + 91.68$"
      ],
      "metadata": {
        "id": "kHdexri6U3Bg"
      }
    },
    {
      "cell_type": "code",
      "source": [
        "yRidge=BestRR.predict(X_pr)"
      ],
      "metadata": {
        "id": "tv5ESpP3U-Vo"
      },
      "execution_count": null,
      "outputs": []
    },
    {
      "cell_type": "code",
      "source": [
        "plt.scatter(X,y,color='b')\n",
        "plt.plot(X,yRidge,color='r', linewidth=2, label=\"Predicción Ridge alpha=1\")\n",
        "plt.xlabel(\"$X$\", fontsize=18)\n",
        "plt.ylabel(\"$y$\", rotation=0, fontsize=18)\n",
        "plt.legend(loc=\"upper left\", fontsize=14);"
      ],
      "metadata": {
        "colab": {
          "base_uri": "https://localhost:8080/",
          "height": 287
        },
        "id": "2-viqnt_U9YQ",
        "outputId": "02efa215-e448-44fb-a7d7-4bd5542ab431"
      },
      "execution_count": null,
      "outputs": [
        {
          "output_type": "display_data",
          "data": {
            "text/plain": [
              "<Figure size 432x288 with 1 Axes>"
            ],
            "image/png": "[encoded data removed]"
          },
          "metadata": {
            "needs_background": "light"
          }
        }
      ]
    },
    {
      "cell_type": "code",
      "source": [
        "#Regresión Lasso\n",
        "from sklearn.linear_model import Lasso"
      ],
      "metadata": {
        "id": "ru6o5arDVON-"
      },
      "execution_count": null,
      "outputs": []
    },
    {
      "cell_type": "code",
      "source": [
        "LassoModel=Lasso(alpha=1)\n",
        "LassoModel.fit(X_train_pr,y_train)"
      ],
      "metadata": {
        "colab": {
          "base_uri": "https://localhost:8080/"
        },
        "id": "TZWIxcrXViji",
        "outputId": "4c10c5ae-ef7d-4587-ed17-3ea7c7a6e9b4"
      },
      "execution_count": null,
      "outputs": [
        {
          "output_type": "execute_result",
          "data": {
            "text/plain": [
              "Lasso(alpha=1)"
            ]
          },
          "metadata": {},
          "execution_count": 124
        }
      ]
    },
    {
      "cell_type": "code",
      "source": [
        "LL=Lasso()\n",
        "Grid2=GridSearchCV(LL,parametro,cv=4)"
      ],
      "metadata": {
        "id": "4ZvxP7VOWFkQ"
      },
      "execution_count": null,
      "outputs": []
    },
    {
      "cell_type": "code",
      "source": [
        "#Ajustamos el modelo\n",
        "Grid2.fit(X_train_pr,y_train)"
      ],
      "metadata": {
        "colab": {
          "base_uri": "https://localhost:8080/"
        },
        "id": "u9emNCecWK1y",
        "outputId": "c6fc587b-9495-4afc-d56c-826a36e2e818"
      },
      "execution_count": null,
      "outputs": [
        {
          "output_type": "execute_result",
          "data": {
            "text/plain": [
              "GridSearchCV(cv=4, estimator=Lasso(),\n",
              "             param_grid=[{'alpha': [0.001, 0.01, 0.1, 1, 10, 100, 1000, 10000,\n",
              "                                    100000]}])"
            ]
          },
          "metadata": {},
          "execution_count": 127
        }
      ]
    },
    {
      "cell_type": "code",
      "source": [
        "BestLL=Grid2.best_estimator_\n",
        "BestLL"
      ],
      "metadata": {
        "colab": {
          "base_uri": "https://localhost:8080/"
        },
        "id": "BQhRqdZjWUg1",
        "outputId": "2985c6e8-6292-4b64-9883-c807bdbd5ef0"
      },
      "execution_count": null,
      "outputs": [
        {
          "output_type": "execute_result",
          "data": {
            "text/plain": [
              "Lasso(alpha=0.1)"
            ]
          },
          "metadata": {},
          "execution_count": 128
        }
      ]
    },
    {
      "cell_type": "code",
      "source": [
        "#El mejor modelo Lasso tiene alpha=0.1"
      ],
      "metadata": {
        "id": "LGwz7FGdWgb4"
      },
      "execution_count": null,
      "outputs": []
    },
    {
      "cell_type": "code",
      "source": [
        "LassoModel=Lasso(alpha=0.1)\n",
        "LassoModel.fit(X_train_pr,y_train)"
      ],
      "metadata": {
        "colab": {
          "base_uri": "https://localhost:8080/"
        },
        "id": "P9k3OfyXWZb9",
        "outputId": "f7970fee-d25f-4a79-ca09-6302ce9396b5"
      },
      "execution_count": null,
      "outputs": [
        {
          "output_type": "execute_result",
          "data": {
            "text/plain": [
              "Lasso(alpha=0.1)"
            ]
          },
          "metadata": {},
          "execution_count": 129
        }
      ]
    },
    {
      "cell_type": "code",
      "source": [
        "# Información del modelo Lasso\n",
        "# ==============================================================================\n",
        "print(\"Intercept:\", BestLL.intercept_)\n",
        "print(\"Coeficientes:\", BestLL.coef_)\n",
        "print(\"Coeficiente de determinación R^2:\", BestLL.score(X_pr, y))\n",
        "print(\"Error Absoluto Medio:\", mean_absolute_error(y, BestLL.predict(X_pr)))"
      ],
      "metadata": {
        "colab": {
          "base_uri": "https://localhost:8080/"
        },
        "id": "tSKmpUmHWjyr",
        "outputId": "fd8aefb8-83c5-4d0b-da49-f453c9562a84"
      },
      "execution_count": null,
      "outputs": [
        {
          "output_type": "stream",
          "name": "stdout",
          "text": [
            "Intercept: 89.2091955425266\n",
            "Coeficientes: [  0.         -16.45925216   1.12364562]\n",
            "Coeficiente de determinación R^2: 0.6647329081182405\n",
            "Error Absoluto Medio: 4.537316436395513\n"
          ]
        }
      ]
    },
    {
      "cell_type": "markdown",
      "source": [
        "Ecuación de la regresión Lasso (alpha=0.1):\n",
        "\n",
        "$\\hat{y} = -16.45X + 1.12X^2 + 89.20$"
      ],
      "metadata": {
        "id": "u7qj1dpXWwV5"
      }
    },
    {
      "cell_type": "code",
      "source": [
        "yLasso=BestLL.predict(X_pr)"
      ],
      "metadata": {
        "id": "U2nV6vvWWsMw"
      },
      "execution_count": null,
      "outputs": []
    },
    {
      "cell_type": "code",
      "source": [
        "plt.scatter(X,y,color='b')\n",
        "plt.plot(X,yLasso,color='r', linewidth=2, label=\"Predicción Lasso alpha=0.1\")\n",
        "plt.xlabel(\"$X$\", fontsize=18)\n",
        "plt.ylabel(\"$y$\", rotation=0, fontsize=18)\n",
        "plt.legend(loc=\"upper left\", fontsize=14);"
      ],
      "metadata": {
        "colab": {
          "base_uri": "https://localhost:8080/",
          "height": 287
        },
        "id": "tGt9qVnfW_xK",
        "outputId": "10d367f9-ddc1-4a78-efc8-66e149b2bc15"
      },
      "execution_count": null,
      "outputs": [
        {
          "output_type": "display_data",
          "data": {
            "text/plain": [
              "<Figure size 432x288 with 1 Axes>"
            ],
            "image/png": "[encoded data removed]"
          },
          "metadata": {
            "needs_background": "light"
          }
        }
      ]
    },
    {
      "cell_type": "code",
      "source": [
        "#MAE de los 4 modelos\n",
        "from sklearn.metrics import mean_absolute_error\n",
        "print(\"Regresion Lineal, Error Absoluto Medio:\", mean_absolute_error(y, lr.predict(X)))\n",
        "print(\"Regresion Polynomial grado=2, Error Absoluto Medio:\", mean_absolute_error(y, poly.predict(X_pr)))\n",
        "print(\"Regularización Ridge (alpha=1), Error Absoluto Medio:\", mean_absolute_error(y, BestRR.predict(X_pr)))\n",
        "print(\"Regularización Lasso (alpha=0.1), Error Absoluto Medio:\", mean_absolute_error(y, BestLL.predict(X_pr)))\n"
      ],
      "metadata": {
        "colab": {
          "base_uri": "https://localhost:8080/"
        },
        "id": "wAgoAtOJXLV_",
        "outputId": "f021af77-78aa-4443-9d0b-8f0f171e93e2"
      },
      "execution_count": null,
      "outputs": [
        {
          "output_type": "stream",
          "name": "stdout",
          "text": [
            "Regresion Lineal, Error Absoluto Medio: 4.945481778582789\n",
            "Regresion Polynomial grado=2, Error Absoluto Medio: 4.573088125500513\n",
            "Regularización Ridge (alpha=1), Error Absoluto Medio: 4.563886651649249\n",
            "Regularización Lasso (alpha=0.1), Error Absoluto Medio: 4.537316436395513\n"
          ]
        }
      ]
    },
    {
      "cell_type": "code",
      "source": [
        "#R^2 de los 4 modelos\n",
        "print(\"R^2 regresión lineal:\", lr.score(X,y))\n",
        "print(\"R^2 Regresion Polynomial grado=2:\", poly.score(X_pr,y))\n",
        "print(\"R^2 Regularización Ridge (alpha=1)\", BestRR.score(X_pr,y))\n",
        "print(\"R^2 Regularización Lasso (alpha=0.1)\", BestLL.score(X_pr, y))"
      ],
      "metadata": {
        "colab": {
          "base_uri": "https://localhost:8080/"
        },
        "id": "kCmBCsWMZEXi",
        "outputId": "31fc41cd-0332-4226-e246-2c25e382f752"
      },
      "execution_count": null,
      "outputs": [
        {
          "output_type": "stream",
          "name": "stdout",
          "text": [
            "R^2 regresión lineal: 0.5783910439608906\n",
            "R^2 Regresion Polynomial grado=2: 0.6640657282040865\n",
            "R^2 Regularización Ridge (alpha=1) 0.6644481873795106\n",
            "R^2 Regularización Lasso (alpha=0.1) 0.6647329081182405\n"
          ]
        }
      ]
    },
    {
      "cell_type": "markdown",
      "source": [
        "Se utilizó una partición 75% entrenamiento y 25% prueba.\n",
        "\n",
        "Se ve una mejora en el desempeño de pasar de un modelo lineal (coeficiente de R^2=057) a cualquier modelo grado=2 (R^2 al menos del 0.66).\n",
        "\n",
        "El análisis visual muestra una parábola que una ecuación de 2do grado predice de mejor forma.\n",
        "\n",
        "Al realizar las regularizaciones de Lasso y Rigde y buscar minimizar el Error Cuadrático con el análisis iteractivo de las alpha, no se aprecian mejoras significativas en la predictibilidad y Error Absoluto.\n",
        "\n",
        "El **mejor modelo es Lasso (alpha=0.1)** con R^2 de 66.47% y Error absoluto = 4.537"
      ],
      "metadata": {
        "id": "D5nZ6y1Eag9w"
      }
    },
    {
      "cell_type": "markdown",
      "source": [
        "**Ejercicio 2**"
      ],
      "metadata": {
        "id": "rO5mXdYrbp0t"
      }
    },
    {
      "cell_type": "code",
      "source": [
        "df = pd.read_csv('https://raw.githubusercontent.com/marypazrf/bdd/main/kc_house_data.csv')\n",
        "df.sample(10)"
      ],
      "metadata": {
        "colab": {
          "base_uri": "https://localhost:8080/",
          "height": 456
        },
        "id": "B7pCKgqnbzKX",
        "outputId": "93d97597-4302-4d8b-949f-83234ad02c29"
      },
      "execution_count": null,
      "outputs": [
        {
          "output_type": "execute_result",
          "data": {
            "text/plain": [
              "               id             date     price  bedrooms  bathrooms  \\\n",
              "19499  2856101105  20140527T000000  488000.0         3       2.50   \n",
              "6186   6705850020  20150401T000000  740000.0         4       2.50   \n",
              "6615    421000430  20150331T000000  225000.0         3       1.00   \n",
              "9278   8129700644  20150424T000000  780000.0         3       4.00   \n",
              "4398   3821000100  20150320T000000  249950.0         4       1.75   \n",
              "9531   1137450120  20140729T000000  487500.0         4       2.50   \n",
              "11072  9432900560  20150212T000000  290000.0         3       2.50   \n",
              "11087  3701000060  20141216T000000  880000.0         3       1.75   \n",
              "13639  7853302110  20150406T000000  469900.0         3       2.50   \n",
              "17251  6806300980  20141223T000000  490000.0         4       2.50   \n",
              "\n",
              "       sqft_living  sqft_lot  floors  waterfront  view  ...  grade  \\\n",
              "19499         1590      2550     3.0           0     0  ...      7   \n",
              "6186          3030      8335     2.0           0     0  ...     10   \n",
              "6615           960      5512     1.0           0     0  ...      6   \n",
              "9278          2080      2250     3.0           0     4  ...      8   \n",
              "4398          1620     10530     1.0           0     0  ...      7   \n",
              "9531          2810      6296     2.0           0     0  ...      9   \n",
              "11072         2360      8764     2.0           0     0  ...      8   \n",
              "11087         3860      9000     1.0           0     2  ...      9   \n",
              "13639         2270      4399     2.0           0     0  ...      7   \n",
              "17251         3630      8387     2.0           0     0  ...     10   \n",
              "\n",
              "       sqft_above  sqft_basement  yr_built  yr_renovated  zipcode      lat  \\\n",
              "19499        1590              0      1985             0    98117  47.6772   \n",
              "6186         3030              0      1992             0    98075  47.5780   \n",
              "6615          960              0      1963             0    98056  47.4944   \n",
              "9278         2080              0      1997             0    98103  47.6598   \n",
              "4398         1620              0      1968             0    98030  47.3808   \n",
              "9531         2810              0      2013             0    98059  47.5019   \n",
              "11072        2360              0      1991             0    98022  47.2114   \n",
              "11087        1930           1930      1970             0    98155  47.7431   \n",
              "13639        2270              0      2007             0    98065  47.5415   \n",
              "17251        3630              0      1997             0    98042  47.3623   \n",
              "\n",
              "          long  sqft_living15  sqft_lot15  \n",
              "19499 -122.393           1260        5100  \n",
              "6186  -122.056           2850        8678  \n",
              "6615  -122.165           1090        5837  \n",
              "9278  -122.355           2080        2250  \n",
              "4398  -122.211           1890        9975  \n",
              "9531  -122.151           2850        6140  \n",
              "11072 -122.009           2360        8746  \n",
              "11087 -122.290           2960        9000  \n",
              "13639 -121.884           2060        4399  \n",
              "17251 -122.127           3370        8869  \n",
              "\n",
              "[10 rows x 21 columns]"
            ],
            "text/html": [
              "\n",
              "  <div id=\"df-c4ed535a-0406-4977-834a-d3f62df44d31\">\n",
              "    <div class=\"colab-df-container\">\n",
              "      <div>\n",
              "<style scoped>\n",
              "    .dataframe tbody tr th:only-of-type {\n",
              "        vertical-align: middle;\n",
              "    }\n",
              "\n",
              "    .dataframe tbody tr th {\n",
              "        vertical-align: top;\n",
              "    }\n",
              "\n",
              "    .dataframe thead th {\n",
              "        text-align: right;\n",
              "    }\n",
              "</style>\n",
              "<table border=\"1\" class=\"dataframe\">\n",
              "  <thead>\n",
              "    <tr style=\"text-align: right;\">\n",
              "      <th></th>\n",
              "      <th>id</th>\n",
              "      <th>date</th>\n",
              "      <th>price</th>\n",
              "      <th>bedrooms</th>\n",
              "      <th>bathrooms</th>\n",
              "      <th>sqft_living</th>\n",
              "      <th>sqft_lot</th>\n",
              "      <th>floors</th>\n",
              "      <th>waterfront</th>\n",
              "      <th>view</th>\n",
              "      <th>...</th>\n",
              "      <th>grade</th>\n",
              "      <th>sqft_above</th>\n",
              "      <th>sqft_basement</th>\n",
              "      <th>yr_built</th>\n",
              "      <th>yr_renovated</th>\n",
              "      <th>zipcode</th>\n",
              "      <th>lat</th>\n",
              "      <th>long</th>\n",
              "      <th>sqft_living15</th>\n",
              "      <th>sqft_lot15</th>\n",
              "    </tr>\n",
              "  </thead>\n",
              "  <tbody>\n",
              "    <tr>\n",
              "      <th>19499</th>\n",
              "      <td>2856101105</td>\n",
              "      <td>20140527T000000</td>\n",
              "      <td>488000.0</td>\n",
              "      <td>3</td>\n",
              "      <td>2.50</td>\n",
              "      <td>1590</td>\n",
              "      <td>2550</td>\n",
              "      <td>3.0</td>\n",
              "      <td>0</td>\n",
              "      <td>0</td>\n",
              "      <td>...</td>\n",
              "      <td>7</td>\n",
              "      <td>1590</td>\n",
              "      <td>0</td>\n",
              "      <td>1985</td>\n",
              "      <td>0</td>\n",
              "      <td>98117</td>\n",
              "      <td>47.6772</td>\n",
              "      <td>-122.393</td>\n",
              "      <td>1260</td>\n",
              "      <td>5100</td>\n",
              "    </tr>\n",
              "    <tr>\n",
              "      <th>6186</th>\n",
              "      <td>6705850020</td>\n",
              "      <td>20150401T000000</td>\n",
              "      <td>740000.0</td>\n",
              "      <td>4</td>\n",
              "      <td>2.50</td>\n",
              "      <td>3030</td>\n",
              "      <td>8335</td>\n",
              "      <td>2.0</td>\n",
              "      <td>0</td>\n",
              "      <td>0</td>\n",
              "      <td>...</td>\n",
              "      <td>10</td>\n",
              "      <td>3030</td>\n",
              "      <td>0</td>\n",
              "      <td>1992</td>\n",
              "      <td>0</td>\n",
              "      <td>98075</td>\n",
              "      <td>47.5780</td>\n",
              "      <td>-122.056</td>\n",
              "      <td>2850</td>\n",
              "      <td>8678</td>\n",
              "    </tr>\n",
              "    <tr>\n",
              "      <th>6615</th>\n",
              "      <td>421000430</td>\n",
              "      <td>20150331T000000</td>\n",
              "      <td>225000.0</td>\n",
              "      <td>3</td>\n",
              "      <td>1.00</td>\n",
              "      <td>960</td>\n",
              "      <td>5512</td>\n",
              "      <td>1.0</td>\n",
              "      <td>0</td>\n",
              "      <td>0</td>\n",
              "      <td>...</td>\n",
              "      <td>6</td>\n",
              "      <td>960</td>\n",
              "      <td>0</td>\n",
              "      <td>1963</td>\n",
              "      <td>0</td>\n",
              "      <td>98056</td>\n",
              "      <td>47.4944</td>\n",
              "      <td>-122.165</td>\n",
              "      <td>1090</td>\n",
              "      <td>5837</td>\n",
              "    </tr>\n",
              "    <tr>\n",
              "      <th>9278</th>\n",
              "      <td>8129700644</td>\n",
              "      <td>20150424T000000</td>\n",
              "      <td>780000.0</td>\n",
              "      <td>3</td>\n",
              "      <td>4.00</td>\n",
              "      <td>2080</td>\n",
              "      <td>2250</td>\n",
              "      <td>3.0</td>\n",
              "      <td>0</td>\n",
              "      <td>4</td>\n",
              "      <td>...</td>\n",
              "      <td>8</td>\n",
              "      <td>2080</td>\n",
              "      <td>0</td>\n",
              "      <td>1997</td>\n",
              "      <td>0</td>\n",
              "      <td>98103</td>\n",
              "      <td>47.6598</td>\n",
              "      <td>-122.355</td>\n",
              "      <td>2080</td>\n",
              "      <td>2250</td>\n",
              "    </tr>\n",
              "    <tr>\n",
              "      <th>4398</th>\n",
              "      <td>3821000100</td>\n",
              "      <td>20150320T000000</td>\n",
              "      <td>249950.0</td>\n",
              "      <td>4</td>\n",
              "      <td>1.75</td>\n",
              "      <td>1620</td>\n",
              "      <td>10530</td>\n",
              "      <td>1.0</td>\n",
              "      <td>0</td>\n",
              "      <td>0</td>\n",
              "      <td>...</td>\n",
              "      <td>7</td>\n",
              "      <td>1620</td>\n",
              "      <td>0</td>\n",
              "      <td>1968</td>\n",
              "      <td>0</td>\n",
              "      <td>98030</td>\n",
              "      <td>47.3808</td>\n",
              "      <td>-122.211</td>\n",
              "      <td>1890</td>\n",
              "      <td>9975</td>\n",
              "    </tr>\n",
              "    <tr>\n",
              "      <th>9531</th>\n",
              "      <td>1137450120</td>\n",
              "      <td>20140729T000000</td>\n",
              "      <td>487500.0</td>\n",
              "      <td>4</td>\n",
              "      <td>2.50</td>\n",
              "      <td>2810</td>\n",
              "      <td>6296</td>\n",
              "      <td>2.0</td>\n",
              "      <td>0</td>\n",
              "      <td>0</td>\n",
              "      <td>...</td>\n",
              "      <td>9</td>\n",
              "      <td>2810</td>\n",
              "      <td>0</td>\n",
              "      <td>2013</td>\n",
              "      <td>0</td>\n",
              "      <td>98059</td>\n",
              "      <td>47.5019</td>\n",
              "      <td>-122.151</td>\n",
              "      <td>2850</td>\n",
              "      <td>6140</td>\n",
              "    </tr>\n",
              "    <tr>\n",
              "      <th>11072</th>\n",
              "      <td>9432900560</td>\n",
              "      <td>20150212T000000</td>\n",
              "      <td>290000.0</td>\n",
              "      <td>3</td>\n",
              "      <td>2.50</td>\n",
              "      <td>2360</td>\n",
              "      <td>8764</td>\n",
              "      <td>2.0</td>\n",
              "      <td>0</td>\n",
              "      <td>0</td>\n",
              "      <td>...</td>\n",
              "      <td>8</td>\n",
              "      <td>2360</td>\n",
              "      <td>0</td>\n",
              "      <td>1991</td>\n",
              "      <td>0</td>\n",
              "      <td>98022</td>\n",
              "      <td>47.2114</td>\n",
              "      <td>-122.009</td>\n",
              "      <td>2360</td>\n",
              "      <td>8746</td>\n",
              "    </tr>\n",
              "    <tr>\n",
              "      <th>11087</th>\n",
              "      <td>3701000060</td>\n",
              "      <td>20141216T000000</td>\n",
              "      <td>880000.0</td>\n",
              "      <td>3</td>\n",
              "      <td>1.75</td>\n",
              "      <td>3860</td>\n",
              "      <td>9000</td>\n",
              "      <td>1.0</td>\n",
              "      <td>0</td>\n",
              "      <td>2</td>\n",
              "      <td>...</td>\n",
              "      <td>9</td>\n",
              "      <td>1930</td>\n",
              "      <td>1930</td>\n",
              "      <td>1970</td>\n",
              "      <td>0</td>\n",
              "      <td>98155</td>\n",
              "      <td>47.7431</td>\n",
              "      <td>-122.290</td>\n",
              "      <td>2960</td>\n",
              "      <td>9000</td>\n",
              "    </tr>\n",
              "    <tr>\n",
              "      <th>13639</th>\n",
              "      <td>7853302110</td>\n",
              "      <td>20150406T000000</td>\n",
              "      <td>469900.0</td>\n",
              "      <td>3</td>\n",
              "      <td>2.50</td>\n",
              "      <td>2270</td>\n",
              "      <td>4399</td>\n",
              "      <td>2.0</td>\n",
              "      <td>0</td>\n",
              "      <td>0</td>\n",
              "      <td>...</td>\n",
              "      <td>7</td>\n",
              "      <td>2270</td>\n",
              "      <td>0</td>\n",
              "      <td>2007</td>\n",
              "      <td>0</td>\n",
              "      <td>98065</td>\n",
              "      <td>47.5415</td>\n",
              "      <td>-121.884</td>\n",
              "      <td>2060</td>\n",
              "      <td>4399</td>\n",
              "    </tr>\n",
              "    <tr>\n",
              "      <th>17251</th>\n",
              "      <td>6806300980</td>\n",
              "      <td>20141223T000000</td>\n",
              "      <td>490000.0</td>\n",
              "      <td>4</td>\n",
              "      <td>2.50</td>\n",
              "      <td>3630</td>\n",
              "      <td>8387</td>\n",
              "      <td>2.0</td>\n",
              "      <td>0</td>\n",
              "      <td>0</td>\n",
              "      <td>...</td>\n",
              "      <td>10</td>\n",
              "      <td>3630</td>\n",
              "      <td>0</td>\n",
              "      <td>1997</td>\n",
              "      <td>0</td>\n",
              "      <td>98042</td>\n",
              "      <td>47.3623</td>\n",
              "      <td>-122.127</td>\n",
              "      <td>3370</td>\n",
              "      <td>8869</td>\n",
              "    </tr>\n",
              "  </tbody>\n",
              "</table>\n",
              "<p>10 rows × 21 columns</p>\n",
              "</div>\n",
              "      <button class=\"colab-df-convert\" onclick=\"convertToInteractive('df-c4ed535a-0406-4977-834a-d3f62df44d31')\"\n",
              "              title=\"Convert this dataframe to an interactive table.\"\n",
              "              style=\"display:none;\">\n",
              "        \n",
              "  <svg xmlns=\"http://www.w3.org/2000/svg\" height=\"24px\"viewBox=\"0 0 24 24\"\n",
              "       width=\"24px\">\n",
              "    <path d=\"M0 0h24v24H0V0z\" fill=\"none\"/>\n",
              "    <path d=\"M18.56 5.44l.94 2.06.94-2.06 2.06-.94-2.06-.94-.94-2.06-.94 2.06-2.06.94zm-11 1L8.5 8.5l.94-2.06 2.06-.94-2.06-.94L8.5 2.5l-.94 2.06-2.06.94zm10 10l.94 2.06.94-2.06 2.06-.94-2.06-.94-.94-2.06-.94 2.06-2.06.94z\"/><path d=\"M17.41 7.96l-1.37-1.37c-.4-.4-.92-.59-1.43-.59-.52 0-1.04.2-1.43.59L10.3 9.45l-7.72 7.72c-.78.78-.78 2.05 0 2.83L4 21.41c.39.39.9.59 1.41.59.51 0 1.02-.2 1.41-.59l7.78-7.78 2.81-2.81c.8-.78.8-2.07 0-2.86zM5.41 20L4 18.59l7.72-7.72 1.47 1.35L5.41 20z\"/>\n",
              "  </svg>\n",
              "      </button>\n",
              "      \n",
              "  <style>\n",
              "    .colab-df-container {\n",
              "      display:flex;\n",
              "      flex-wrap:wrap;\n",
              "      gap: 12px;\n",
              "    }\n",
              "\n",
              "    .colab-df-convert {\n",
              "      background-color: #E8F0FE;\n",
              "      border: none;\n",
              "      border-radius: 50%;\n",
              "      cursor: pointer;\n",
              "      display: none;\n",
              "      fill: #1967D2;\n",
              "      height: 32px;\n",
              "      padding: 0 0 0 0;\n",
              "      width: 32px;\n",
              "    }\n",
              "\n",
              "    .colab-df-convert:hover {\n",
              "      background-color: #E2EBFA;\n",
              "      box-shadow: 0px 1px 2px rgba(60, 64, 67, 0.3), 0px 1px 3px 1px rgba(60, 64, 67, 0.15);\n",
              "      fill: #174EA6;\n",
              "    }\n",
              "\n",
              "    [theme=dark] .colab-df-convert {\n",
              "      background-color: #3B4455;\n",
              "      fill: #D2E3FC;\n",
              "    }\n",
              "\n",
              "    [theme=dark] .colab-df-convert:hover {\n",
              "      background-color: #434B5C;\n",
              "      box-shadow: 0px 1px 3px 1px rgba(0, 0, 0, 0.15);\n",
              "      filter: drop-shadow(0px 1px 2px rgba(0, 0, 0, 0.3));\n",
              "      fill: #FFFFFF;\n",
              "    }\n",
              "  </style>\n",
              "\n",
              "      <script>\n",
              "        const buttonEl =\n",
              "          document.querySelector('#df-c4ed535a-0406-4977-834a-d3f62df44d31 button.colab-df-convert');\n",
              "        buttonEl.style.display =\n",
              "          google.colab.kernel.accessAllowed ? 'block' : 'none';\n",
              "\n",
              "        async function convertToInteractive(key) {\n",
              "          const element = document.querySelector('#df-c4ed535a-0406-4977-834a-d3f62df44d31');\n",
              "          const dataTable =\n",
              "            await google.colab.kernel.invokeFunction('convertToInteractive',\n",
              "                                                     [key], {});\n",
              "          if (!dataTable) return;\n",
              "\n",
              "          const docLinkHtml = 'Like what you see? Visit the ' +\n",
              "            '<a target=\"_blank\" href=https://colab.research.google.com/notebooks/data_table.ipynb>data table notebook</a>'\n",
              "            + ' to learn more about interactive tables.';\n",
              "          element.innerHTML = '';\n",
              "          dataTable['output_type'] = 'display_data';\n",
              "          await google.colab.output.renderOutput(dataTable, element);\n",
              "          const docLink = document.createElement('div');\n",
              "          docLink.innerHTML = docLinkHtml;\n",
              "          element.appendChild(docLink);\n",
              "        }\n",
              "      </script>\n",
              "    </div>\n",
              "  </div>\n",
              "  "
            ]
          },
          "metadata": {},
          "execution_count": 154
        }
      ]
    },
    {
      "cell_type": "code",
      "source": [
        "df.drop('id', axis = 1, inplace = True)\n",
        "df.drop('date', axis = 1, inplace = True)\n",
        "df.drop('zipcode', axis = 1, inplace = True)\n",
        "df.drop('lat', axis = 1, inplace = True)\n",
        "df.drop('long', axis = 1, inplace = True)\n",
        "df.head(5)"
      ],
      "metadata": {
        "colab": {
          "base_uri": "https://localhost:8080/",
          "height": 206
        },
        "id": "rPBtG1-FcLYR",
        "outputId": "12704582-5f60-4ac7-9873-693ef2574303"
      },
      "execution_count": null,
      "outputs": [
        {
          "output_type": "execute_result",
          "data": {
            "text/plain": [
              "      price  bedrooms  bathrooms  sqft_living  sqft_lot  floors  waterfront  \\\n",
              "0  221900.0         3       1.00         1180      5650     1.0           0   \n",
              "1  538000.0         3       2.25         2570      7242     2.0           0   \n",
              "2  180000.0         2       1.00          770     10000     1.0           0   \n",
              "3  604000.0         4       3.00         1960      5000     1.0           0   \n",
              "4  510000.0         3       2.00         1680      8080     1.0           0   \n",
              "\n",
              "   view  condition  grade  sqft_above  sqft_basement  yr_built  yr_renovated  \\\n",
              "0     0          3      7        1180              0      1955             0   \n",
              "1     0          3      7        2170            400      1951          1991   \n",
              "2     0          3      6         770              0      1933             0   \n",
              "3     0          5      7        1050            910      1965             0   \n",
              "4     0          3      8        1680              0      1987             0   \n",
              "\n",
              "   sqft_living15  sqft_lot15  \n",
              "0           1340        5650  \n",
              "1           1690        7639  \n",
              "2           2720        8062  \n",
              "3           1360        5000  \n",
              "4           1800        7503  "
            ],
            "text/html": [
              "\n",
              "  <div id=\"df-e27168f6-2f6f-4e3e-ae7d-410570803d2d\">\n",
              "    <div class=\"colab-df-container\">\n",
              "      <div>\n",
              "<style scoped>\n",
              "    .dataframe tbody tr th:only-of-type {\n",
              "        vertical-align: middle;\n",
              "    }\n",
              "\n",
              "    .dataframe tbody tr th {\n",
              "        vertical-align: top;\n",
              "    }\n",
              "\n",
              "    .dataframe thead th {\n",
              "        text-align: right;\n",
              "    }\n",
              "</style>\n",
              "<table border=\"1\" class=\"dataframe\">\n",
              "  <thead>\n",
              "    <tr style=\"text-align: right;\">\n",
              "      <th></th>\n",
              "      <th>price</th>\n",
              "      <th>bedrooms</th>\n",
              "      <th>bathrooms</th>\n",
              "      <th>sqft_living</th>\n",
              "      <th>sqft_lot</th>\n",
              "      <th>floors</th>\n",
              "      <th>waterfront</th>\n",
              "      <th>view</th>\n",
              "      <th>condition</th>\n",
              "      <th>grade</th>\n",
              "      <th>sqft_above</th>\n",
              "      <th>sqft_basement</th>\n",
              "      <th>yr_built</th>\n",
              "      <th>yr_renovated</th>\n",
              "      <th>sqft_living15</th>\n",
              "      <th>sqft_lot15</th>\n",
              "    </tr>\n",
              "  </thead>\n",
              "  <tbody>\n",
              "    <tr>\n",
              "      <th>0</th>\n",
              "      <td>221900.0</td>\n",
              "      <td>3</td>\n",
              "      <td>1.00</td>\n",
              "      <td>1180</td>\n",
              "      <td>5650</td>\n",
              "      <td>1.0</td>\n",
              "      <td>0</td>\n",
              "      <td>0</td>\n",
              "      <td>3</td>\n",
              "      <td>7</td>\n",
              "      <td>1180</td>\n",
              "      <td>0</td>\n",
              "      <td>1955</td>\n",
              "      <td>0</td>\n",
              "      <td>1340</td>\n",
              "      <td>5650</td>\n",
              "    </tr>\n",
              "    <tr>\n",
              "      <th>1</th>\n",
              "      <td>538000.0</td>\n",
              "      <td>3</td>\n",
              "      <td>2.25</td>\n",
              "      <td>2570</td>\n",
              "      <td>7242</td>\n",
              "      <td>2.0</td>\n",
              "      <td>0</td>\n",
              "      <td>0</td>\n",
              "      <td>3</td>\n",
              "      <td>7</td>\n",
              "      <td>2170</td>\n",
              "      <td>400</td>\n",
              "      <td>1951</td>\n",
              "      <td>1991</td>\n",
              "      <td>1690</td>\n",
              "      <td>7639</td>\n",
              "    </tr>\n",
              "    <tr>\n",
              "      <th>2</th>\n",
              "      <td>180000.0</td>\n",
              "      <td>2</td>\n",
              "      <td>1.00</td>\n",
              "      <td>770</td>\n",
              "      <td>10000</td>\n",
              "      <td>1.0</td>\n",
              "      <td>0</td>\n",
              "      <td>0</td>\n",
              "      <td>3</td>\n",
              "      <td>6</td>\n",
              "      <td>770</td>\n",
              "      <td>0</td>\n",
              "      <td>1933</td>\n",
              "      <td>0</td>\n",
              "      <td>2720</td>\n",
              "      <td>8062</td>\n",
              "    </tr>\n",
              "    <tr>\n",
              "      <th>3</th>\n",
              "      <td>604000.0</td>\n",
              "      <td>4</td>\n",
              "      <td>3.00</td>\n",
              "      <td>1960</td>\n",
              "      <td>5000</td>\n",
              "      <td>1.0</td>\n",
              "      <td>0</td>\n",
              "      <td>0</td>\n",
              "      <td>5</td>\n",
              "      <td>7</td>\n",
              "      <td>1050</td>\n",
              "      <td>910</td>\n",
              "      <td>1965</td>\n",
              "      <td>0</td>\n",
              "      <td>1360</td>\n",
              "      <td>5000</td>\n",
              "    </tr>\n",
              "    <tr>\n",
              "      <th>4</th>\n",
              "      <td>510000.0</td>\n",
              "      <td>3</td>\n",
              "      <td>2.00</td>\n",
              "      <td>1680</td>\n",
              "      <td>8080</td>\n",
              "      <td>1.0</td>\n",
              "      <td>0</td>\n",
              "      <td>0</td>\n",
              "      <td>3</td>\n",
              "      <td>8</td>\n",
              "      <td>1680</td>\n",
              "      <td>0</td>\n",
              "      <td>1987</td>\n",
              "      <td>0</td>\n",
              "      <td>1800</td>\n",
              "      <td>7503</td>\n",
              "    </tr>\n",
              "  </tbody>\n",
              "</table>\n",
              "</div>\n",
              "      <button class=\"colab-df-convert\" onclick=\"convertToInteractive('df-e27168f6-2f6f-4e3e-ae7d-410570803d2d')\"\n",
              "              title=\"Convert this dataframe to an interactive table.\"\n",
              "              style=\"display:none;\">\n",
              "        \n",
              "  <svg xmlns=\"http://www.w3.org/2000/svg\" height=\"24px\"viewBox=\"0 0 24 24\"\n",
              "       width=\"24px\">\n",
              "    <path d=\"M0 0h24v24H0V0z\" fill=\"none\"/>\n",
              "    <path d=\"M18.56 5.44l.94 2.06.94-2.06 2.06-.94-2.06-.94-.94-2.06-.94 2.06-2.06.94zm-11 1L8.5 8.5l.94-2.06 2.06-.94-2.06-.94L8.5 2.5l-.94 2.06-2.06.94zm10 10l.94 2.06.94-2.06 2.06-.94-2.06-.94-.94-2.06-.94 2.06-2.06.94z\"/><path d=\"M17.41 7.96l-1.37-1.37c-.4-.4-.92-.59-1.43-.59-.52 0-1.04.2-1.43.59L10.3 9.45l-7.72 7.72c-.78.78-.78 2.05 0 2.83L4 21.41c.39.39.9.59 1.41.59.51 0 1.02-.2 1.41-.59l7.78-7.78 2.81-2.81c.8-.78.8-2.07 0-2.86zM5.41 20L4 18.59l7.72-7.72 1.47 1.35L5.41 20z\"/>\n",
              "  </svg>\n",
              "      </button>\n",
              "      \n",
              "  <style>\n",
              "    .colab-df-container {\n",
              "      display:flex;\n",
              "      flex-wrap:wrap;\n",
              "      gap: 12px;\n",
              "    }\n",
              "\n",
              "    .colab-df-convert {\n",
              "      background-color: #E8F0FE;\n",
              "      border: none;\n",
              "      border-radius: 50%;\n",
              "      cursor: pointer;\n",
              "      display: none;\n",
              "      fill: #1967D2;\n",
              "      height: 32px;\n",
              "      padding: 0 0 0 0;\n",
              "      width: 32px;\n",
              "    }\n",
              "\n",
              "    .colab-df-convert:hover {\n",
              "      background-color: #E2EBFA;\n",
              "      box-shadow: 0px 1px 2px rgba(60, 64, 67, 0.3), 0px 1px 3px 1px rgba(60, 64, 67, 0.15);\n",
              "      fill: #174EA6;\n",
              "    }\n",
              "\n",
              "    [theme=dark] .colab-df-convert {\n",
              "      background-color: #3B4455;\n",
              "      fill: #D2E3FC;\n",
              "    }\n",
              "\n",
              "    [theme=dark] .colab-df-convert:hover {\n",
              "      background-color: #434B5C;\n",
              "      box-shadow: 0px 1px 3px 1px rgba(0, 0, 0, 0.15);\n",
              "      filter: drop-shadow(0px 1px 2px rgba(0, 0, 0, 0.3));\n",
              "      fill: #FFFFFF;\n",
              "    }\n",
              "  </style>\n",
              "\n",
              "      <script>\n",
              "        const buttonEl =\n",
              "          document.querySelector('#df-e27168f6-2f6f-4e3e-ae7d-410570803d2d button.colab-df-convert');\n",
              "        buttonEl.style.display =\n",
              "          google.colab.kernel.accessAllowed ? 'block' : 'none';\n",
              "\n",
              "        async function convertToInteractive(key) {\n",
              "          const element = document.querySelector('#df-e27168f6-2f6f-4e3e-ae7d-410570803d2d');\n",
              "          const dataTable =\n",
              "            await google.colab.kernel.invokeFunction('convertToInteractive',\n",
              "                                                     [key], {});\n",
              "          if (!dataTable) return;\n",
              "\n",
              "          const docLinkHtml = 'Like what you see? Visit the ' +\n",
              "            '<a target=\"_blank\" href=https://colab.research.google.com/notebooks/data_table.ipynb>data table notebook</a>'\n",
              "            + ' to learn more about interactive tables.';\n",
              "          element.innerHTML = '';\n",
              "          dataTable['output_type'] = 'display_data';\n",
              "          await google.colab.output.renderOutput(dataTable, element);\n",
              "          const docLink = document.createElement('div');\n",
              "          docLink.innerHTML = docLinkHtml;\n",
              "          element.appendChild(docLink);\n",
              "        }\n",
              "      </script>\n",
              "    </div>\n",
              "  </div>\n",
              "  "
            ]
          },
          "metadata": {},
          "execution_count": 155
        }
      ]
    },
    {
      "cell_type": "code",
      "source": [
        "plt.figure(figsize=(12,8)) \n",
        "sns.heatmap(df.corr(), annot=True, cmap='Dark2_r', linewidths = 2)\n",
        "plt.show()"
      ],
      "metadata": {
        "colab": {
          "base_uri": "https://localhost:8080/",
          "height": 551
        },
        "id": "86_qKKg-cV7f",
        "outputId": "465d250e-9a87-44e9-becf-c55c76014114"
      },
      "execution_count": null,
      "outputs": [
        {
          "output_type": "display_data",
          "data": {
            "text/plain": [
              "<Figure size 864x576 with 2 Axes>"
            ],
            "image/png": "[encoded data removed]"
          },
          "metadata": {
            "needs_background": "light"
          }
        }
      ]
    },
    {
      "cell_type": "code",
      "source": [
        "columns = df.columns.drop('price')\n",
        "\n",
        "features = columns\n",
        "label = ['price']\n",
        "\n",
        "X = df[features]\n",
        "y = df[label]"
      ],
      "metadata": {
        "id": "h7V5JTuFcYhO"
      },
      "execution_count": null,
      "outputs": []
    },
    {
      "cell_type": "code",
      "source": [
        "from sklearn.model_selection import train_test_split\n",
        "X_train, X_test, y_train, y_test = train_test_split(X, y, test_size = 0.1, random_state = 101)\n",
        "\n",
        "print(f'Numero total de registros en la bdd: {len(X)}')\n",
        "print(\"*****\"*10)\n",
        "print(f'Numero total de registros en el training set: {len(X_train)}')\n",
        "print(f'Tamaño de X_train: {X_train.shape}')\n",
        "print(\"*****\"*10)\n",
        "print(f'Mumero total de registros en el test dataset: {len(X_test)}')\n",
        "print(f'Tamaño del X_test: {X_test.shape}')"
      ],
      "metadata": {
        "colab": {
          "base_uri": "https://localhost:8080/"
        },
        "id": "ETdtMp9ucfUw",
        "outputId": "dcf1071c-8979-4f57-8cae-07cfc4c08108"
      },
      "execution_count": null,
      "outputs": [
        {
          "output_type": "stream",
          "name": "stdout",
          "text": [
            "Numero total de registros en la bdd: 21613\n",
            "**************************************************\n",
            "Numero total de registros en el training set: 19451\n",
            "Tamaño de X_train: (19451, 15)\n",
            "**************************************************\n",
            "Mumero total de registros en el test dataset: 2162\n",
            "Tamaño del X_test: (2162, 15)\n"
          ]
        }
      ]
    },
    {
      "cell_type": "code",
      "source": [
        "#Regresión Lineal Múltiple\n",
        "lrm=LinearRegression()\n",
        "lrm.fit(X_train,y_train)"
      ],
      "metadata": {
        "colab": {
          "base_uri": "https://localhost:8080/"
        },
        "id": "Msp0XwCIcn1M",
        "outputId": "e18249ad-0b15-46c3-8e6d-eec168b1f03f"
      },
      "execution_count": null,
      "outputs": [
        {
          "output_type": "execute_result",
          "data": {
            "text/plain": [
              "LinearRegression()"
            ]
          },
          "metadata": {},
          "execution_count": 205
        }
      ]
    },
    {
      "cell_type": "code",
      "source": [
        "lrm.predict(X_test)\n",
        "print(\"R^2 de la regresión lineal aplicada a la base test\",lrm.score(X_test,y_test))"
      ],
      "metadata": {
        "colab": {
          "base_uri": "https://localhost:8080/"
        },
        "id": "3c6zZ3ajc5Bw",
        "outputId": "72c0f869-373f-483e-b6e9-0d1c8dc59745"
      },
      "execution_count": null,
      "outputs": [
        {
          "output_type": "stream",
          "name": "stdout",
          "text": [
            "R^2 de la regresión lineal aplicada a la base test 0.6579723205007814\n"
          ]
        }
      ]
    },
    {
      "cell_type": "code",
      "source": [
        "yhat=lrm.predict(X)"
      ],
      "metadata": {
        "id": "kAIHJ5OWnvZg"
      },
      "execution_count": null,
      "outputs": []
    },
    {
      "cell_type": "code",
      "source": [
        "plt.scatter(x=X['bedrooms'],y=y['price'],c='b')\n",
        "plt.scatter(x=X['bedrooms'],y=yhat,c='r')\n",
        "plt.show()\n",
        "#Parece que el modelo subestima el precio de la vivienda de acuerdo al número de cuartos"
      ],
      "metadata": {
        "colab": {
          "base_uri": "https://localhost:8080/",
          "height": 276
        },
        "id": "swqbIz2ynQKB",
        "outputId": "8ec2d1fc-79eb-4643-e729-8ecca155af04"
      },
      "execution_count": null,
      "outputs": [
        {
          "output_type": "display_data",
          "data": {
            "text/plain": [
              "<Figure size 432x288 with 1 Axes>"
            ],
            "image/png": "[encoded data removed]"
          },
          "metadata": {
            "needs_background": "light"
          }
        }
      ]
    },
    {
      "cell_type": "code",
      "source": [
        "# Información del modelo\n",
        "# ==============================================================================\n",
        "print(\"Intercept:\", lrm.intercept_)\n",
        "print(\"Coeficiente:\", list(zip(X.columns, lrm.coef_.flatten(), )))\n",
        "print(\"Coeficiente de determinación R^2:\", lrm.score(X, y))\n",
        "print(\"Error Absoluto Medio:\", mean_absolute_error(y, lrm.predict(X)))"
      ],
      "metadata": {
        "colab": {
          "base_uri": "https://localhost:8080/"
        },
        "id": "BJQBlm2YdLx_",
        "outputId": "37856e8e-9582-4dda-95a1-38cfdf45fef1"
      },
      "execution_count": null,
      "outputs": [
        {
          "output_type": "stream",
          "name": "stdout",
          "text": [
            "Intercept: [6151359.2627409]\n",
            "Coeficiente: [('bedrooms', -38200.80483396449), ('bathrooms', 41466.13802863147), ('sqft_living', 107.99258400093822), ('sqft_lot', 0.0171356997161638), ('floors', 31691.691313553605), ('waterfront', 552691.0233181857), ('view', 41249.32275203692), ('condition', 21222.144256109055), ('grade', 119493.21585367358), ('sqft_above', 47.77502707057647), ('sqft_basement', 60.21755653483342), ('yr_built', -3550.9021573131968), ('yr_renovated', 13.260221498272529), ('sqft_living15', 29.00592838751345), ('sqft_lot15', -0.5481326027838804)]\n",
            "Coeficiente de determinación R^2: 0.6535308525095571\n",
            "Error Absoluto Medio: 139090.35238662068\n"
          ]
        }
      ]
    },
    {
      "cell_type": "code",
      "source": [
        "#Regresión Múltiple Polinomial\n",
        "#Calcularemos una regresión de grado 2\n",
        "pr=PolynomialFeatures(degree=2)\n",
        "X_train_pr=pr.fit_transform(X_train)\n",
        "X_test_pr=pr.fit_transform(X_test)\n",
        "X_pr=pr.fit_transform(X)"
      ],
      "metadata": {
        "id": "zXY1UIKVfHuO"
      },
      "execution_count": null,
      "outputs": []
    },
    {
      "cell_type": "code",
      "source": [
        "polym=LinearRegression()\n",
        "polym.fit(X_train_pr,y_train)"
      ],
      "metadata": {
        "colab": {
          "base_uri": "https://localhost:8080/"
        },
        "id": "oav7_-JafkJQ",
        "outputId": "a2ed4629-97d8-4cb9-960d-d4020dec9535"
      },
      "execution_count": null,
      "outputs": [
        {
          "output_type": "execute_result",
          "data": {
            "text/plain": [
              "LinearRegression()"
            ]
          },
          "metadata": {},
          "execution_count": 174
        }
      ]
    },
    {
      "cell_type": "code",
      "source": [
        "# Información del modelo de regresión polinomial múltiple\n",
        "# ==============================================================================\n",
        "print(\"Intercept:\", polym.intercept_)\n",
        "print(\"Coeficiente:\", polym.coef_)\n",
        "print(\"Coeficiente de determinación R^2:\", polym.score(X_pr, y))\n",
        "print(\"Error Absoluto Medio:\", mean_absolute_error(y, polym.predict(X_pr)))"
      ],
      "metadata": {
        "colab": {
          "base_uri": "https://localhost:8080/"
        },
        "id": "L-Z8YaUSgLuW",
        "outputId": "4375c25e-4dec-43c9-a07e-bd8c2d846b36"
      },
      "execution_count": null,
      "outputs": [
        {
          "output_type": "stream",
          "name": "stdout",
          "text": [
            "Intercept: [80233537.22738773]\n",
            "Coeficiente: [[-3.36215067e+02  9.33786601e+05 -1.09276012e+06 -5.00000916e+02\n",
            "  -2.78655818e+01 -2.07431876e+06 -3.95454208e+06 -2.88626046e+05\n",
            "   5.58593032e+05  1.09860635e+06 -1.76306376e+02 -3.38830099e+02\n",
            "  -8.59690742e+04 -2.95364696e+03  3.99966813e+03 -3.40100969e+01\n",
            "   9.57353093e+02  7.49573773e+03 -1.43129923e+01 -1.86055609e-02\n",
            "   8.57765264e+03 -1.15023978e+04 -3.07568695e+02 -5.24425041e+03\n",
            "  -5.36756662e+03 -6.90375101e-01 -1.40883136e+01 -4.67027049e+02\n",
            "  -9.12671559e+00  1.72774587e+01  2.15692510e-01 -9.63018996e+03\n",
            "   1.55434606e+01 -1.35758634e-01 -2.59069352e+04  4.33710369e+04\n",
            "   3.82965496e+03 -1.07945148e+03  2.22974058e+04  1.42714685e+01\n",
            "   1.18111267e+00  5.03113646e+02 -1.70855006e+01 -1.72874822e+01\n",
            "  -5.57330742e-02 -4.95300818e-01 -1.18373560e+00  4.83455018e+00\n",
            "   1.60300634e+02 -1.42701954e+01  1.31157574e+01  2.07362736e+01\n",
            "  -3.88265256e+00  1.77534910e+00  3.44718628e+00  2.90907898e-02\n",
            "  -2.87308877e+00 -1.69344406e+00  3.07802111e-07  4.40837356e-01\n",
            "  -9.85055610e-02 -9.75854874e-02  9.17187597e-02  1.51947523e-01\n",
            "   1.18304976e+00  1.18327142e+00  1.37632645e-02 -1.48338513e-04\n",
            "   1.76599249e-04  1.05295840e-06  2.16102817e+04 -1.31323610e+05\n",
            "   1.44414306e+04  2.03014521e+04 -4.27952652e+03 -2.82332706e+00\n",
            "   7.66118047e+00  1.03677935e+03  2.59523171e+00 -3.20407426e+01\n",
            "  -5.28613747e-01 -3.95454020e+06 -1.60508338e+04  9.19949119e+03\n",
            "  -1.61638717e+05  1.83103162e+02 -2.28024874e+01  4.42859231e+03\n",
            "  -2.99136532e+01  1.70605216e+02 -8.13464467e-01  7.98449145e+03\n",
            "   7.33972187e+03  1.79555207e+04 -1.24969207e+01 -1.77410890e+00\n",
            "   7.20654536e+01 -9.96849430e+00  4.63360490e+00 -5.24451789e-02\n",
            "  -5.41709875e+02 -6.03796704e+03  1.16203356e+00  1.19555877e+01\n",
            "  -3.07024246e+02 -2.01989010e+01  4.63200472e+01 -2.76899554e-01\n",
            "   7.36628623e+03  9.59804274e+00  1.11367779e+01 -5.71967028e+02\n",
            "  -1.01341115e+01 -2.27556433e+01 -5.08583316e-01  4.38328806e+00\n",
            "   3.13326922e+00 -3.20761510e+00  9.08475019e-03  2.87101198e+00\n",
            "   1.69363433e+00 -1.34180280e+00 -3.10646687e+00  1.57077571e-02\n",
            "   2.87625348e+00  1.69292778e+00  2.30613315e+01  4.07031251e-01\n",
            "  -2.04695680e+00  1.88934866e-02  1.11629250e+00  4.71243854e-02\n",
            "   2.54890379e-04  3.31536956e-02  1.11445785e-04  2.35595508e-06]]\n",
            "Coeficiente de determinación R^2: 0.7508065249978767\n",
            "Error Absoluto Medio: 123003.22040645295\n"
          ]
        }
      ]
    },
    {
      "cell_type": "code",
      "source": [
        "#Regularización Ridge SIN transformación\n",
        "from sklearn.linear_model import Ridge"
      ],
      "metadata": {
        "id": "uUVrPofjgmNt"
      },
      "execution_count": null,
      "outputs": []
    },
    {
      "cell_type": "code",
      "source": [
        "#Haremos Grid search para encontrar el alpha que minimiza el error\n",
        "from sklearn.model_selection import GridSearchCV\n",
        "parametro=[{'alpha':[.001,.01,.1,1,10,100,1000,10000,100000]}]\n",
        "parametro"
      ],
      "metadata": {
        "colab": {
          "base_uri": "https://localhost:8080/"
        },
        "id": "FzZNzKqNhbBF",
        "outputId": "6aaa21e4-0717-4eb1-d822-dea5359107d2"
      },
      "execution_count": null,
      "outputs": [
        {
          "output_type": "execute_result",
          "data": {
            "text/plain": [
              "[{'alpha': [0.001, 0.01, 0.1, 1, 10, 100, 1000, 10000, 100000]}]"
            ]
          },
          "metadata": {},
          "execution_count": 179
        }
      ]
    },
    {
      "cell_type": "code",
      "source": [
        "RRm=Ridge()\n",
        "Grid1m=GridSearchCV(RRm,parametro,cv=4)"
      ],
      "metadata": {
        "id": "QSdn2gtKhhlb"
      },
      "execution_count": null,
      "outputs": []
    },
    {
      "cell_type": "code",
      "source": [
        "#Generamos el modelo\n",
        "Grid1m.fit(X_train,y_train)"
      ],
      "metadata": {
        "colab": {
          "base_uri": "https://localhost:8080/"
        },
        "id": "ZWhLiiyBhpUl",
        "outputId": "9ce63a07-085f-45f7-c318-a7317f0e1a50"
      },
      "execution_count": null,
      "outputs": [
        {
          "output_type": "stream",
          "name": "stderr",
          "text": [
            "/usr/local/lib/python3.7/dist-packages/sklearn/linear_model/_ridge.py:157: LinAlgWarning: Ill-conditioned matrix (rcond=2.48085e-17): result may not be accurate.\n",
            "  return linalg.solve(A, Xy, sym_pos=True, overwrite_a=True).T\n",
            "/usr/local/lib/python3.7/dist-packages/sklearn/linear_model/_ridge.py:157: LinAlgWarning: Ill-conditioned matrix (rcond=2.7763e-17): result may not be accurate.\n",
            "  return linalg.solve(A, Xy, sym_pos=True, overwrite_a=True).T\n",
            "/usr/local/lib/python3.7/dist-packages/sklearn/linear_model/_ridge.py:157: LinAlgWarning: Ill-conditioned matrix (rcond=2.92767e-17): result may not be accurate.\n",
            "  return linalg.solve(A, Xy, sym_pos=True, overwrite_a=True).T\n",
            "/usr/local/lib/python3.7/dist-packages/sklearn/linear_model/_ridge.py:157: LinAlgWarning: Ill-conditioned matrix (rcond=2.6277e-17): result may not be accurate.\n",
            "  return linalg.solve(A, Xy, sym_pos=True, overwrite_a=True).T\n"
          ]
        },
        {
          "output_type": "execute_result",
          "data": {
            "text/plain": [
              "GridSearchCV(cv=4, estimator=Ridge(),\n",
              "             param_grid=[{'alpha': [0.001, 0.01, 0.1, 1, 10, 100, 1000, 10000,\n",
              "                                    100000]}])"
            ]
          },
          "metadata": {},
          "execution_count": 182
        }
      ]
    },
    {
      "cell_type": "code",
      "source": [
        "BestRRm=Grid1m.best_estimator_\n",
        "BestRRm"
      ],
      "metadata": {
        "colab": {
          "base_uri": "https://localhost:8080/"
        },
        "id": "oAYvQa2ih2j6",
        "outputId": "a3993da8-bda0-4d1d-9d4d-ca287438829b"
      },
      "execution_count": null,
      "outputs": [
        {
          "output_type": "execute_result",
          "data": {
            "text/plain": [
              "Ridge(alpha=0.1)"
            ]
          },
          "metadata": {},
          "execution_count": 184
        }
      ]
    },
    {
      "cell_type": "code",
      "source": [
        "#El mejor modelo regresión lineal múltiple con Regularización RR y alpha=0.1"
      ],
      "metadata": {
        "id": "Nv1mcTxjiJtw"
      },
      "execution_count": null,
      "outputs": []
    },
    {
      "cell_type": "code",
      "source": [
        "# Información del modelo Ridge\n",
        "# ==============================================================================\n",
        "print(\"Intercept:\", BestRRm.intercept_)\n",
        "print(\"Coeficiente:\", list(zip(X.columns, BestRRm.coef_.flatten(), )))\n",
        "print(\"Coeficiente de determinación R^2:\", BestRRm.score(X, y))\n",
        "print(\"Error Absoluto Medio:\", mean_absolute_error(y, BestRRm.predict(X)))"
      ],
      "metadata": {
        "colab": {
          "base_uri": "https://localhost:8080/"
        },
        "id": "2DRbB-PFiIF4",
        "outputId": "88cd9713-67cc-4aef-d0ed-4e0d2f056430"
      },
      "execution_count": null,
      "outputs": [
        {
          "output_type": "stream",
          "name": "stdout",
          "text": [
            "Intercept: [6151298.16840607]\n",
            "Coeficiente: [('bedrooms', -38202.66242974447), ('bathrooms', 41464.61538411782), ('sqft_living', 107.99541861566733), ('sqft_lot', 0.01711516092125284), ('floors', 31691.438931456712), ('waterfront', 552244.5134002309), ('view', 41270.13764843623), ('condition', 21222.578802048705), ('grade', 119490.9427447676), ('sqft_above', 47.777525108181), ('sqft_basement', 60.21575952380699), ('yr_built', -3550.8618755101807), ('yr_renovated', 13.265957829598195), ('sqft_living15', 29.0038359769631), ('sqft_lot15', -0.5481190731312516)]\n",
            "Coeficiente de determinación R^2: 0.6535297445798194\n",
            "Error Absoluto Medio: 139090.45357511536\n"
          ]
        }
      ]
    },
    {
      "cell_type": "code",
      "source": [
        "#Modelo de regresió lineal múltiple con regularización Lasso\n",
        "LassoModelm=Lasso(alpha=0.1)\n",
        "LassoModelm.fit(X_train,y_train)"
      ],
      "metadata": {
        "colab": {
          "base_uri": "https://localhost:8080/"
        },
        "id": "6k6VzH7MjJrb",
        "outputId": "6d7b309f-1ee5-4b3d-a2cb-1a019f8ae851"
      },
      "execution_count": null,
      "outputs": [
        {
          "output_type": "stream",
          "name": "stderr",
          "text": [
            "/usr/local/lib/python3.7/dist-packages/sklearn/linear_model/_coordinate_descent.py:648: ConvergenceWarning: Objective did not converge. You might want to increase the number of iterations, check the scale of the features or consider increasing regularisation. Duality gap: 4.053e+14, tolerance: 2.572e+11\n",
            "  coef_, l1_reg, l2_reg, X, y, max_iter, tol, rng, random, positive\n"
          ]
        },
        {
          "output_type": "execute_result",
          "data": {
            "text/plain": [
              "Lasso(alpha=0.1)"
            ]
          },
          "metadata": {},
          "execution_count": 196
        }
      ]
    },
    {
      "cell_type": "code",
      "source": [
        "LLm=Lasso()\n",
        "Grid2m=GridSearchCV(LLm,parametro,cv=4)\n",
        "Grid2m.fit(X_train,y_train)"
      ],
      "metadata": {
        "colab": {
          "base_uri": "https://localhost:8080/"
        },
        "id": "HZ-o5h-ejZ63",
        "outputId": "62e9ece7-a37c-42b8-bcba-1968312f5c0d"
      },
      "execution_count": null,
      "outputs": [
        {
          "output_type": "stream",
          "name": "stderr",
          "text": [
            "/usr/local/lib/python3.7/dist-packages/sklearn/linear_model/_coordinate_descent.py:648: ConvergenceWarning: Objective did not converge. You might want to increase the number of iterations, check the scale of the features or consider increasing regularisation. Duality gap: 3.109e+14, tolerance: 1.941e+11\n",
            "  coef_, l1_reg, l2_reg, X, y, max_iter, tol, rng, random, positive\n",
            "/usr/local/lib/python3.7/dist-packages/sklearn/linear_model/_coordinate_descent.py:648: ConvergenceWarning: Objective did not converge. You might want to increase the number of iterations, check the scale of the features or consider increasing regularisation. Duality gap: 2.984e+14, tolerance: 1.936e+11\n",
            "  coef_, l1_reg, l2_reg, X, y, max_iter, tol, rng, random, positive\n",
            "/usr/local/lib/python3.7/dist-packages/sklearn/linear_model/_coordinate_descent.py:648: ConvergenceWarning: Objective did not converge. You might want to increase the number of iterations, check the scale of the features or consider increasing regularisation. Duality gap: 2.982e+14, tolerance: 1.884e+11\n",
            "  coef_, l1_reg, l2_reg, X, y, max_iter, tol, rng, random, positive\n",
            "/usr/local/lib/python3.7/dist-packages/sklearn/linear_model/_coordinate_descent.py:648: ConvergenceWarning: Objective did not converge. You might want to increase the number of iterations, check the scale of the features or consider increasing regularisation. Duality gap: 3.118e+14, tolerance: 1.955e+11\n",
            "  coef_, l1_reg, l2_reg, X, y, max_iter, tol, rng, random, positive\n",
            "/usr/local/lib/python3.7/dist-packages/sklearn/linear_model/_coordinate_descent.py:648: ConvergenceWarning: Objective did not converge. You might want to increase the number of iterations, check the scale of the features or consider increasing regularisation. Duality gap: 3.109e+14, tolerance: 1.941e+11\n",
            "  coef_, l1_reg, l2_reg, X, y, max_iter, tol, rng, random, positive\n",
            "/usr/local/lib/python3.7/dist-packages/sklearn/linear_model/_coordinate_descent.py:648: ConvergenceWarning: Objective did not converge. You might want to increase the number of iterations, check the scale of the features or consider increasing regularisation. Duality gap: 2.984e+14, tolerance: 1.936e+11\n",
            "  coef_, l1_reg, l2_reg, X, y, max_iter, tol, rng, random, positive\n",
            "/usr/local/lib/python3.7/dist-packages/sklearn/linear_model/_coordinate_descent.py:648: ConvergenceWarning: Objective did not converge. You might want to increase the number of iterations, check the scale of the features or consider increasing regularisation. Duality gap: 2.982e+14, tolerance: 1.884e+11\n",
            "  coef_, l1_reg, l2_reg, X, y, max_iter, tol, rng, random, positive\n",
            "/usr/local/lib/python3.7/dist-packages/sklearn/linear_model/_coordinate_descent.py:648: ConvergenceWarning: Objective did not converge. You might want to increase the number of iterations, check the scale of the features or consider increasing regularisation. Duality gap: 3.118e+14, tolerance: 1.955e+11\n",
            "  coef_, l1_reg, l2_reg, X, y, max_iter, tol, rng, random, positive\n",
            "/usr/local/lib/python3.7/dist-packages/sklearn/linear_model/_coordinate_descent.py:648: ConvergenceWarning: Objective did not converge. You might want to increase the number of iterations, check the scale of the features or consider increasing regularisation. Duality gap: 3.109e+14, tolerance: 1.941e+11\n",
            "  coef_, l1_reg, l2_reg, X, y, max_iter, tol, rng, random, positive\n",
            "/usr/local/lib/python3.7/dist-packages/sklearn/linear_model/_coordinate_descent.py:648: ConvergenceWarning: Objective did not converge. You might want to increase the number of iterations, check the scale of the features or consider increasing regularisation. Duality gap: 2.984e+14, tolerance: 1.936e+11\n",
            "  coef_, l1_reg, l2_reg, X, y, max_iter, tol, rng, random, positive\n",
            "/usr/local/lib/python3.7/dist-packages/sklearn/linear_model/_coordinate_descent.py:648: ConvergenceWarning: Objective did not converge. You might want to increase the number of iterations, check the scale of the features or consider increasing regularisation. Duality gap: 2.982e+14, tolerance: 1.884e+11\n",
            "  coef_, l1_reg, l2_reg, X, y, max_iter, tol, rng, random, positive\n",
            "/usr/local/lib/python3.7/dist-packages/sklearn/linear_model/_coordinate_descent.py:648: ConvergenceWarning: Objective did not converge. You might want to increase the number of iterations, check the scale of the features or consider increasing regularisation. Duality gap: 3.118e+14, tolerance: 1.955e+11\n",
            "  coef_, l1_reg, l2_reg, X, y, max_iter, tol, rng, random, positive\n",
            "/usr/local/lib/python3.7/dist-packages/sklearn/linear_model/_coordinate_descent.py:648: ConvergenceWarning: Objective did not converge. You might want to increase the number of iterations, check the scale of the features or consider increasing regularisation. Duality gap: 3.109e+14, tolerance: 1.941e+11\n",
            "  coef_, l1_reg, l2_reg, X, y, max_iter, tol, rng, random, positive\n",
            "/usr/local/lib/python3.7/dist-packages/sklearn/linear_model/_coordinate_descent.py:648: ConvergenceWarning: Objective did not converge. You might want to increase the number of iterations, check the scale of the features or consider increasing regularisation. Duality gap: 2.984e+14, tolerance: 1.936e+11\n",
            "  coef_, l1_reg, l2_reg, X, y, max_iter, tol, rng, random, positive\n",
            "/usr/local/lib/python3.7/dist-packages/sklearn/linear_model/_coordinate_descent.py:648: ConvergenceWarning: Objective did not converge. You might want to increase the number of iterations, check the scale of the features or consider increasing regularisation. Duality gap: 2.982e+14, tolerance: 1.884e+11\n",
            "  coef_, l1_reg, l2_reg, X, y, max_iter, tol, rng, random, positive\n",
            "/usr/local/lib/python3.7/dist-packages/sklearn/linear_model/_coordinate_descent.py:648: ConvergenceWarning: Objective did not converge. You might want to increase the number of iterations, check the scale of the features or consider increasing regularisation. Duality gap: 3.118e+14, tolerance: 1.955e+11\n",
            "  coef_, l1_reg, l2_reg, X, y, max_iter, tol, rng, random, positive\n",
            "/usr/local/lib/python3.7/dist-packages/sklearn/linear_model/_coordinate_descent.py:648: ConvergenceWarning: Objective did not converge. You might want to increase the number of iterations, check the scale of the features or consider increasing regularisation. Duality gap: 3.110e+14, tolerance: 1.941e+11\n",
            "  coef_, l1_reg, l2_reg, X, y, max_iter, tol, rng, random, positive\n",
            "/usr/local/lib/python3.7/dist-packages/sklearn/linear_model/_coordinate_descent.py:648: ConvergenceWarning: Objective did not converge. You might want to increase the number of iterations, check the scale of the features or consider increasing regularisation. Duality gap: 2.985e+14, tolerance: 1.936e+11\n",
            "  coef_, l1_reg, l2_reg, X, y, max_iter, tol, rng, random, positive\n",
            "/usr/local/lib/python3.7/dist-packages/sklearn/linear_model/_coordinate_descent.py:648: ConvergenceWarning: Objective did not converge. You might want to increase the number of iterations, check the scale of the features or consider increasing regularisation. Duality gap: 2.983e+14, tolerance: 1.884e+11\n",
            "  coef_, l1_reg, l2_reg, X, y, max_iter, tol, rng, random, positive\n",
            "/usr/local/lib/python3.7/dist-packages/sklearn/linear_model/_coordinate_descent.py:648: ConvergenceWarning: Objective did not converge. You might want to increase the number of iterations, check the scale of the features or consider increasing regularisation. Duality gap: 3.119e+14, tolerance: 1.955e+11\n",
            "  coef_, l1_reg, l2_reg, X, y, max_iter, tol, rng, random, positive\n",
            "/usr/local/lib/python3.7/dist-packages/sklearn/linear_model/_coordinate_descent.py:648: ConvergenceWarning: Objective did not converge. You might want to increase the number of iterations, check the scale of the features or consider increasing regularisation. Duality gap: 3.121e+14, tolerance: 1.941e+11\n",
            "  coef_, l1_reg, l2_reg, X, y, max_iter, tol, rng, random, positive\n",
            "/usr/local/lib/python3.7/dist-packages/sklearn/linear_model/_coordinate_descent.py:648: ConvergenceWarning: Objective did not converge. You might want to increase the number of iterations, check the scale of the features or consider increasing regularisation. Duality gap: 2.995e+14, tolerance: 1.936e+11\n",
            "  coef_, l1_reg, l2_reg, X, y, max_iter, tol, rng, random, positive\n",
            "/usr/local/lib/python3.7/dist-packages/sklearn/linear_model/_coordinate_descent.py:648: ConvergenceWarning: Objective did not converge. You might want to increase the number of iterations, check the scale of the features or consider increasing regularisation. Duality gap: 2.994e+14, tolerance: 1.884e+11\n",
            "  coef_, l1_reg, l2_reg, X, y, max_iter, tol, rng, random, positive\n",
            "/usr/local/lib/python3.7/dist-packages/sklearn/linear_model/_coordinate_descent.py:648: ConvergenceWarning: Objective did not converge. You might want to increase the number of iterations, check the scale of the features or consider increasing regularisation. Duality gap: 3.130e+14, tolerance: 1.955e+11\n",
            "  coef_, l1_reg, l2_reg, X, y, max_iter, tol, rng, random, positive\n",
            "/usr/local/lib/python3.7/dist-packages/sklearn/linear_model/_coordinate_descent.py:648: ConvergenceWarning: Objective did not converge. You might want to increase the number of iterations, check the scale of the features or consider increasing regularisation. Duality gap: 3.218e+14, tolerance: 1.941e+11\n",
            "  coef_, l1_reg, l2_reg, X, y, max_iter, tol, rng, random, positive\n",
            "/usr/local/lib/python3.7/dist-packages/sklearn/linear_model/_coordinate_descent.py:648: ConvergenceWarning: Objective did not converge. You might want to increase the number of iterations, check the scale of the features or consider increasing regularisation. Duality gap: 3.091e+14, tolerance: 1.936e+11\n",
            "  coef_, l1_reg, l2_reg, X, y, max_iter, tol, rng, random, positive\n",
            "/usr/local/lib/python3.7/dist-packages/sklearn/linear_model/_coordinate_descent.py:648: ConvergenceWarning: Objective did not converge. You might want to increase the number of iterations, check the scale of the features or consider increasing regularisation. Duality gap: 3.088e+14, tolerance: 1.884e+11\n",
            "  coef_, l1_reg, l2_reg, X, y, max_iter, tol, rng, random, positive\n",
            "/usr/local/lib/python3.7/dist-packages/sklearn/linear_model/_coordinate_descent.py:648: ConvergenceWarning: Objective did not converge. You might want to increase the number of iterations, check the scale of the features or consider increasing regularisation. Duality gap: 3.223e+14, tolerance: 1.955e+11\n",
            "  coef_, l1_reg, l2_reg, X, y, max_iter, tol, rng, random, positive\n",
            "/usr/local/lib/python3.7/dist-packages/sklearn/linear_model/_coordinate_descent.py:648: ConvergenceWarning: Objective did not converge. You might want to increase the number of iterations, check the scale of the features or consider increasing regularisation. Duality gap: 3.590e+14, tolerance: 1.941e+11\n",
            "  coef_, l1_reg, l2_reg, X, y, max_iter, tol, rng, random, positive\n",
            "/usr/local/lib/python3.7/dist-packages/sklearn/linear_model/_coordinate_descent.py:648: ConvergenceWarning: Objective did not converge. You might want to increase the number of iterations, check the scale of the features or consider increasing regularisation. Duality gap: 3.447e+14, tolerance: 1.936e+11\n",
            "  coef_, l1_reg, l2_reg, X, y, max_iter, tol, rng, random, positive\n",
            "/usr/local/lib/python3.7/dist-packages/sklearn/linear_model/_coordinate_descent.py:648: ConvergenceWarning: Objective did not converge. You might want to increase the number of iterations, check the scale of the features or consider increasing regularisation. Duality gap: 3.451e+14, tolerance: 1.884e+11\n",
            "  coef_, l1_reg, l2_reg, X, y, max_iter, tol, rng, random, positive\n",
            "/usr/local/lib/python3.7/dist-packages/sklearn/linear_model/_coordinate_descent.py:648: ConvergenceWarning: Objective did not converge. You might want to increase the number of iterations, check the scale of the features or consider increasing regularisation. Duality gap: 3.579e+14, tolerance: 1.955e+11\n",
            "  coef_, l1_reg, l2_reg, X, y, max_iter, tol, rng, random, positive\n",
            "/usr/local/lib/python3.7/dist-packages/sklearn/linear_model/_coordinate_descent.py:648: ConvergenceWarning: Objective did not converge. You might want to increase the number of iterations, check the scale of the features or consider increasing regularisation. Duality gap: 4.053e+14, tolerance: 2.572e+11\n",
            "  coef_, l1_reg, l2_reg, X, y, max_iter, tol, rng, random, positive\n"
          ]
        },
        {
          "output_type": "execute_result",
          "data": {
            "text/plain": [
              "GridSearchCV(cv=4, estimator=Lasso(),\n",
              "             param_grid=[{'alpha': [0.001, 0.01, 0.1, 1, 10, 100, 1000, 10000,\n",
              "                                    100000]}])"
            ]
          },
          "metadata": {},
          "execution_count": 197
        }
      ]
    },
    {
      "cell_type": "code",
      "source": [
        "BestLLm=Grid2m.best_estimator_\n",
        "BestLLm"
      ],
      "metadata": {
        "colab": {
          "base_uri": "https://localhost:8080/"
        },
        "id": "B_gQAqCrjzn5",
        "outputId": "96ad1517-ad58-4dc8-97e9-61c0854d1238"
      },
      "execution_count": null,
      "outputs": [
        {
          "output_type": "execute_result",
          "data": {
            "text/plain": [
              "Lasso(alpha=1)"
            ]
          },
          "metadata": {},
          "execution_count": 198
        }
      ]
    },
    {
      "cell_type": "code",
      "source": [
        "#El mejor modelo Lasso tiene alpha=1\n",
        "LassoModelm=Lasso(alpha=1)\n",
        "LassoModelm.fit(X_train,y_train)"
      ],
      "metadata": {
        "colab": {
          "base_uri": "https://localhost:8080/"
        },
        "id": "sB6cL9GJj9zY",
        "outputId": "472403d2-361b-4a8b-9d70-f6b4706a3f2a"
      },
      "execution_count": null,
      "outputs": [
        {
          "output_type": "stream",
          "name": "stderr",
          "text": [
            "/usr/local/lib/python3.7/dist-packages/sklearn/linear_model/_coordinate_descent.py:648: ConvergenceWarning: Objective did not converge. You might want to increase the number of iterations, check the scale of the features or consider increasing regularisation. Duality gap: 4.053e+14, tolerance: 2.572e+11\n",
            "  coef_, l1_reg, l2_reg, X, y, max_iter, tol, rng, random, positive\n"
          ]
        },
        {
          "output_type": "execute_result",
          "data": {
            "text/plain": [
              "Lasso(alpha=1)"
            ]
          },
          "metadata": {},
          "execution_count": 199
        }
      ]
    },
    {
      "cell_type": "code",
      "source": [
        "# Información de la regresión lineal múltiple con regularización Lasso y alpha=1\n",
        "# ==============================================================================\n",
        "print(\"Intercept:\", BestLLm.intercept_)\n",
        "print(\"Coeficiente:\", list(zip(X.columns, BestLLm.coef_.flatten(), )))\n",
        "print(\"Coeficiente de determinación R^2:\", BestLLm.score(X, y))\n",
        "print(\"Error Absoluto Medio:\", mean_absolute_error(y, BestLLm.predict(X)))"
      ],
      "metadata": {
        "colab": {
          "base_uri": "https://localhost:8080/"
        },
        "id": "laajf8wbkJnw",
        "outputId": "f1a3b8e8-53e9-4e1c-bcbc-1dc564326c7a"
      },
      "execution_count": null,
      "outputs": [
        {
          "output_type": "stream",
          "name": "stdout",
          "text": [
            "Intercept: [6151280.11390041]\n",
            "Coeficiente: [('bedrooms', -38199.53451424516), ('bathrooms', 41461.85678094857), ('sqft_living', 293.4804819511947), ('sqft_lot', 0.017128182190217413), ('floors', 31687.141114431288), ('waterfront', 552541.1077939414), ('view', 41254.96540382799), ('condition', 21219.39019678531), ('grade', 119491.83728774815), ('sqft_above', -137.70820000812037), ('sqft_basement', -125.26844920374003), ('yr_built', -3550.85005106388), ('yr_renovated', 13.262845971808112), ('sqft_living15', 29.005329784755936), ('sqft_lot15', -0.5481360746255574)]\n",
            "Coeficiente de determinación R^2: 0.6535304517619404\n",
            "Error Absoluto Medio: 139090.4100648079\n"
          ]
        }
      ]
    },
    {
      "cell_type": "code",
      "source": [
        "#MAE de los 4 modelos de la regresión lineal múltiple\n",
        "from sklearn.metrics import mean_absolute_error\n",
        "print(\"Regresion Lineal múltiple, Error Absoluto Medio:\", mean_absolute_error(y, lrm.predict(X)))\n",
        "print(\"Regresion Polynomial grado=2, Error Absoluto Medio:\", mean_absolute_error(y, polym.predict(X_pr)))\n",
        "print(\"Regularización Ridge (alpha=0.1), Error Absoluto Medio:\", mean_absolute_error(y, BestRRm.predict(X)))\n",
        "print(\"Regularización Lasso (alpha=1), Error Absoluto Medio:\", mean_absolute_error(y, BestLLm.predict(X)))"
      ],
      "metadata": {
        "colab": {
          "base_uri": "https://localhost:8080/"
        },
        "id": "h9vZUqx-l7xL",
        "outputId": "03beeea5-118a-47d9-a379-8ac547534255"
      },
      "execution_count": null,
      "outputs": [
        {
          "output_type": "stream",
          "name": "stdout",
          "text": [
            "Regresion Lineal múltiple, Error Absoluto Medio: 139090.35238662068\n",
            "Regresion Polynomial grado=2, Error Absoluto Medio: 123003.22040645295\n",
            "Regularización Ridge (alpha=0.1), Error Absoluto Medio: 139090.45357511536\n",
            "Regularización Lasso (alpha=1), Error Absoluto Medio: 139090.4100648079\n"
          ]
        }
      ]
    },
    {
      "cell_type": "code",
      "source": [
        "#R^2 de los 4 modelos\n",
        "print(\"R^2 regresión lineal múltiple:\", lrm.score(X,y))\n",
        "print(\"R^2 Regresion Polynomial grado=2:\", polym.score(X_pr,y))\n",
        "print(\"R^2 Regularización Ridge (alpha=0.1)\", BestRRm.score(X,y))\n",
        "print(\"R^2 Regularización Lasso (alpha=1)\", BestLLm.score(X, y))"
      ],
      "metadata": {
        "colab": {
          "base_uri": "https://localhost:8080/"
        },
        "id": "foCZBAlrmVr1",
        "outputId": "b5650b29-f7fa-4443-d73c-41d797bbebd0"
      },
      "execution_count": null,
      "outputs": [
        {
          "output_type": "stream",
          "name": "stdout",
          "text": [
            "R^2 regresión lineal múltiple: 0.6535308525095571\n",
            "R^2 Regresion Polynomial grado=2: 0.7508065249978767\n",
            "R^2 Regularización Ridge (alpha=0.1) 0.6535297445798194\n",
            "R^2 Regularización Lasso (alpha=1) 0.6535304517619404\n"
          ]
        }
      ]
    },
    {
      "cell_type": "markdown",
      "source": [
        "EL 90% de la base de datos se utilizó para entrenamiento y el 10% restante para validación.\n",
        "\n",
        "La regresión polinomial múltple con grado=2, explica el 75% del fenómeno\n",
        "\n",
        "Para este ejercicio el **mejor modelo resultó ser la regresión polinomial múltiple con grado=2**.\n",
        "\n",
        "Presenta el menor nivel de error medio absoluto además de la mayor R^2.\n",
        "\n"
      ],
      "metadata": {
        "id": "sC0cb9yYmwKU"
      }
    }
  ]
}