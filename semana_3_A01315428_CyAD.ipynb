{
  "nbformat": 4,
  "nbformat_minor": 0,
  "metadata": {
    "colab": {
      "provenance": [],
      "collapsed_sections": []
    },
    "kernelspec": {
      "name": "python3",
      "display_name": "Python 3"
    },
    "language_info": {
      "name": "python"
    }
  },
  "cells": [
    {
      "cell_type": "markdown",
      "source": [
        "Entrega tarea semana 3 - Actividad 1.\n",
        "\n",
        "**Nombre:** Enrique Ricardo García Hernández\n",
        "\n",
        "**Matrícula:** A01315428\n",
        "\n",
        "**Materia:** Ciencia y Analítica de datos\n",
        "\n",
        "**Profesor:** Jobish Vallikavungal Devassia\n",
        "\n",
        "**Fecha:** 04 de octubre 2020"
      ],
      "metadata": {
        "id": "jB3FJv7GVUyF"
      }
    },
    {
      "cell_type": "markdown",
      "source": [
        "**1.- Fundamentos de bases de datos para la ciencia de datos.**\n",
        "\n",
        "La mayoria de la información está almacenada en bases de datos, ya sea del tipo estructurada, no estructurada o semi-estructurada. El conocer dónde está almacenada, como los datos stán vinculados entre las diversas plataformas de las compañías que conforman en ecosistema tecnológico, permite al analista de datos, el ingeniero y científico de datos, así como al tomador de decisiones hacer que la compañía sea *data driven organization*\n",
        "\n",
        "El equipo de Analítica y Ciencia de datos deberá:\n",
        "- Poder darle trazabilidad punta a punta a la historia basada en datos (data story telling);\n",
        "- Comunicar en forma eficiente concepto / hallazgos complejos en foros de profesionales de diferentes tipos de formación y/o rol dentro de la compañía.\n",
        "\n",
        "Las bases de datos deberan de tener:\n",
        "- Tablas y regitros;\n",
        "- Información estructurada y relacionada en forma lógica para su trazabilidad;\n",
        "- Diccionario o catálogo con la descripción y naturaleza de los campos;\n",
        "- Redundancia, integridad y calidad; y\n",
        "- Gobierno y definición roles y responsabilidades del dueño de los datos.\n",
        "\n",
        "**2.- Fundamentos de almacenes de datos (Data Warehouse) para ciencia de datos.**\n",
        "El data warehouse como receptáculo de la información de las diferents fuentes del ecosistema tecnológico de la compañía, mediante el uso de herramientas y softwares de extracción, transformación y carga de información entre los sistemas operativos y las bases de datos institucionales y explotables de la compañía por los diferentes equipos analíticos de datos.\n",
        "\n",
        "Dentro del gran compendio o almacen de datos de la compañía, se pueden generar *data marts* especializados para cada una de las unidades de negocios, en el caso de la financiera donde actualmene trabajo, contamos con un lago de datos en donde vive la información cruda de la compañía (información sin ningún proceso de validación y/o estructuración), además mediante ETLs tenemos el data mart de Riesgos con información a T-1, contamos con toda la transaccionalidad, seguimientos e interacciones de queries del CRM, proceso de originación, administración, gestión y cobranza, siendo el data mart el receptáculo que usamos para la generación de análisis recurrentes o ad-hoc de la compañía mediante el usos de softwares como SAS, Tableau (para reportear), Python y R"
      ],
      "metadata": {
        "id": "I_suDJPp4zoz"
      }
    },
    {
      "cell_type": "code",
      "execution_count": 70,
      "metadata": {
        "id": "Nypr-SZH1D6s"
      },
      "outputs": [],
      "source": [
        "#Mandar llamar las librerías que vamos a utilizar en este ejercicio\n",
        "import pandas as pd\n",
        "import numpy as np"
      ]
    },
    {
      "cell_type": "code",
      "source": [
        "url = \"https://raw.githubusercontent.com/PosgradoMNA/Actividades_Aprendizaje-/main/default%20of%20credit%20card%20clients.csv\"\n",
        "datos = pd.read_csv(url,index_col=0,sep=\",\") #El código identificador está en la primera columna, la variable a predecir es \"Y\" (paga o no paga el crédito)"
      ],
      "metadata": {
        "id": "ovsdAlQfYQZi"
      },
      "execution_count": 134,
      "outputs": []
    },
    {
      "cell_type": "code",
      "source": [
        "#Renombrando las variables\n",
        "datos.rename(columns = {'X1':'Monto_prestamo', 'X2': 'Género', 'X3':'Educacion', 'X4':'Edo_Civil','X5':'Edad','X6':'Status_pago_sep05','X7':'Status_pago_ago05','X8':'Status_pago_jul05','X9':'Status_pago_jun05',\n",
        "'X10':'Status_pago_may05','X11':'Status_pago_abr05','X12':'Monto_exig_sep05','X13':'Monto_exig_ago5','X14':'Monto_exig_jul05','X15':'Monto_exig_jun05','X16':'Monto_exig_may05','X17':'Monto_exig_abr05',\n",
        "'X18':'Monto_pagado_sep05','X19':'Monto_exig_ago05','X20':'Monto_exig_jul05','X21':'Monto_exig_jun05','X22':'Monto_exig_may05','X23':'Monto_exig_abr05'}, inplace = True)\n",
        "datos.head()"
      ],
      "metadata": {
        "colab": {
          "base_uri": "https://localhost:8080/",
          "height": 331
        },
        "id": "cvScCMTong_c",
        "outputId": "a08a4e7a-f6f6-4d95-e435-4fda192688ab"
      },
      "execution_count": 135,
      "outputs": [
        {
          "output_type": "execute_result",
          "data": {
            "text/plain": [
              "    Monto_prestamo  Género  Educacion  Edo_Civil  Edad  Status_pago_sep05  \\\n",
              "ID                                                                          \n",
              "1            20000     2.0        2.0        1.0  24.0                2.0   \n",
              "2           120000     2.0        2.0        2.0  26.0               -1.0   \n",
              "3            90000     2.0        2.0        2.0  34.0                0.0   \n",
              "4            50000     2.0        2.0        1.0  37.0                0.0   \n",
              "5            50000     1.0        2.0        1.0  57.0               -1.0   \n",
              "\n",
              "    Status_pago_ago05  Status_pago_jul05  Status_pago_jun05  \\\n",
              "ID                                                            \n",
              "1                 2.0               -1.0               -1.0   \n",
              "2                 2.0                0.0                0.0   \n",
              "3                 0.0                0.0                0.0   \n",
              "4                 0.0                0.0                0.0   \n",
              "5                 0.0               -1.0                0.0   \n",
              "\n",
              "    Status_pago_may05  ...  Monto_exig_jun05  Monto_exig_may05  \\\n",
              "ID                     ...                                       \n",
              "1                -2.0  ...               0.0               0.0   \n",
              "2                 0.0  ...            3272.0            3455.0   \n",
              "3                 0.0  ...           14331.0           14948.0   \n",
              "4                 0.0  ...           28314.0           28959.0   \n",
              "5                 0.0  ...           20940.0           19146.0   \n",
              "\n",
              "    Monto_exig_abr05  Monto_pagado_sep05  Monto_exig_ago05  Monto_exig_jul05  \\\n",
              "ID                                                                             \n",
              "1                0.0                 0.0             689.0               0.0   \n",
              "2             3261.0                 0.0            1000.0            1000.0   \n",
              "3            15549.0              1518.0            1500.0            1000.0   \n",
              "4            29547.0              2000.0            2019.0            1200.0   \n",
              "5            19131.0              2000.0           36681.0           10000.0   \n",
              "\n",
              "    Monto_exig_jun05  Monto_exig_may05  Monto_exig_abr05    Y  \n",
              "ID                                                             \n",
              "1                0.0               0.0               0.0  1.0  \n",
              "2             1000.0               0.0            2000.0  1.0  \n",
              "3             1000.0            1000.0            5000.0  0.0  \n",
              "4             1100.0            1069.0            1000.0  0.0  \n",
              "5             9000.0             689.0             679.0  0.0  \n",
              "\n",
              "[5 rows x 24 columns]"
            ],
            "text/html": [
              "\n",
              "  <div id=\"df-2cd20d98-9776-45a9-83af-f4b16806ecb1\">\n",
              "    <div class=\"colab-df-container\">\n",
              "      <div>\n",
              "<style scoped>\n",
              "    .dataframe tbody tr th:only-of-type {\n",
              "        vertical-align: middle;\n",
              "    }\n",
              "\n",
              "    .dataframe tbody tr th {\n",
              "        vertical-align: top;\n",
              "    }\n",
              "\n",
              "    .dataframe thead th {\n",
              "        text-align: right;\n",
              "    }\n",
              "</style>\n",
              "<table border=\"1\" class=\"dataframe\">\n",
              "  <thead>\n",
              "    <tr style=\"text-align: right;\">\n",
              "      <th></th>\n",
              "      <th>Monto_prestamo</th>\n",
              "      <th>Género</th>\n",
              "      <th>Educacion</th>\n",
              "      <th>Edo_Civil</th>\n",
              "      <th>Edad</th>\n",
              "      <th>Status_pago_sep05</th>\n",
              "      <th>Status_pago_ago05</th>\n",
              "      <th>Status_pago_jul05</th>\n",
              "      <th>Status_pago_jun05</th>\n",
              "      <th>Status_pago_may05</th>\n",
              "      <th>...</th>\n",
              "      <th>Monto_exig_jun05</th>\n",
              "      <th>Monto_exig_may05</th>\n",
              "      <th>Monto_exig_abr05</th>\n",
              "      <th>Monto_pagado_sep05</th>\n",
              "      <th>Monto_exig_ago05</th>\n",
              "      <th>Monto_exig_jul05</th>\n",
              "      <th>Monto_exig_jun05</th>\n",
              "      <th>Monto_exig_may05</th>\n",
              "      <th>Monto_exig_abr05</th>\n",
              "      <th>Y</th>\n",
              "    </tr>\n",
              "    <tr>\n",
              "      <th>ID</th>\n",
              "      <th></th>\n",
              "      <th></th>\n",
              "      <th></th>\n",
              "      <th></th>\n",
              "      <th></th>\n",
              "      <th></th>\n",
              "      <th></th>\n",
              "      <th></th>\n",
              "      <th></th>\n",
              "      <th></th>\n",
              "      <th></th>\n",
              "      <th></th>\n",
              "      <th></th>\n",
              "      <th></th>\n",
              "      <th></th>\n",
              "      <th></th>\n",
              "      <th></th>\n",
              "      <th></th>\n",
              "      <th></th>\n",
              "      <th></th>\n",
              "      <th></th>\n",
              "    </tr>\n",
              "  </thead>\n",
              "  <tbody>\n",
              "    <tr>\n",
              "      <th>1</th>\n",
              "      <td>20000</td>\n",
              "      <td>2.0</td>\n",
              "      <td>2.0</td>\n",
              "      <td>1.0</td>\n",
              "      <td>24.0</td>\n",
              "      <td>2.0</td>\n",
              "      <td>2.0</td>\n",
              "      <td>-1.0</td>\n",
              "      <td>-1.0</td>\n",
              "      <td>-2.0</td>\n",
              "      <td>...</td>\n",
              "      <td>0.0</td>\n",
              "      <td>0.0</td>\n",
              "      <td>0.0</td>\n",
              "      <td>0.0</td>\n",
              "      <td>689.0</td>\n",
              "      <td>0.0</td>\n",
              "      <td>0.0</td>\n",
              "      <td>0.0</td>\n",
              "      <td>0.0</td>\n",
              "      <td>1.0</td>\n",
              "    </tr>\n",
              "    <tr>\n",
              "      <th>2</th>\n",
              "      <td>120000</td>\n",
              "      <td>2.0</td>\n",
              "      <td>2.0</td>\n",
              "      <td>2.0</td>\n",
              "      <td>26.0</td>\n",
              "      <td>-1.0</td>\n",
              "      <td>2.0</td>\n",
              "      <td>0.0</td>\n",
              "      <td>0.0</td>\n",
              "      <td>0.0</td>\n",
              "      <td>...</td>\n",
              "      <td>3272.0</td>\n",
              "      <td>3455.0</td>\n",
              "      <td>3261.0</td>\n",
              "      <td>0.0</td>\n",
              "      <td>1000.0</td>\n",
              "      <td>1000.0</td>\n",
              "      <td>1000.0</td>\n",
              "      <td>0.0</td>\n",
              "      <td>2000.0</td>\n",
              "      <td>1.0</td>\n",
              "    </tr>\n",
              "    <tr>\n",
              "      <th>3</th>\n",
              "      <td>90000</td>\n",
              "      <td>2.0</td>\n",
              "      <td>2.0</td>\n",
              "      <td>2.0</td>\n",
              "      <td>34.0</td>\n",
              "      <td>0.0</td>\n",
              "      <td>0.0</td>\n",
              "      <td>0.0</td>\n",
              "      <td>0.0</td>\n",
              "      <td>0.0</td>\n",
              "      <td>...</td>\n",
              "      <td>14331.0</td>\n",
              "      <td>14948.0</td>\n",
              "      <td>15549.0</td>\n",
              "      <td>1518.0</td>\n",
              "      <td>1500.0</td>\n",
              "      <td>1000.0</td>\n",
              "      <td>1000.0</td>\n",
              "      <td>1000.0</td>\n",
              "      <td>5000.0</td>\n",
              "      <td>0.0</td>\n",
              "    </tr>\n",
              "    <tr>\n",
              "      <th>4</th>\n",
              "      <td>50000</td>\n",
              "      <td>2.0</td>\n",
              "      <td>2.0</td>\n",
              "      <td>1.0</td>\n",
              "      <td>37.0</td>\n",
              "      <td>0.0</td>\n",
              "      <td>0.0</td>\n",
              "      <td>0.0</td>\n",
              "      <td>0.0</td>\n",
              "      <td>0.0</td>\n",
              "      <td>...</td>\n",
              "      <td>28314.0</td>\n",
              "      <td>28959.0</td>\n",
              "      <td>29547.0</td>\n",
              "      <td>2000.0</td>\n",
              "      <td>2019.0</td>\n",
              "      <td>1200.0</td>\n",
              "      <td>1100.0</td>\n",
              "      <td>1069.0</td>\n",
              "      <td>1000.0</td>\n",
              "      <td>0.0</td>\n",
              "    </tr>\n",
              "    <tr>\n",
              "      <th>5</th>\n",
              "      <td>50000</td>\n",
              "      <td>1.0</td>\n",
              "      <td>2.0</td>\n",
              "      <td>1.0</td>\n",
              "      <td>57.0</td>\n",
              "      <td>-1.0</td>\n",
              "      <td>0.0</td>\n",
              "      <td>-1.0</td>\n",
              "      <td>0.0</td>\n",
              "      <td>0.0</td>\n",
              "      <td>...</td>\n",
              "      <td>20940.0</td>\n",
              "      <td>19146.0</td>\n",
              "      <td>19131.0</td>\n",
              "      <td>2000.0</td>\n",
              "      <td>36681.0</td>\n",
              "      <td>10000.0</td>\n",
              "      <td>9000.0</td>\n",
              "      <td>689.0</td>\n",
              "      <td>679.0</td>\n",
              "      <td>0.0</td>\n",
              "    </tr>\n",
              "  </tbody>\n",
              "</table>\n",
              "<p>5 rows × 24 columns</p>\n",
              "</div>\n",
              "      <button class=\"colab-df-convert\" onclick=\"convertToInteractive('df-2cd20d98-9776-45a9-83af-f4b16806ecb1')\"\n",
              "              title=\"Convert this dataframe to an interactive table.\"\n",
              "              style=\"display:none;\">\n",
              "        \n",
              "  <svg xmlns=\"http://www.w3.org/2000/svg\" height=\"24px\"viewBox=\"0 0 24 24\"\n",
              "       width=\"24px\">\n",
              "    <path d=\"M0 0h24v24H0V0z\" fill=\"none\"/>\n",
              "    <path d=\"M18.56 5.44l.94 2.06.94-2.06 2.06-.94-2.06-.94-.94-2.06-.94 2.06-2.06.94zm-11 1L8.5 8.5l.94-2.06 2.06-.94-2.06-.94L8.5 2.5l-.94 2.06-2.06.94zm10 10l.94 2.06.94-2.06 2.06-.94-2.06-.94-.94-2.06-.94 2.06-2.06.94z\"/><path d=\"M17.41 7.96l-1.37-1.37c-.4-.4-.92-.59-1.43-.59-.52 0-1.04.2-1.43.59L10.3 9.45l-7.72 7.72c-.78.78-.78 2.05 0 2.83L4 21.41c.39.39.9.59 1.41.59.51 0 1.02-.2 1.41-.59l7.78-7.78 2.81-2.81c.8-.78.8-2.07 0-2.86zM5.41 20L4 18.59l7.72-7.72 1.47 1.35L5.41 20z\"/>\n",
              "  </svg>\n",
              "      </button>\n",
              "      \n",
              "  <style>\n",
              "    .colab-df-container {\n",
              "      display:flex;\n",
              "      flex-wrap:wrap;\n",
              "      gap: 12px;\n",
              "    }\n",
              "\n",
              "    .colab-df-convert {\n",
              "      background-color: #E8F0FE;\n",
              "      border: none;\n",
              "      border-radius: 50%;\n",
              "      cursor: pointer;\n",
              "      display: none;\n",
              "      fill: #1967D2;\n",
              "      height: 32px;\n",
              "      padding: 0 0 0 0;\n",
              "      width: 32px;\n",
              "    }\n",
              "\n",
              "    .colab-df-convert:hover {\n",
              "      background-color: #E2EBFA;\n",
              "      box-shadow: 0px 1px 2px rgba(60, 64, 67, 0.3), 0px 1px 3px 1px rgba(60, 64, 67, 0.15);\n",
              "      fill: #174EA6;\n",
              "    }\n",
              "\n",
              "    [theme=dark] .colab-df-convert {\n",
              "      background-color: #3B4455;\n",
              "      fill: #D2E3FC;\n",
              "    }\n",
              "\n",
              "    [theme=dark] .colab-df-convert:hover {\n",
              "      background-color: #434B5C;\n",
              "      box-shadow: 0px 1px 3px 1px rgba(0, 0, 0, 0.15);\n",
              "      filter: drop-shadow(0px 1px 2px rgba(0, 0, 0, 0.3));\n",
              "      fill: #FFFFFF;\n",
              "    }\n",
              "  </style>\n",
              "\n",
              "      <script>\n",
              "        const buttonEl =\n",
              "          document.querySelector('#df-2cd20d98-9776-45a9-83af-f4b16806ecb1 button.colab-df-convert');\n",
              "        buttonEl.style.display =\n",
              "          google.colab.kernel.accessAllowed ? 'block' : 'none';\n",
              "\n",
              "        async function convertToInteractive(key) {\n",
              "          const element = document.querySelector('#df-2cd20d98-9776-45a9-83af-f4b16806ecb1');\n",
              "          const dataTable =\n",
              "            await google.colab.kernel.invokeFunction('convertToInteractive',\n",
              "                                                     [key], {});\n",
              "          if (!dataTable) return;\n",
              "\n",
              "          const docLinkHtml = 'Like what you see? Visit the ' +\n",
              "            '<a target=\"_blank\" href=https://colab.research.google.com/notebooks/data_table.ipynb>data table notebook</a>'\n",
              "            + ' to learn more about interactive tables.';\n",
              "          element.innerHTML = '';\n",
              "          dataTable['output_type'] = 'display_data';\n",
              "          await google.colab.output.renderOutput(dataTable, element);\n",
              "          const docLink = document.createElement('div');\n",
              "          docLink.innerHTML = docLinkHtml;\n",
              "          element.appendChild(docLink);\n",
              "        }\n",
              "      </script>\n",
              "    </div>\n",
              "  </div>\n",
              "  "
            ]
          },
          "metadata": {},
          "execution_count": 135
        }
      ]
    },
    {
      "cell_type": "code",
      "source": [
        "#Validando la dimensión de la base de datos ==> 30 mil registros con 24 variables\n",
        "datos.shape"
      ],
      "metadata": {
        "colab": {
          "base_uri": "https://localhost:8080/"
        },
        "id": "Py8ew8VqdPSv",
        "outputId": "7f5bba1e-d16a-4366-b40f-03f994e38c28"
      },
      "execution_count": 136,
      "outputs": [
        {
          "output_type": "execute_result",
          "data": {
            "text/plain": [
              "(30000, 24)"
            ]
          },
          "metadata": {},
          "execution_count": 136
        }
      ]
    },
    {
      "cell_type": "code",
      "source": [
        "datos.describe()"
      ],
      "metadata": {
        "colab": {
          "base_uri": "https://localhost:8080/",
          "height": 393
        },
        "id": "ASNbBCBEw6MO",
        "outputId": "075bed83-59d3-4191-bc65-11cd697e8ed8"
      },
      "execution_count": 137,
      "outputs": [
        {
          "output_type": "execute_result",
          "data": {
            "text/plain": [
              "       Monto_prestamo        Género     Educacion     Edo_Civil          Edad  \\\n",
              "count    30000.000000  29999.000000  29998.000000  29998.000000  29995.000000   \n",
              "mean    167484.322667      1.603753      1.853057      1.551903     35.484214   \n",
              "std     129747.661567      0.489125      0.790320      0.521968      9.218024   \n",
              "min      10000.000000      1.000000      0.000000      0.000000     21.000000   \n",
              "25%      50000.000000      1.000000      1.000000      1.000000     28.000000   \n",
              "50%     140000.000000      2.000000      2.000000      2.000000     34.000000   \n",
              "75%     240000.000000      2.000000      2.000000      2.000000     41.000000   \n",
              "max    1000000.000000      2.000000      6.000000      3.000000     79.000000   \n",
              "\n",
              "       Status_pago_sep05  Status_pago_ago05  Status_pago_jul05  \\\n",
              "count       29997.000000       29995.000000       29993.000000   \n",
              "mean           -0.016635          -0.133689          -0.166405   \n",
              "std             1.123829           1.197254           1.196048   \n",
              "min            -2.000000          -2.000000          -2.000000   \n",
              "25%            -1.000000          -1.000000          -1.000000   \n",
              "50%             0.000000           0.000000           0.000000   \n",
              "75%             0.000000           0.000000           0.000000   \n",
              "max             8.000000           8.000000           8.000000   \n",
              "\n",
              "       Status_pago_jun05  Status_pago_may05  ...  Monto_exig_jun05  \\\n",
              "count       29991.000000       29984.000000  ...      29985.000000   \n",
              "mean           -0.220800          -0.266342  ...      43275.652326   \n",
              "std             1.169153           1.133296  ...      64345.500073   \n",
              "min            -2.000000          -2.000000  ...    -170000.000000   \n",
              "25%            -1.000000          -1.000000  ...       2329.000000   \n",
              "50%             0.000000           0.000000  ...      19052.000000   \n",
              "75%             0.000000           0.000000  ...      54560.000000   \n",
              "max             8.000000           8.000000  ...     891586.000000   \n",
              "\n",
              "       Monto_exig_may05  Monto_exig_abr05  Monto_pagado_sep05  \\\n",
              "count      29983.000000      29990.000000        29992.000000   \n",
              "mean       40324.493980      38881.135745         5662.945886   \n",
              "std        60809.984983      59561.312967        16564.165089   \n",
              "min       -81334.000000    -339603.000000            0.000000   \n",
              "25%         1763.500000       1256.250000         1000.000000   \n",
              "50%        18107.000000      17081.000000         2100.000000   \n",
              "75%        50213.000000      49208.250000         5006.000000   \n",
              "max       927171.000000     961664.000000       873552.000000   \n",
              "\n",
              "       Monto_exig_ago05  Monto_exig_jul05  Monto_exig_jun05  Monto_exig_may05  \\\n",
              "count      2.999100e+04      29992.000000      29989.000000      29989.000000   \n",
              "mean       5.922489e+03       5225.623400       4827.252526       4800.297209   \n",
              "std        2.304418e+04      17608.422625      15668.751975      15280.842069   \n",
              "min        0.000000e+00          0.000000          0.000000          0.000000   \n",
              "25%        8.355000e+02        390.000000        296.000000        251.000000   \n",
              "50%        2.009000e+03       1800.000000       1500.000000       1500.000000   \n",
              "75%        5.000000e+03       4505.500000       4014.000000       4033.000000   \n",
              "max        1.684259e+06     896040.000000     621000.000000     426529.000000   \n",
              "\n",
              "       Monto_exig_abr05             Y  \n",
              "count      29995.000000  29997.000000  \n",
              "mean        5216.259977      0.221189  \n",
              "std        17778.848359      0.415054  \n",
              "min            0.000000      0.000000  \n",
              "25%          118.000000      0.000000  \n",
              "50%         1500.000000      0.000000  \n",
              "75%         4000.000000      0.000000  \n",
              "max       528666.000000      1.000000  \n",
              "\n",
              "[8 rows x 24 columns]"
            ],
            "text/html": [
              "\n",
              "  <div id=\"df-33b8ad8f-7828-4ea6-a331-29beb1da8c6f\">\n",
              "    <div class=\"colab-df-container\">\n",
              "      <div>\n",
              "<style scoped>\n",
              "    .dataframe tbody tr th:only-of-type {\n",
              "        vertical-align: middle;\n",
              "    }\n",
              "\n",
              "    .dataframe tbody tr th {\n",
              "        vertical-align: top;\n",
              "    }\n",
              "\n",
              "    .dataframe thead th {\n",
              "        text-align: right;\n",
              "    }\n",
              "</style>\n",
              "<table border=\"1\" class=\"dataframe\">\n",
              "  <thead>\n",
              "    <tr style=\"text-align: right;\">\n",
              "      <th></th>\n",
              "      <th>Monto_prestamo</th>\n",
              "      <th>Género</th>\n",
              "      <th>Educacion</th>\n",
              "      <th>Edo_Civil</th>\n",
              "      <th>Edad</th>\n",
              "      <th>Status_pago_sep05</th>\n",
              "      <th>Status_pago_ago05</th>\n",
              "      <th>Status_pago_jul05</th>\n",
              "      <th>Status_pago_jun05</th>\n",
              "      <th>Status_pago_may05</th>\n",
              "      <th>...</th>\n",
              "      <th>Monto_exig_jun05</th>\n",
              "      <th>Monto_exig_may05</th>\n",
              "      <th>Monto_exig_abr05</th>\n",
              "      <th>Monto_pagado_sep05</th>\n",
              "      <th>Monto_exig_ago05</th>\n",
              "      <th>Monto_exig_jul05</th>\n",
              "      <th>Monto_exig_jun05</th>\n",
              "      <th>Monto_exig_may05</th>\n",
              "      <th>Monto_exig_abr05</th>\n",
              "      <th>Y</th>\n",
              "    </tr>\n",
              "  </thead>\n",
              "  <tbody>\n",
              "    <tr>\n",
              "      <th>count</th>\n",
              "      <td>30000.000000</td>\n",
              "      <td>29999.000000</td>\n",
              "      <td>29998.000000</td>\n",
              "      <td>29998.000000</td>\n",
              "      <td>29995.000000</td>\n",
              "      <td>29997.000000</td>\n",
              "      <td>29995.000000</td>\n",
              "      <td>29993.000000</td>\n",
              "      <td>29991.000000</td>\n",
              "      <td>29984.000000</td>\n",
              "      <td>...</td>\n",
              "      <td>29985.000000</td>\n",
              "      <td>29983.000000</td>\n",
              "      <td>29990.000000</td>\n",
              "      <td>29992.000000</td>\n",
              "      <td>2.999100e+04</td>\n",
              "      <td>29992.000000</td>\n",
              "      <td>29989.000000</td>\n",
              "      <td>29989.000000</td>\n",
              "      <td>29995.000000</td>\n",
              "      <td>29997.000000</td>\n",
              "    </tr>\n",
              "    <tr>\n",
              "      <th>mean</th>\n",
              "      <td>167484.322667</td>\n",
              "      <td>1.603753</td>\n",
              "      <td>1.853057</td>\n",
              "      <td>1.551903</td>\n",
              "      <td>35.484214</td>\n",
              "      <td>-0.016635</td>\n",
              "      <td>-0.133689</td>\n",
              "      <td>-0.166405</td>\n",
              "      <td>-0.220800</td>\n",
              "      <td>-0.266342</td>\n",
              "      <td>...</td>\n",
              "      <td>43275.652326</td>\n",
              "      <td>40324.493980</td>\n",
              "      <td>38881.135745</td>\n",
              "      <td>5662.945886</td>\n",
              "      <td>5.922489e+03</td>\n",
              "      <td>5225.623400</td>\n",
              "      <td>4827.252526</td>\n",
              "      <td>4800.297209</td>\n",
              "      <td>5216.259977</td>\n",
              "      <td>0.221189</td>\n",
              "    </tr>\n",
              "    <tr>\n",
              "      <th>std</th>\n",
              "      <td>129747.661567</td>\n",
              "      <td>0.489125</td>\n",
              "      <td>0.790320</td>\n",
              "      <td>0.521968</td>\n",
              "      <td>9.218024</td>\n",
              "      <td>1.123829</td>\n",
              "      <td>1.197254</td>\n",
              "      <td>1.196048</td>\n",
              "      <td>1.169153</td>\n",
              "      <td>1.133296</td>\n",
              "      <td>...</td>\n",
              "      <td>64345.500073</td>\n",
              "      <td>60809.984983</td>\n",
              "      <td>59561.312967</td>\n",
              "      <td>16564.165089</td>\n",
              "      <td>2.304418e+04</td>\n",
              "      <td>17608.422625</td>\n",
              "      <td>15668.751975</td>\n",
              "      <td>15280.842069</td>\n",
              "      <td>17778.848359</td>\n",
              "      <td>0.415054</td>\n",
              "    </tr>\n",
              "    <tr>\n",
              "      <th>min</th>\n",
              "      <td>10000.000000</td>\n",
              "      <td>1.000000</td>\n",
              "      <td>0.000000</td>\n",
              "      <td>0.000000</td>\n",
              "      <td>21.000000</td>\n",
              "      <td>-2.000000</td>\n",
              "      <td>-2.000000</td>\n",
              "      <td>-2.000000</td>\n",
              "      <td>-2.000000</td>\n",
              "      <td>-2.000000</td>\n",
              "      <td>...</td>\n",
              "      <td>-170000.000000</td>\n",
              "      <td>-81334.000000</td>\n",
              "      <td>-339603.000000</td>\n",
              "      <td>0.000000</td>\n",
              "      <td>0.000000e+00</td>\n",
              "      <td>0.000000</td>\n",
              "      <td>0.000000</td>\n",
              "      <td>0.000000</td>\n",
              "      <td>0.000000</td>\n",
              "      <td>0.000000</td>\n",
              "    </tr>\n",
              "    <tr>\n",
              "      <th>25%</th>\n",
              "      <td>50000.000000</td>\n",
              "      <td>1.000000</td>\n",
              "      <td>1.000000</td>\n",
              "      <td>1.000000</td>\n",
              "      <td>28.000000</td>\n",
              "      <td>-1.000000</td>\n",
              "      <td>-1.000000</td>\n",
              "      <td>-1.000000</td>\n",
              "      <td>-1.000000</td>\n",
              "      <td>-1.000000</td>\n",
              "      <td>...</td>\n",
              "      <td>2329.000000</td>\n",
              "      <td>1763.500000</td>\n",
              "      <td>1256.250000</td>\n",
              "      <td>1000.000000</td>\n",
              "      <td>8.355000e+02</td>\n",
              "      <td>390.000000</td>\n",
              "      <td>296.000000</td>\n",
              "      <td>251.000000</td>\n",
              "      <td>118.000000</td>\n",
              "      <td>0.000000</td>\n",
              "    </tr>\n",
              "    <tr>\n",
              "      <th>50%</th>\n",
              "      <td>140000.000000</td>\n",
              "      <td>2.000000</td>\n",
              "      <td>2.000000</td>\n",
              "      <td>2.000000</td>\n",
              "      <td>34.000000</td>\n",
              "      <td>0.000000</td>\n",
              "      <td>0.000000</td>\n",
              "      <td>0.000000</td>\n",
              "      <td>0.000000</td>\n",
              "      <td>0.000000</td>\n",
              "      <td>...</td>\n",
              "      <td>19052.000000</td>\n",
              "      <td>18107.000000</td>\n",
              "      <td>17081.000000</td>\n",
              "      <td>2100.000000</td>\n",
              "      <td>2.009000e+03</td>\n",
              "      <td>1800.000000</td>\n",
              "      <td>1500.000000</td>\n",
              "      <td>1500.000000</td>\n",
              "      <td>1500.000000</td>\n",
              "      <td>0.000000</td>\n",
              "    </tr>\n",
              "    <tr>\n",
              "      <th>75%</th>\n",
              "      <td>240000.000000</td>\n",
              "      <td>2.000000</td>\n",
              "      <td>2.000000</td>\n",
              "      <td>2.000000</td>\n",
              "      <td>41.000000</td>\n",
              "      <td>0.000000</td>\n",
              "      <td>0.000000</td>\n",
              "      <td>0.000000</td>\n",
              "      <td>0.000000</td>\n",
              "      <td>0.000000</td>\n",
              "      <td>...</td>\n",
              "      <td>54560.000000</td>\n",
              "      <td>50213.000000</td>\n",
              "      <td>49208.250000</td>\n",
              "      <td>5006.000000</td>\n",
              "      <td>5.000000e+03</td>\n",
              "      <td>4505.500000</td>\n",
              "      <td>4014.000000</td>\n",
              "      <td>4033.000000</td>\n",
              "      <td>4000.000000</td>\n",
              "      <td>0.000000</td>\n",
              "    </tr>\n",
              "    <tr>\n",
              "      <th>max</th>\n",
              "      <td>1000000.000000</td>\n",
              "      <td>2.000000</td>\n",
              "      <td>6.000000</td>\n",
              "      <td>3.000000</td>\n",
              "      <td>79.000000</td>\n",
              "      <td>8.000000</td>\n",
              "      <td>8.000000</td>\n",
              "      <td>8.000000</td>\n",
              "      <td>8.000000</td>\n",
              "      <td>8.000000</td>\n",
              "      <td>...</td>\n",
              "      <td>891586.000000</td>\n",
              "      <td>927171.000000</td>\n",
              "      <td>961664.000000</td>\n",
              "      <td>873552.000000</td>\n",
              "      <td>1.684259e+06</td>\n",
              "      <td>896040.000000</td>\n",
              "      <td>621000.000000</td>\n",
              "      <td>426529.000000</td>\n",
              "      <td>528666.000000</td>\n",
              "      <td>1.000000</td>\n",
              "    </tr>\n",
              "  </tbody>\n",
              "</table>\n",
              "<p>8 rows × 24 columns</p>\n",
              "</div>\n",
              "      <button class=\"colab-df-convert\" onclick=\"convertToInteractive('df-33b8ad8f-7828-4ea6-a331-29beb1da8c6f')\"\n",
              "              title=\"Convert this dataframe to an interactive table.\"\n",
              "              style=\"display:none;\">\n",
              "        \n",
              "  <svg xmlns=\"http://www.w3.org/2000/svg\" height=\"24px\"viewBox=\"0 0 24 24\"\n",
              "       width=\"24px\">\n",
              "    <path d=\"M0 0h24v24H0V0z\" fill=\"none\"/>\n",
              "    <path d=\"M18.56 5.44l.94 2.06.94-2.06 2.06-.94-2.06-.94-.94-2.06-.94 2.06-2.06.94zm-11 1L8.5 8.5l.94-2.06 2.06-.94-2.06-.94L8.5 2.5l-.94 2.06-2.06.94zm10 10l.94 2.06.94-2.06 2.06-.94-2.06-.94-.94-2.06-.94 2.06-2.06.94z\"/><path d=\"M17.41 7.96l-1.37-1.37c-.4-.4-.92-.59-1.43-.59-.52 0-1.04.2-1.43.59L10.3 9.45l-7.72 7.72c-.78.78-.78 2.05 0 2.83L4 21.41c.39.39.9.59 1.41.59.51 0 1.02-.2 1.41-.59l7.78-7.78 2.81-2.81c.8-.78.8-2.07 0-2.86zM5.41 20L4 18.59l7.72-7.72 1.47 1.35L5.41 20z\"/>\n",
              "  </svg>\n",
              "      </button>\n",
              "      \n",
              "  <style>\n",
              "    .colab-df-container {\n",
              "      display:flex;\n",
              "      flex-wrap:wrap;\n",
              "      gap: 12px;\n",
              "    }\n",
              "\n",
              "    .colab-df-convert {\n",
              "      background-color: #E8F0FE;\n",
              "      border: none;\n",
              "      border-radius: 50%;\n",
              "      cursor: pointer;\n",
              "      display: none;\n",
              "      fill: #1967D2;\n",
              "      height: 32px;\n",
              "      padding: 0 0 0 0;\n",
              "      width: 32px;\n",
              "    }\n",
              "\n",
              "    .colab-df-convert:hover {\n",
              "      background-color: #E2EBFA;\n",
              "      box-shadow: 0px 1px 2px rgba(60, 64, 67, 0.3), 0px 1px 3px 1px rgba(60, 64, 67, 0.15);\n",
              "      fill: #174EA6;\n",
              "    }\n",
              "\n",
              "    [theme=dark] .colab-df-convert {\n",
              "      background-color: #3B4455;\n",
              "      fill: #D2E3FC;\n",
              "    }\n",
              "\n",
              "    [theme=dark] .colab-df-convert:hover {\n",
              "      background-color: #434B5C;\n",
              "      box-shadow: 0px 1px 3px 1px rgba(0, 0, 0, 0.15);\n",
              "      filter: drop-shadow(0px 1px 2px rgba(0, 0, 0, 0.3));\n",
              "      fill: #FFFFFF;\n",
              "    }\n",
              "  </style>\n",
              "\n",
              "      <script>\n",
              "        const buttonEl =\n",
              "          document.querySelector('#df-33b8ad8f-7828-4ea6-a331-29beb1da8c6f button.colab-df-convert');\n",
              "        buttonEl.style.display =\n",
              "          google.colab.kernel.accessAllowed ? 'block' : 'none';\n",
              "\n",
              "        async function convertToInteractive(key) {\n",
              "          const element = document.querySelector('#df-33b8ad8f-7828-4ea6-a331-29beb1da8c6f');\n",
              "          const dataTable =\n",
              "            await google.colab.kernel.invokeFunction('convertToInteractive',\n",
              "                                                     [key], {});\n",
              "          if (!dataTable) return;\n",
              "\n",
              "          const docLinkHtml = 'Like what you see? Visit the ' +\n",
              "            '<a target=\"_blank\" href=https://colab.research.google.com/notebooks/data_table.ipynb>data table notebook</a>'\n",
              "            + ' to learn more about interactive tables.';\n",
              "          element.innerHTML = '';\n",
              "          dataTable['output_type'] = 'display_data';\n",
              "          await google.colab.output.renderOutput(dataTable, element);\n",
              "          const docLink = document.createElement('div');\n",
              "          docLink.innerHTML = docLinkHtml;\n",
              "          element.appendChild(docLink);\n",
              "        }\n",
              "      </script>\n",
              "    </div>\n",
              "  </div>\n",
              "  "
            ]
          },
          "metadata": {},
          "execution_count": 137
        }
      ]
    },
    {
      "cell_type": "code",
      "source": [
        "datos.isna().any()\n",
        "#Revisamos si alguna variable tiene valores Nulo / faltantes y todas excepto X1 tienen al menos 1 valor faltante, incluyendo la variable a predecir que es Y"
      ],
      "metadata": {
        "colab": {
          "base_uri": "https://localhost:8080/"
        },
        "id": "fwzGeLvtgrEd",
        "outputId": "8062a187-d53d-4d57-fa2e-39bb757c658a"
      },
      "execution_count": 138,
      "outputs": [
        {
          "output_type": "execute_result",
          "data": {
            "text/plain": [
              "Monto_prestamo        False\n",
              "Género                 True\n",
              "Educacion              True\n",
              "Edo_Civil              True\n",
              "Edad                   True\n",
              "Status_pago_sep05      True\n",
              "Status_pago_ago05      True\n",
              "Status_pago_jul05      True\n",
              "Status_pago_jun05      True\n",
              "Status_pago_may05      True\n",
              "Status_pago_abr05      True\n",
              "Monto_exig_sep05       True\n",
              "Monto_exig_ago5        True\n",
              "Monto_exig_jul05       True\n",
              "Monto_exig_jun05       True\n",
              "Monto_exig_may05       True\n",
              "Monto_exig_abr05       True\n",
              "Monto_pagado_sep05     True\n",
              "Monto_exig_ago05       True\n",
              "Monto_exig_jul05       True\n",
              "Monto_exig_jun05       True\n",
              "Monto_exig_may05       True\n",
              "Monto_exig_abr05       True\n",
              "Y                      True\n",
              "dtype: bool"
            ]
          },
          "metadata": {},
          "execution_count": 138
        }
      ]
    },
    {
      "cell_type": "code",
      "source": [
        "#Descartando las observaciones con al menos un valor faltante\n",
        "#Se eliminaron 42 observaciones que tenían al menos 1 datos faltante ==> se eliminó el 0.14% de la base de datos ==> Podemos vivir con eso\n",
        "datos.dropna(inplace = True)\n",
        "datos.shape"
      ],
      "metadata": {
        "colab": {
          "base_uri": "https://localhost:8080/"
        },
        "id": "gCIj8mIgi0ai",
        "outputId": "b0622ada-b547-4bee-d2f1-bfc369cf9254"
      },
      "execution_count": 139,
      "outputs": [
        {
          "output_type": "execute_result",
          "data": {
            "text/plain": [
              "(29958, 24)"
            ]
          },
          "metadata": {},
          "execution_count": 139
        }
      ]
    },
    {
      "cell_type": "code",
      "source": [
        "#Algunos estadísticos descriptivos para variables de naturaleza numérica, ejemplo: Monto del préstamo"
      ],
      "metadata": {
        "id": "BLQj4W3LnRI7"
      },
      "execution_count": 140,
      "outputs": []
    },
    {
      "cell_type": "code",
      "source": [
        "datos.Monto_prestamo.describe()"
      ],
      "metadata": {
        "colab": {
          "base_uri": "https://localhost:8080/"
        },
        "id": "w8RbwN5vnXuO",
        "outputId": "436063e4-c31b-4ae6-b768-699d185d5425"
      },
      "execution_count": 141,
      "outputs": [
        {
          "output_type": "execute_result",
          "data": {
            "text/plain": [
              "count      29958.000000\n",
              "mean      167555.900928\n",
              "std       129737.299088\n",
              "min        10000.000000\n",
              "25%        50000.000000\n",
              "50%       140000.000000\n",
              "75%       240000.000000\n",
              "max      1000000.000000\n",
              "Name: Monto_prestamo, dtype: float64"
            ]
          },
          "metadata": {},
          "execution_count": 141
        }
      ]
    },
    {
      "cell_type": "code",
      "source": [
        "import matplotlib.pyplot as plt\n",
        "#fig = plt.figure(figsize =(10, 7))\n",
        " \n",
        "# Creando box-plot para la variable Monto préstamo\n",
        "plt.boxplot(datos.Monto_prestamo)\n",
        " \n",
        "# show plot\n",
        "plt.show()"
      ],
      "metadata": {
        "colab": {
          "base_uri": "https://localhost:8080/",
          "height": 276
        },
        "id": "8qguhZnO1zHt",
        "outputId": "294166da-714c-4d61-e5c2-70cc57d80643"
      },
      "execution_count": 157,
      "outputs": [
        {
          "output_type": "display_data",
          "data": {
            "text/plain": [
              "<Figure size 432x288 with 1 Axes>"
            ],
            "image/png": "[encoded data removed]"
          },
          "metadata": {
            "needs_background": "light"
          }
        }
      ]
    },
    {
      "cell_type": "code",
      "source": [
        "#Histograma de la variable Monto_prestamo\n",
        "plt.hist(datos.Monto_prestamo,bins=10)\n",
        "plt.show()"
      ],
      "metadata": {
        "colab": {
          "base_uri": "https://localhost:8080/",
          "height": 278
        },
        "id": "ja2G5Q8b2gFZ",
        "outputId": "01d6beff-6efa-4e7c-e53a-2f6a0b42c7c0"
      },
      "execution_count": 161,
      "outputs": [
        {
          "output_type": "display_data",
          "data": {
            "text/plain": [
              "<Figure size 432x288 with 1 Axes>"
            ],
            "image/png": "[encoded data removed]"
          },
          "metadata": {
            "needs_background": "light"
          }
        }
      ]
    },
    {
      "cell_type": "code",
      "source": [
        "datos.Y.describe() #Tasa de impago ~ 22%"
      ],
      "metadata": {
        "colab": {
          "base_uri": "https://localhost:8080/"
        },
        "id": "l197qRHvpuhB",
        "outputId": "595cdfdf-f02b-421f-8095-10fb3c4e8a39"
      },
      "execution_count": 142,
      "outputs": [
        {
          "output_type": "execute_result",
          "data": {
            "text/plain": [
              "count    29958.000000\n",
              "mean         0.221143\n",
              "std          0.415023\n",
              "min          0.000000\n",
              "25%          0.000000\n",
              "50%          0.000000\n",
              "75%          0.000000\n",
              "max          1.000000\n",
              "Name: Y, dtype: float64"
            ]
          },
          "metadata": {},
          "execution_count": 142
        }
      ]
    },
    {
      "cell_type": "code",
      "source": [
        "datos['Género'].value_counts()/datos.shape[0] #Casi el 40% de la población son hombres"
      ],
      "metadata": {
        "colab": {
          "base_uri": "https://localhost:8080/"
        },
        "id": "k2yWILZfp5FL",
        "outputId": "028c9315-75a9-4b07-e559-a065bcc98184"
      },
      "execution_count": 143,
      "outputs": [
        {
          "output_type": "execute_result",
          "data": {
            "text/plain": [
              "2.0    0.604012\n",
              "1.0    0.395988\n",
              "Name: Género, dtype: float64"
            ]
          },
          "metadata": {},
          "execution_count": 143
        }
      ]
    },
    {
      "cell_type": "code",
      "source": [
        "datos['Educacion'].value_counts()/datos.shape[0]\n",
        "#~80% cuentan con estudios al menos universitarios (esta variable en su momento la podríamos agrupar),\n",
        "#así como entender algunos valores como 5,6 y 0 ya que no están considerados en el catálogo de datos"
      ],
      "metadata": {
        "colab": {
          "base_uri": "https://localhost:8080/"
        },
        "id": "XWZBoBBhqzMM",
        "outputId": "870f84b1-1fd2-463c-c56d-92c4b34ce283"
      },
      "execution_count": 93,
      "outputs": [
        {
          "output_type": "execute_result",
          "data": {
            "text/plain": [
              "2.0    0.467621\n",
              "1.0    0.352894\n",
              "3.0    0.163863\n",
              "5.0    0.009346\n",
              "4.0    0.004106\n",
              "6.0    0.001702\n",
              "0.0    0.000467\n",
              "Name: Educacion, dtype: float64"
            ]
          },
          "metadata": {},
          "execution_count": 93
        }
      ]
    },
    {
      "cell_type": "code",
      "source": [
        "datos['Edo_Civil'].value_counts()/datos.shape[0] #Entender los valores 0, hacemos un ejercicio de agrupación para eliminar ruido"
      ],
      "metadata": {
        "colab": {
          "base_uri": "https://localhost:8080/"
        },
        "id": "HmxRai1Lo-5X",
        "outputId": "8239910b-1a7c-45c2-dd6d-f248b166604d"
      },
      "execution_count": 105,
      "outputs": [
        {
          "output_type": "execute_result",
          "data": {
            "text/plain": [
              "2.0    0.532133\n",
              "1.0    0.455233\n",
              "3.0    0.010767\n",
              "0.0    0.001800\n",
              "Name: Edo_Civil, dtype: float64"
            ]
          },
          "metadata": {},
          "execution_count": 105
        }
      ]
    },
    {
      "cell_type": "code",
      "source": [
        "datos['Edo_Civil'] = datos['Edo_Civil'].map({2:2, 1:1, 3:3,0:3}) #En este caso los valores originales de Edo_Civil=0 se sustituiran con el valor 3 que es \"Otros\"\n",
        "datos['Edo_Civil'].value_counts()/datos.shape[0]"
      ],
      "metadata": {
        "colab": {
          "base_uri": "https://localhost:8080/"
        },
        "id": "mxQppydarurQ",
        "outputId": "9e517e98-ff36-42be-e8c6-22b60e52eb85"
      },
      "execution_count": 144,
      "outputs": [
        {
          "output_type": "execute_result",
          "data": {
            "text/plain": [
              "2    0.532045\n",
              "1    0.455404\n",
              "3    0.012551\n",
              "Name: Edo_Civil, dtype: float64"
            ]
          },
          "metadata": {},
          "execution_count": 144
        }
      ]
    },
    {
      "cell_type": "markdown",
      "source": [
        "**¿Qué datos considero mas importantes? ¿Por qué?**\n",
        "- Con base en la explicación del catálogo, es un modelo que buscará predecir la probabilidad de incumplimiento, intuitivamente las variables transaccionales y en menor medida las socio demográficas aportarán algún valor de predictibilidad\n",
        "\n",
        "\n",
        "**¿Se eliminaron o reemplazaron datos nulos? ¿Qué se hizo y por qué?**\n",
        "- La base de datos original tiene 30 mil regitros, eliminando todas aquellos registros que contengan al menos 1 valor nulo estaríamos perdiendo 44 registros que es menos del 0.5% de la muestra, por lo tanto se eliminaron para este caso en particular.\n",
        "\n",
        "**¿Es necesario limpiar los datos para el análisis? Sí / No / ¿Por qué?**\n",
        "Sí, al realizar un primer análisis exploratorio para familiarizarnos con la base de datos encontramos evidencia que de acuerdo al catálogo de datos hay algunos valores que aparecen en la base de datos que no están considerados en el catálogo, ejemplo para la variable estado civil, la base de datos tiene valores con \"0\" con 4 observaciones, dicho valor NO está declarado en el diccionario que se nos compartió\n",
        "\n",
        "**¿Existen problemas de formato que deban solucionar antes del proceso de modelado? Sí / No / Por qué.**\n",
        "Parecería que NO existen problemas mayores de formato, después de poder identificar las variables numéricas nominales y las variables ordinales\n",
        "\n",
        "**¿Qué ajustes se realizaron en el proceso de limpieza de datos (agregar, integrar, eliminar, modificar registros (filas), cambiar atributos (columnas)?**\n",
        "\n",
        "1.   Se eliminar 42 registros (~0.14% de la base de datos por contar con al menos missing\n",
        "2.   Para los registros completos, algunos valores se agruparon con \"otros\" dado que no estaban definidos en el catálogo enviado\n",
        "3.   Para algunas variables numéricas revisar si los valores capturados son atípicos para realizar alguna corrección o evaluar eliminar / acotar lo largo de las colas de distribución\n"
      ],
      "metadata": {
        "id": "j5eBoH02zKR8"
      }
    }
  ]
}